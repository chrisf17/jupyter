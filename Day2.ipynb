{
  "nbformat": 4,
  "nbformat_minor": 0,
  "metadata": {
    "colab": {
      "name": "Day2.ipynb",
      "version": "0.3.2",
      "provenance": [],
      "collapsed_sections": [
        "Wi1CGOHaZQrx",
        "uOlMfMOibDS5",
        "y2u4BQmS7bD_",
        "swGpL_zBNdc_",
        "xtRPgS7hoei6",
        "Cipp1H-Po1qh",
        "iDtqCPNW1xO0",
        "TDdVag6bcxxF",
        "F6aZSmzSe7OS",
        "zME0YohhrX2Y",
        "FAb_jolniqt9",
        "Ia8lGwRJlTo2",
        "atbRr-7rqoMJ",
        "EdXf65t4vFkV",
        "0k5swlBzSyP_"
      ],
      "include_colab_link": true
    },
    "kernelspec": {
      "name": "python3",
      "display_name": "Python 3"
    }
  },
  "cells": [
    {
      "cell_type": "markdown",
      "metadata": {
        "id": "view-in-github",
        "colab_type": "text"
      },
      "source": [
        "<a href=\"https://colab.research.google.com/github/chrisf17/jupyter/blob/master/Day2.ipynb\" target=\"_parent\"><img src=\"https://colab.research.google.com/assets/colab-badge.svg\" alt=\"Open In Colab\"/></a>"
      ]
    },
    {
      "metadata": {
        "id": "YFGnRlU5XIOC",
        "colab_type": "text"
      },
      "cell_type": "markdown",
      "source": [
        "#Strings\n"
      ]
    },
    {
      "metadata": {
        "id": "MW3tvYTIu-De",
        "colab_type": "text"
      },
      "cell_type": "markdown",
      "source": [
        "##Creating\n",
        "Strings in Python 3 are collections of unicode characters\n",
        "\n"
      ]
    },
    {
      "metadata": {
        "id": "FVbYmWLavwyL",
        "colab_type": "text"
      },
      "cell_type": "markdown",
      "source": [
        "### Defining a literal immutable string\n",
        "\n",
        "Strings in Python are immutable which means once defined they dont change\n",
        "\n"
      ]
    },
    {
      "metadata": {
        "id": "dEeW1gU-W7fq",
        "colab_type": "code",
        "colab": {}
      },
      "cell_type": "code",
      "source": [
        "message = \"The quick fox jumbed over the fence\""
      ],
      "execution_count": 0,
      "outputs": []
    },
    {
      "metadata": {
        "id": "aw1ug4x76nQQ",
        "colab_type": "text"
      },
      "cell_type": "markdown",
      "source": [
        "Strings can be joined to each other"
      ]
    },
    {
      "metadata": {
        "id": "R0arOcts6qxc",
        "colab_type": "code",
        "outputId": "0d2e436a-b79f-4501-b54a-67c9b52e1aed",
        "colab": {
          "base_uri": "https://localhost:8080/",
          "height": 34
        }
      },
      "cell_type": "code",
      "source": [
        "name = \"Fred\"\n",
        "greeting = \"Hello\"\n",
        "message = greeting + \" \" + name\n",
        "print(message)"
      ],
      "execution_count": 0,
      "outputs": [
        {
          "output_type": "stream",
          "text": [
            "Hello Fred\n"
          ],
          "name": "stdout"
        }
      ]
    },
    {
      "metadata": {
        "id": "w-E2eOSv65hS",
        "colab_type": "text"
      },
      "cell_type": "markdown",
      "source": [
        "Strings can be repeated - Try this, it gives a surprising result"
      ]
    },
    {
      "metadata": {
        "id": "PpiGDcWW64uA",
        "colab_type": "code",
        "outputId": "41510ac4-37a8-4b30-a1ec-0bfeed95d7a4",
        "colab": {
          "base_uri": "https://localhost:8080/",
          "height": 34
        }
      },
      "cell_type": "code",
      "source": [
        "\"Hello \" * 5"
      ],
      "execution_count": 0,
      "outputs": [
        {
          "output_type": "execute_result",
          "data": {
            "text/plain": [
              "'Hello Hello Hello Hello Hello '"
            ]
          },
          "metadata": {
            "tags": []
          },
          "execution_count": 1
        }
      ]
    },
    {
      "metadata": {
        "id": "gkFNI63gXsNn",
        "colab_type": "text"
      },
      "cell_type": "markdown",
      "source": [
        "It's also possible to refer to individual unicode characters by character code"
      ]
    },
    {
      "metadata": {
        "id": "hqXZ_uIbX1vt",
        "colab_type": "code",
        "outputId": "6e00dd27-9798-47f4-8296-a18ecac3db39",
        "colab": {
          "base_uri": "https://localhost:8080/",
          "height": 51
        }
      },
      "cell_type": "code",
      "source": [
        "euro = \"\\u20ac\"\n",
        "print(euro)\n",
        "euro = \"\\N{euro sign}\"\n",
        "print(euro)"
      ],
      "execution_count": 0,
      "outputs": [
        {
          "output_type": "stream",
          "text": [
            "€\n",
            "€\n"
          ],
          "name": "stdout"
        }
      ]
    },
    {
      "metadata": {
        "id": "_rG-YTFQZYmD",
        "colab_type": "text"
      },
      "cell_type": "markdown",
      "source": [
        "Special character or Escape Sequences can be included in your strings.\n",
        "\n",
        "\\n Newline\n",
        "\n",
        "\\t Tab\n",
        "\n",
        "\\\\ Backslash\n",
        "\n",
        "\\\" Quote\n",
        "\n",
        "etc"
      ]
    },
    {
      "metadata": {
        "id": "AZJn-0MLZYHo",
        "colab_type": "code",
        "outputId": "dd212ca9-4430-4d88-be20-47461f3e452e",
        "colab": {
          "base_uri": "https://localhost:8080/",
          "height": 51
        }
      },
      "cell_type": "code",
      "source": [
        "message = \"Hello \\n world\"\n",
        "print(message)"
      ],
      "execution_count": 0,
      "outputs": [
        {
          "output_type": "stream",
          "text": [
            "Hello \n",
            " world\n"
          ],
          "name": "stdout"
        }
      ]
    },
    {
      "metadata": {
        "id": "MJGZ0ylpZ4J_",
        "colab_type": "text"
      },
      "cell_type": "markdown",
      "source": [
        "#### Raw Strings\n",
        "Treat the string as raw by prefixing it with \"r\". Escpe sequences will be treated as literal values and not interpreted"
      ]
    },
    {
      "metadata": {
        "id": "Ple9oHpaaEP4",
        "colab_type": "code",
        "outputId": "7475921b-4869-4972-a89b-2c262b0d5853",
        "colab": {
          "base_uri": "https://localhost:8080/",
          "height": 34
        }
      },
      "cell_type": "code",
      "source": [
        "message = r\"Hello \\n world\"\n",
        "print(message)"
      ],
      "execution_count": 0,
      "outputs": [
        {
          "output_type": "stream",
          "text": [
            "Hello \\n world\n"
          ],
          "name": "stdout"
        }
      ]
    },
    {
      "metadata": {
        "id": "8bTzom8i8U9a",
        "colab_type": "text"
      },
      "cell_type": "markdown",
      "source": [
        "## Strings are objects and object have methods\n",
        "Based on the str class and so have useful functions that we can use to manipulate existing strings to create new ones\n",
        "\n",
        "\n",
        "\n",
        "\n",
        "\n",
        "\n",
        "\n",
        "\n",
        "\n",
        "\n",
        "\n",
        "\n",
        "\n",
        "\n",
        "\n",
        "\n",
        "\n",
        "\n",
        "\n",
        "\n",
        "\n",
        "\n",
        "\n",
        "\n",
        "\n",
        "\n",
        "\n",
        "\n",
        "\n",
        "\n",
        "\n",
        "\n",
        "\n",
        "\n",
        "\n",
        "\n",
        "\n",
        "\n",
        "\n",
        "\n",
        "\n",
        "\n",
        "\n",
        "\n",
        "\n",
        "\n",
        "\n",
        "\n",
        "\n",
        "\n",
        "\n",
        "\n",
        "\n",
        "\n",
        "\n",
        "\n",
        "\n",
        "\n",
        "\n",
        "\n",
        "\n",
        "\n",
        "\n",
        "\n",
        "\n",
        "\n",
        "\n",
        "\n",
        "\n",
        "\n",
        "\n",
        "\n",
        "\n",
        "\n",
        "\n",
        "\n",
        "\n",
        "\n",
        "\n"
      ]
    },
    {
      "metadata": {
        "id": "_t3s9lfdYyBi",
        "colab_type": "code",
        "outputId": "7243098c-bb17-4acc-f0c0-cc045bd5e4ee",
        "colab": {
          "base_uri": "https://localhost:8080/",
          "height": 34
        }
      },
      "cell_type": "code",
      "source": [
        "message = \"No need to shout\"\n",
        "second_message = message.upper()\n",
        "print(second_message)"
      ],
      "execution_count": 0,
      "outputs": [
        {
          "output_type": "stream",
          "text": [
            "NO NEED TO SHOUT\n"
          ],
          "name": "stdout"
        }
      ]
    },
    {
      "metadata": {
        "id": "Wi1CGOHaZQrx",
        "colab_type": "text"
      },
      "cell_type": "markdown",
      "source": [
        "###To find the position of one string in another use find"
      ]
    },
    {
      "metadata": {
        "id": "SWJ6zvrmZYEY",
        "colab_type": "code",
        "outputId": "86ff87b8-183c-4bbf-be2e-54fa94e87616",
        "colab": {
          "base_uri": "https://localhost:8080/",
          "height": 34
        }
      },
      "cell_type": "code",
      "source": [
        "\n",
        "message = \"The clever fox jumped over the fence\"\n",
        "pos = message.find(\"fox\")\n",
        "print(pos)\n"
      ],
      "execution_count": 0,
      "outputs": [
        {
          "output_type": "stream",
          "text": [
            "11\n"
          ],
          "name": "stdout"
        }
      ]
    },
    {
      "metadata": {
        "id": "uOlMfMOibDS5",
        "colab_type": "text"
      },
      "cell_type": "markdown",
      "source": [
        "###Replace one string with another"
      ]
    },
    {
      "metadata": {
        "id": "kXdQzzm3bH0_",
        "colab_type": "code",
        "outputId": "d6767c17-85a4-46f5-fcad-231f54090bdb",
        "colab": {
          "base_uri": "https://localhost:8080/",
          "height": 34
        }
      },
      "cell_type": "code",
      "source": [
        "message = \"The clever fox jumped over the fence\"\n",
        "message.replace(\"fox\", \"cat\")"
      ],
      "execution_count": 0,
      "outputs": [
        {
          "output_type": "execute_result",
          "data": {
            "text/plain": [
              "'The clever cat jumped over the fence'"
            ]
          },
          "metadata": {
            "tags": []
          },
          "execution_count": 3
        }
      ]
    },
    {
      "metadata": {
        "id": "y2u4BQmS7bD_",
        "colab_type": "text"
      },
      "cell_type": "markdown",
      "source": [
        "## Formatting Strings\n",
        "\n",
        "Joining data together to form a string can become complicated and buggy"
      ]
    },
    {
      "metadata": {
        "id": "Dkype8aFE9ps",
        "colab_type": "code",
        "outputId": "597ec6be-645a-4d46-b29b-707835c9f7b7",
        "colab": {
          "base_uri": "https://localhost:8080/",
          "height": 34
        }
      },
      "cell_type": "code",
      "source": [
        "name = \"Mina\"\n",
        "device = \"iPhone\"\n",
        "selling_price = 129.98727\n",
        "\n",
        "# Dubious?\n",
        "name + \" wants to sell her \" + device + \" for \" + str(selling_price)\n"
      ],
      "execution_count": 0,
      "outputs": [
        {
          "output_type": "execute_result",
          "data": {
            "text/plain": [
              "'Mina wants to sell her iPhone for 129.98727'"
            ]
          },
          "metadata": {
            "tags": []
          },
          "execution_count": 4
        }
      ]
    },
    {
      "metadata": {
        "id": "ccgTJExUGhuD",
        "colab_type": "text"
      },
      "cell_type": "markdown",
      "source": [
        "String formatting aims to reduce the comlexity"
      ]
    },
    {
      "metadata": {
        "id": "SJI2jr6AGrV_",
        "colab_type": "code",
        "outputId": "aca2b9db-269d-4994-85f1-1bd62cbcb56f",
        "colab": {
          "base_uri": "https://localhost:8080/",
          "height": 34
        }
      },
      "cell_type": "code",
      "source": [
        "name = \"Mina\"\n",
        "device = \"iPhone\"\n",
        "selling_price = 129.98727\n",
        "\n",
        "\"{0} wants to sell her {1} for {2}\".format(name, device, selling_price)"
      ],
      "execution_count": 0,
      "outputs": [
        {
          "output_type": "execute_result",
          "data": {
            "text/plain": [
              "'Mina wants to sell her iPhone for 129.98727'"
            ]
          },
          "metadata": {
            "tags": []
          },
          "execution_count": 5
        }
      ]
    },
    {
      "metadata": {
        "id": "S3UE7fVAM-Di",
        "colab_type": "text"
      },
      "cell_type": "markdown",
      "source": [
        "where {0}, {1} and {2} are placeholders that will be replaced by the data stored in name, device and selling_price"
      ]
    },
    {
      "metadata": {
        "id": "swGpL_zBNdc_",
        "colab_type": "text"
      },
      "cell_type": "markdown",
      "source": [
        "###Field Formatting\n",
        "Each insertion point can be formatted using the following syntax\n",
        "\n",
        "{ position : fill align sign # 0 width . precision type }\n"
      ]
    },
    {
      "metadata": {
        "id": "QL9yqtdzI8NW",
        "colab_type": "code",
        "outputId": "13779b0f-d9a8-4975-b341-bc4a4fbc8d2b",
        "colab": {
          "base_uri": "https://localhost:8080/",
          "height": 34
        }
      },
      "cell_type": "code",
      "source": [
        "# Within a space of 15 chars center (^) the data, fills he gaps with * chars and \n",
        "# treat the data as a strin (s)\n",
        "\"{0:*^15s}\".format(\"Hello\")"
      ],
      "execution_count": 0,
      "outputs": [
        {
          "output_type": "execute_result",
          "data": {
            "text/plain": [
              "'*****Hello*****'"
            ]
          },
          "metadata": {
            "tags": []
          },
          "execution_count": 2
        }
      ]
    },
    {
      "metadata": {
        "id": "iMWaICA7f7pN",
        "colab_type": "text"
      },
      "cell_type": "markdown",
      "source": [
        "fill - Can be any character above we a re using a *\n",
        "\n",
        "align - < for left align, ^ center align, > right align\n",
        "\n",
        "sign - + forces numbers to be displayed either with a + for positive or - for negative numbers\n",
        "\n",
        "\\# or 0 - pads numbers with spaces or zeroes\n",
        "\n",
        "width - determines the field size to be presented in characters (can align within this space)\n",
        "\n",
        ".precision - how many decimal places\n",
        "\n",
        "type - d for int, s for string, f for float (see documentation for more)\n",
        "\n"
      ]
    },
    {
      "metadata": {
        "id": "9M47NTvJgnFN",
        "colab_type": "code",
        "outputId": "31ff14e1-6e07-4e48-f65f-d9735f6ef5cb",
        "colab": {
          "base_uri": "https://localhost:8080/",
          "height": 52
        }
      },
      "cell_type": "code",
      "source": [
        "print(\"{0:#8d}\".format(23))\n",
        "print(\"{0:08d}\".format(23))\n"
      ],
      "execution_count": 0,
      "outputs": [
        {
          "output_type": "stream",
          "text": [
            "      23\n",
            "00000023\n"
          ],
          "name": "stdout"
        }
      ]
    },
    {
      "metadata": {
        "id": "iJgTjAxhkNUU",
        "colab_type": "text"
      },
      "cell_type": "markdown",
      "source": [
        "Here is a float formatted to two decimal points"
      ]
    },
    {
      "metadata": {
        "id": "H0fBVnG7kaLm",
        "colab_type": "code",
        "outputId": "524f303c-70fa-4d8e-9d39-9c27c0d8727e",
        "colab": {
          "base_uri": "https://localhost:8080/",
          "height": 34
        }
      },
      "cell_type": "code",
      "source": [
        "\"{0:^15.2f}\".format(128.872626)"
      ],
      "execution_count": 0,
      "outputs": [
        {
          "output_type": "execute_result",
          "data": {
            "text/plain": [
              "'    128.87     '"
            ]
          },
          "metadata": {
            "tags": []
          },
          "execution_count": 20
        }
      ]
    },
    {
      "metadata": {
        "id": "xtRPgS7hoei6",
        "colab_type": "text"
      },
      "cell_type": "markdown",
      "source": [
        "###Format Strings (introduced in Python 3.6) make life a little easier again\n",
        "\n",
        "Just prefix your string with an f\n",
        "\n",
        "The variables container with {} will be substituted."
      ]
    },
    {
      "metadata": {
        "id": "UICATAlhotn6",
        "colab_type": "code",
        "outputId": "e9d4e780-dfb7-47a4-c9f4-67e8392330b6",
        "colab": {
          "base_uri": "https://localhost:8080/",
          "height": 34
        }
      },
      "cell_type": "code",
      "source": [
        "name = \"Mina\"\n",
        "device = \"iPhone\"\n",
        "selling_price = 129.98727\n",
        "\n",
        "f\"{name} wants to sell her {device} for {selling_price}\""
      ],
      "execution_count": 0,
      "outputs": [
        {
          "output_type": "execute_result",
          "data": {
            "text/plain": [
              "'Mina wants to sell her iPhone for 129.98727'"
            ]
          },
          "metadata": {
            "tags": []
          },
          "execution_count": 7
        }
      ]
    },
    {
      "metadata": {
        "id": "Cipp1H-Po1qh",
        "colab_type": "text"
      },
      "cell_type": "markdown",
      "source": [
        "## Slicing Strings\n",
        "#### Strings are treated by Python a collections or liists of characters. Each character can be accessed by position\n"
      ]
    },
    {
      "metadata": {
        "id": "vELBf4LJpgtP",
        "colab_type": "text"
      },
      "cell_type": "markdown",
      "source": [
        "Positive numbers will access characters from the left side of the string starting with the first character at character position 0\n",
        "\n",
        "\n",
        "The code below will print the first let \"H\" of Hello World\n"
      ]
    },
    {
      "metadata": {
        "id": "fxac0U_TovFk",
        "colab_type": "code",
        "outputId": "c2be8a46-eaea-4920-a28c-57af1c21bdda",
        "colab": {
          "base_uri": "https://localhost:8080/",
          "height": 34
        }
      },
      "cell_type": "code",
      "source": [
        "message = \"Hello World\"\n",
        "print(message[0])"
      ],
      "execution_count": 0,
      "outputs": [
        {
          "output_type": "stream",
          "text": [
            "H\n"
          ],
          "name": "stdout"
        }
      ]
    },
    {
      "metadata": {
        "id": "0oJmNPBkqN_D",
        "colab_type": "text"
      },
      "cell_type": "markdown",
      "source": [
        "Characters can also be retrieved from the right side of a string using negative numbers starting with -1 which refers to the rightmost character. Increasing negative numbers retrieves characters further to the right within the string.\n",
        "\n",
        "\n",
        "The code below prints **d** followed by **l**"
      ]
    },
    {
      "metadata": {
        "id": "NeCdLDl5qosB",
        "colab_type": "code",
        "outputId": "66060014-0d06-4926-d1c9-70b53d8dd4a5",
        "colab": {
          "base_uri": "https://localhost:8080/",
          "height": 34
        }
      },
      "cell_type": "code",
      "source": [
        "message = \"Hello World\"\n",
        "print(message[-1], message[-2])"
      ],
      "execution_count": 0,
      "outputs": [
        {
          "output_type": "stream",
          "text": [
            "d l\n"
          ],
          "name": "stdout"
        }
      ]
    },
    {
      "metadata": {
        "id": "iDtqCPNW1xO0",
        "colab_type": "text"
      },
      "cell_type": "markdown",
      "source": [
        "####Character Ranges\n",
        "As well as accessing individual characters you can also access a range of characters from the target string\n"
      ]
    },
    {
      "metadata": {
        "id": "3Yq6dIyr2xdJ",
        "colab_type": "text"
      },
      "cell_type": "markdown",
      "source": [
        "Below we are accessing characters starting from character zero (or T) upto but not including the character at position 4 (or c)"
      ]
    },
    {
      "metadata": {
        "id": "hlkXEj1N2HU8",
        "colab_type": "code",
        "colab": {}
      },
      "cell_type": "code",
      "source": [
        "message = \"The clever fox jumped over the fence\"\n",
        "sub_str = message[0:4]\n",
        "print(sub_str)"
      ],
      "execution_count": 0,
      "outputs": []
    },
    {
      "metadata": {
        "id": "SXFtQf-WM6Km",
        "colab_type": "text"
      },
      "cell_type": "markdown",
      "source": [
        "# Collections\n",
        "\n",
        "Collections allow more than one piece of data to be stored in a variable at one time\n",
        "\n",
        "## Lists\n",
        "\n",
        "In Python lists store data in sequences that are accessible via unique indexes.\n",
        "\n",
        "Lists are defined using [ ] and can either be empty as [ ] or contain comma seperated values [12, 33, 23, 22 ]\n"
      ]
    },
    {
      "metadata": {
        "id": "t2GQ41ZBxG6L",
        "colab_type": "text"
      },
      "cell_type": "markdown",
      "source": [
        "To simply define an empty list you would write the following"
      ]
    },
    {
      "metadata": {
        "id": "GYLFByefxGSH",
        "colab_type": "code",
        "outputId": "40fdb05e-61bd-425c-823e-7aab756144ad",
        "colab": {
          "base_uri": "https://localhost:8080/",
          "height": 34
        }
      },
      "cell_type": "code",
      "source": [
        "names = [] # or\n",
        "names = list()\n",
        "names"
      ],
      "execution_count": 0,
      "outputs": [
        {
          "output_type": "execute_result",
          "data": {
            "text/plain": [
              "[]"
            ]
          },
          "metadata": {
            "tags": []
          },
          "execution_count": 12
        }
      ]
    },
    {
      "metadata": {
        "id": "lsUYgRA9xeI-",
        "colab_type": "text"
      },
      "cell_type": "markdown",
      "source": [
        "To initialise a list with data write:"
      ]
    },
    {
      "metadata": {
        "id": "i_a4_CWDb2B5",
        "colab_type": "code",
        "colab": {}
      },
      "cell_type": "code",
      "source": [
        "names = [\"Fred\", \"Mina\", \"Bob\", \"Tam\"]\n",
        "print(names)"
      ],
      "execution_count": 0,
      "outputs": []
    },
    {
      "metadata": {
        "id": "TDdVag6bcxxF",
        "colab_type": "text"
      },
      "cell_type": "markdown",
      "source": [
        "## List Indexing\n",
        "Lists are indexed in an identical way to strings\n",
        "\n",
        "Positive numbers will access items from the left side of the list starting with the first item at position 0"
      ]
    },
    {
      "metadata": {
        "id": "n_kSCJMbce7C",
        "colab_type": "code",
        "outputId": "4bf35de2-dc04-4026-aaf1-66f234be927c",
        "colab": {
          "base_uri": "https://localhost:8080/",
          "height": 34
        }
      },
      "cell_type": "code",
      "source": [
        "names = [\"Fred\", \"Mina\", \"Bob\", \"Tam\"]\n",
        "first = names[0]\n",
        "last =  names [-1]\n",
        "print(first, last)"
      ],
      "execution_count": 0,
      "outputs": [
        {
          "output_type": "stream",
          "text": [
            "Fred Tam\n"
          ],
          "name": "stdout"
        }
      ]
    },
    {
      "metadata": {
        "id": "Lmb0D7qxqyuP",
        "colab_type": "code",
        "colab": {}
      },
      "cell_type": "code",
      "source": [
        "####List Slicing\n",
        "\n",
        "Lists can be sliced in a similar way to strings with [from:upto(not including)] syntax"
      ],
      "execution_count": 0,
      "outputs": []
    },
    {
      "metadata": {
        "id": "tXHN_AeqrSFT",
        "colab_type": "code",
        "outputId": "1fc116ee-cc2e-4873-d2e7-bd448cd76294",
        "colab": {
          "base_uri": "https://localhost:8080/",
          "height": 34
        }
      },
      "cell_type": "code",
      "source": [
        "names = [\"Fred\", \"Mina\", \"Bob\", \"Tam\"]\n",
        "names[0:3] # Starting with item at position 0 upto not including item at position 3"
      ],
      "execution_count": 0,
      "outputs": [
        {
          "output_type": "execute_result",
          "data": {
            "text/plain": [
              "['Fred', 'Mina', 'Bob']"
            ]
          },
          "metadata": {
            "tags": []
          },
          "execution_count": 8
        }
      ]
    },
    {
      "metadata": {
        "id": "_QqwqmLTr9L6",
        "colab_type": "text"
      },
      "cell_type": "markdown",
      "source": [
        "Checking Membership with in"
      ]
    },
    {
      "metadata": {
        "id": "kaCNDnvOr8j8",
        "colab_type": "code",
        "outputId": "b6e8f943-8ecf-4796-996e-6e4e2a8750cf",
        "colab": {
          "base_uri": "https://localhost:8080/",
          "height": 34
        }
      },
      "cell_type": "code",
      "source": [
        "\"Bob\" in [\"Fred\", \"Mina\", \"Bob\", \"Tam\"]"
      ],
      "execution_count": 0,
      "outputs": [
        {
          "output_type": "execute_result",
          "data": {
            "text/plain": [
              "True"
            ]
          },
          "metadata": {
            "tags": []
          },
          "execution_count": 10
        }
      ]
    },
    {
      "metadata": {
        "id": "YOF6fIhswzPC",
        "colab_type": "text"
      },
      "cell_type": "markdown",
      "source": [
        "## Modifying Lists\n",
        "\n",
        "Lists are mutable types and so can be changed"
      ]
    },
    {
      "metadata": {
        "id": "N6DCym-yuuBb",
        "colab_type": "code",
        "outputId": "c23c9e2b-1a4b-48b9-de97-ef8f5097570c",
        "colab": {
          "base_uri": "https://localhost:8080/",
          "height": 34
        }
      },
      "cell_type": "code",
      "source": [
        "names = [\"Fred\", \"Mina\", \"Bob\", \"Tam\"]\n",
        "names[1] = \"Raz\"\n",
        "print(names)"
      ],
      "execution_count": 0,
      "outputs": [
        {
          "output_type": "stream",
          "text": [
            "['Fred', 'Raz', 'Bob', 'Tam']\n"
          ],
          "name": "stdout"
        }
      ]
    },
    {
      "metadata": {
        "id": "qJAN5v6aWTgg",
        "colab_type": "text"
      },
      "cell_type": "markdown",
      "source": [
        "You can also add to the end of list using **append**"
      ]
    },
    {
      "metadata": {
        "id": "kQWbVUqHWXzY",
        "colab_type": "code",
        "outputId": "a92982c5-6023-483e-b406-039f58390d61",
        "colab": {
          "base_uri": "https://localhost:8080/",
          "height": 34
        }
      },
      "cell_type": "code",
      "source": [
        "names = [\"Fred\", \"Mina\", \"Bob\", \"Tam\"]\n",
        "names.append(\"Suzy\")\n",
        "names.append(\"James\")\n",
        "print(names)\n"
      ],
      "execution_count": 0,
      "outputs": [
        {
          "output_type": "stream",
          "text": [
            "['Fred', 'Mina', 'Bob', 'Tam', 'Suzy', 'James']\n"
          ],
          "name": "stdout"
        }
      ]
    },
    {
      "metadata": {
        "id": "TVKUSM8KWyCb",
        "colab_type": "text"
      },
      "cell_type": "markdown",
      "source": [
        "To add multiple items to the end of a lis either use **+= or extend**"
      ]
    },
    {
      "metadata": {
        "id": "GZfnmT1GW6od",
        "colab_type": "code",
        "outputId": "c1e05bed-6441-4c71-b6e8-da0f99dc9821",
        "colab": {
          "base_uri": "https://localhost:8080/",
          "height": 52
        }
      },
      "cell_type": "code",
      "source": [
        "names = [\"Fred\", \"Mina\", \"Bob\", \"Tam\"]\n",
        "names += [\"Suzy\", \"James\"]\n",
        "print(names)\n",
        "\n",
        "names.extend([\"Simon\", \"Bez\"])\n",
        "print(names)\n"
      ],
      "execution_count": 0,
      "outputs": [
        {
          "output_type": "stream",
          "text": [
            "['Fred', 'Mina', 'Bob', 'Tam', 'Suzy', 'James']\n",
            "['Fred', 'Mina', 'Bob', 'Tam', 'Suzy', 'James', 'Simon', 'Bez']\n"
          ],
          "name": "stdout"
        }
      ]
    },
    {
      "metadata": {
        "id": "Y-E1N37jKsaA",
        "colab_type": "text"
      },
      "cell_type": "markdown",
      "source": [
        "To replace items in a list use ranges.\n",
        "\n",
        "Here we are replacing list items 1:4 which is 1 thru 3 (not including 4) with [\"Simon\", \"Bez\"]"
      ]
    },
    {
      "metadata": {
        "id": "-DdUpOlzKwQe",
        "colab_type": "code",
        "outputId": "5a95f3fc-5a9d-4a11-dc66-3726a1994180",
        "colab": {
          "base_uri": "https://localhost:8080/",
          "height": 52
        }
      },
      "cell_type": "code",
      "source": [
        "names = [\"Fred\", \"Mina\", \"Bob\", \"Suzy\", \"Tam\"]\n",
        "print(names)\n",
        "names[1:4] = [\"Simon\", \"Bez\"]\n",
        "print(names)\n"
      ],
      "execution_count": 0,
      "outputs": [
        {
          "output_type": "stream",
          "text": [
            "['Fred', 'Mina', 'Bob', 'Suzy', 'Tam']\n",
            "['Fred', 'Simon', 'Bez', 'Tam']\n"
          ],
          "name": "stdout"
        }
      ]
    },
    {
      "metadata": {
        "id": "w1MUabSPHXw-",
        "colab_type": "text"
      },
      "cell_type": "markdown",
      "source": [
        "To insert to a specific location use **insert**"
      ]
    },
    {
      "metadata": {
        "id": "cHkkEArfZ6Tg",
        "colab_type": "code",
        "colab": {}
      },
      "cell_type": "code",
      "source": [
        "names = [\"Fred\", \"Mina\", \"Bob\", \"Tam\"]\n",
        "print(names)\n",
        "names.insert(1, \"Bez\")\n",
        "print(names)"
      ],
      "execution_count": 0,
      "outputs": []
    },
    {
      "metadata": {
        "id": "XSjd6s1bJkdZ",
        "colab_type": "text"
      },
      "cell_type": "markdown",
      "source": [
        "You can also use the range syntax to insert multiple items at a specific location\n",
        "\n",
        "\n",
        "Code below inserts two items starting at position 1 uptobut not including position 1.This means it doesn't do a replacement"
      ]
    },
    {
      "metadata": {
        "id": "7kdtD55PLtwb",
        "colab_type": "code",
        "outputId": "ef0ddf84-a5c9-40b0-ac1a-8689a705e198",
        "colab": {
          "base_uri": "https://localhost:8080/",
          "height": 52
        }
      },
      "cell_type": "code",
      "source": [
        "names = [\"Fred\", \"Mina\", \"Bob\", \"Suzy\", \"Tam\"]\n",
        "print(names)\n",
        "names[1:1] = [\"Simon\", \"Bez\"]\n",
        "print(names)\n"
      ],
      "execution_count": 0,
      "outputs": [
        {
          "output_type": "stream",
          "text": [
            "['Fred', 'Mina', 'Bob', 'Suzy', 'Tam']\n",
            "['Fred', 'Simon', 'Bez', 'Mina', 'Bob', 'Suzy', 'Tam']\n"
          ],
          "name": "stdout"
        }
      ]
    },
    {
      "metadata": {
        "id": "F6aZSmzSe7OS",
        "colab_type": "text"
      },
      "cell_type": "markdown",
      "source": [
        "### Removing Items from Lists"
      ]
    },
    {
      "metadata": {
        "id": "n7bDi7kDqCV_",
        "colab_type": "text"
      },
      "cell_type": "markdown",
      "source": [
        "**pop** removes the item from the right side of the list and returns its.\n",
        "\n",
        "You can also pass an index number as a parameter to return the item at that position in the list "
      ]
    },
    {
      "metadata": {
        "id": "njajDeILqeYw",
        "colab_type": "code",
        "outputId": "89e912ce-76f4-40a7-ef39-f0e404fd15ff",
        "colab": {
          "base_uri": "https://localhost:8080/",
          "height": 70
        }
      },
      "cell_type": "code",
      "source": [
        "names = [\"Fred\", \"Mina\", \"Bob\", \"Suzy\", \"Tam\"]\n",
        "print(names)\n",
        "popped_name = names.pop()\n",
        "print(popped_name)\n",
        "print(names)"
      ],
      "execution_count": 0,
      "outputs": [
        {
          "output_type": "stream",
          "text": [
            "['Fred', 'Mina', 'Bob', 'Suzy', 'Tam']\n",
            "Tam\n",
            "['Fred', 'Mina', 'Bob', 'Suzy']\n"
          ],
          "name": "stdout"
        }
      ]
    },
    {
      "metadata": {
        "id": "zME0YohhrX2Y",
        "colab_type": "text"
      },
      "cell_type": "markdown",
      "source": [
        "## Multi Dimensional Lists"
      ]
    },
    {
      "metadata": {
        "id": "ywQqy5-lrbO9",
        "colab_type": "text"
      },
      "cell_type": "markdown",
      "source": [
        "Lists can contain every other object type in Python that includes other lists.\n",
        "\n",
        "Its possible to define a list within a list such as:\n",
        "\n",
        "[\"Fred\", \"Amy\", [\"Suzy\", \"Tom\"], \"Bob\"]\n",
        "\n",
        "Item at position 2 is a list rather than a str"
      ]
    },
    {
      "metadata": {
        "id": "vvvl0dUzr5CA",
        "colab_type": "code",
        "outputId": "a31a387b-dead-4690-da2c-c6546ab573e1",
        "colab": {
          "base_uri": "https://localhost:8080/",
          "height": 70
        }
      },
      "cell_type": "code",
      "source": [
        "friends = [\"Fred\", \"Amy\", [\"Suzy\", \"Tom\"], \"Bob\"]\n",
        "print(friends[0])# first item in list\n",
        "print(friends[2]) # third item as list\n",
        "print(friends[2][1]) # second item of embedded list"
      ],
      "execution_count": 0,
      "outputs": [
        {
          "output_type": "stream",
          "text": [
            "Fred\n",
            "['Suzy', 'Tom']\n",
            "Tom\n"
          ],
          "name": "stdout"
        }
      ]
    },
    {
      "metadata": {
        "id": "D3C1m8Z0srrz",
        "colab_type": "text"
      },
      "cell_type": "markdown",
      "source": [
        "# Tuples"
      ]
    },
    {
      "metadata": {
        "id": "bqhDqPj_st27",
        "colab_type": "text"
      },
      "cell_type": "markdown",
      "source": [
        "Lists are read/write. Tuples are effectively immutable or read only lists.\n",
        "\n",
        "You can define a tuple using ( ) instead of [ ]\n",
        "\n",
        "names = (\"Fred\", \"Amy\", \"Bob\")\n",
        "\n",
        "would be a read only tuple although you could miss out the ( ) and it would still be ok."
      ]
    },
    {
      "metadata": {
        "id": "mcLscMfstOjd",
        "colab_type": "code",
        "outputId": "eaf85f9f-9418-4a62-b258-e24800b3832a",
        "colab": {
          "base_uri": "https://localhost:8080/",
          "height": 52
        }
      },
      "cell_type": "code",
      "source": [
        "names = (\"Fred\", \"Amy\", \"Bob\")\n",
        "print(names)\n",
        "print(names[0])"
      ],
      "execution_count": 0,
      "outputs": [
        {
          "output_type": "stream",
          "text": [
            "('Fred', 'Amy', 'Bob')\n",
            "Fred\n"
          ],
          "name": "stdout"
        }
      ]
    },
    {
      "metadata": {
        "id": "FAb_jolniqt9",
        "colab_type": "text"
      },
      "cell_type": "markdown",
      "source": [
        "## Upacking Tuples (or lists)\n",
        "\n",
        "Tuples can be accessed using the same indexing and slicing techniques as lists as long as the access is read only\n",
        "\n",
        "Tuples and list members can also be unpacked into defined variables."
      ]
    },
    {
      "metadata": {
        "id": "QDKsS0ZejPna",
        "colab_type": "code",
        "outputId": "b81f1921-9ef5-474f-bb47-b3ffb117da64",
        "colab": {
          "base_uri": "https://localhost:8080/",
          "height": 34
        }
      },
      "cell_type": "code",
      "source": [
        "details = \"Fred\", 21, \"11 The High St\"\n",
        "first_name, age, address = details\n",
        "print(age,first_name, address)"
      ],
      "execution_count": 0,
      "outputs": [
        {
          "output_type": "stream",
          "text": [
            "21 Fred 11 The High St\n"
          ],
          "name": "stdout"
        }
      ]
    },
    {
      "metadata": {
        "id": "Ia8lGwRJlTo2",
        "colab_type": "text"
      },
      "cell_type": "markdown",
      "source": [
        "###Uneven unpacking\n",
        "\n",
        "What happens if you try to unpack a list or a tuple into fewer variables than items in the list or tuple?"
      ]
    },
    {
      "metadata": {
        "id": "i39GILQAli1Z",
        "colab_type": "code",
        "outputId": "d668ae60-df01-4de9-8ba2-7edc0c8fed15",
        "colab": {
          "base_uri": "https://localhost:8080/",
          "height": 198
        }
      },
      "cell_type": "code",
      "source": [
        "details = [\"Fred\", 21, \"11 The High St\", \"27834\"]\n",
        "first_name, age, address = details\n",
        "print(age,first_name, address)"
      ],
      "execution_count": 0,
      "outputs": [
        {
          "output_type": "error",
          "ename": "ValueError",
          "evalue": "ignored",
          "traceback": [
            "\u001b[0;31m---------------------------------------------------------------------------\u001b[0m",
            "\u001b[0;31mValueError\u001b[0m                                Traceback (most recent call last)",
            "\u001b[0;32m<ipython-input-9-c507fdd5da8f>\u001b[0m in \u001b[0;36m<module>\u001b[0;34m()\u001b[0m\n\u001b[1;32m      1\u001b[0m \u001b[0mdetails\u001b[0m \u001b[0;34m=\u001b[0m \u001b[0;34m[\u001b[0m\u001b[0;34m\"Fred\"\u001b[0m\u001b[0;34m,\u001b[0m \u001b[0;36m21\u001b[0m\u001b[0;34m,\u001b[0m \u001b[0;34m\"11 The High St\"\u001b[0m\u001b[0;34m,\u001b[0m \u001b[0;34m\"27834\"\u001b[0m\u001b[0;34m]\u001b[0m\u001b[0;34m\u001b[0m\u001b[0;34m\u001b[0m\u001b[0m\n\u001b[0;32m----> 2\u001b[0;31m \u001b[0mfirst_name\u001b[0m\u001b[0;34m,\u001b[0m \u001b[0mage\u001b[0m\u001b[0;34m,\u001b[0m \u001b[0maddress\u001b[0m \u001b[0;34m=\u001b[0m \u001b[0mdetails\u001b[0m\u001b[0;34m\u001b[0m\u001b[0;34m\u001b[0m\u001b[0m\n\u001b[0m\u001b[1;32m      3\u001b[0m \u001b[0mprint\u001b[0m\u001b[0;34m(\u001b[0m\u001b[0mage\u001b[0m\u001b[0;34m,\u001b[0m\u001b[0mfirst_name\u001b[0m\u001b[0;34m,\u001b[0m \u001b[0maddress\u001b[0m\u001b[0;34m)\u001b[0m\u001b[0;34m\u001b[0m\u001b[0;34m\u001b[0m\u001b[0m\n",
            "\u001b[0;31mValueError\u001b[0m: too many values to unpack (expected 3)"
          ]
        }
      ]
    },
    {
      "metadata": {
        "id": "XW_mLeY0lwXx",
        "colab_type": "text"
      },
      "cell_type": "markdown",
      "source": [
        "That's right you get an error!\n",
        "\n",
        "To overcome this problem use the * syntax on the last parameter which copies the remaining list items into the last variable as a list"
      ]
    },
    {
      "metadata": {
        "id": "PdTGxHZtmEtn",
        "colab_type": "code",
        "outputId": "5ee04439-4359-42d2-d9aa-645876f36a58",
        "colab": {
          "base_uri": "https://localhost:8080/",
          "height": 68
        }
      },
      "cell_type": "code",
      "source": [
        "details = [\"Fred\", 21, \"11 The High St\", \"27834\"]\n",
        "first_name, age, *extra_details = details\n",
        "print(age)\n",
        "print(first_name)\n",
        "print(extra_details)"
      ],
      "execution_count": 0,
      "outputs": [
        {
          "output_type": "stream",
          "text": [
            "21\n",
            "Fred\n",
            "['11 The High St', '27834']\n"
          ],
          "name": "stdout"
        }
      ]
    },
    {
      "metadata": {
        "id": "9opFjOmvmlaB",
        "colab_type": "text"
      },
      "cell_type": "markdown",
      "source": [
        "# Dictionaries\n",
        "\n",
        "If a list or tuple is a numbered list of items, a dictionary is a keyed (or hashed) list where the key/hash is an identifier that uniquely identifies the item in the dictionary.\n",
        "\n",
        "You could have a dictionary of employees for example where the key would be the employee id or social security number. Anything that uniquely identifies the item works well.\n",
        "\n",
        "The point is that you can use the key to retrieve the item without having to search the entire dictionary. Kind of like an actual dictionary."
      ]
    },
    {
      "metadata": {
        "id": "sNwjvqR3nWFf",
        "colab_type": "code",
        "outputId": "b57b4c53-efc8-43dd-d732-13012831bfee",
        "colab": {
          "base_uri": "https://localhost:8080/",
          "height": 51
        }
      },
      "cell_type": "code",
      "source": [
        "employees = {\"12-333-44\":\"Fred Bloggs\",\n",
        "            \"22-323-89\":\"Beth McGregor\",\n",
        "            \"12-567-43\": \"Ravi Cox\"}\n",
        "\n",
        "employee_id = input(\"Enter the employee's id:\")\n",
        "print(f\"Employee with id {employee_id} is {employees[employee_id]}\")"
      ],
      "execution_count": 0,
      "outputs": [
        {
          "output_type": "stream",
          "text": [
            "Enter the employee's id:22-323-89\n",
            "Employee with id 22-323-89 is Beth McGregor\n"
          ],
          "name": "stdout"
        }
      ]
    },
    {
      "metadata": {
        "id": "AmKi0ZUmovV-",
        "colab_type": "text"
      },
      "cell_type": "markdown",
      "source": [
        "Dictionaries are made up of key:value pairs sperated by commas. In Python dictionaries are contained inside { }\n",
        "\n",
        "They can be preppulated (as above) or generated dynamically"
      ]
    },
    {
      "metadata": {
        "id": "v-N-uBa6pOvo",
        "colab_type": "code",
        "outputId": "752cf34e-5911-408b-82ac-580401d5608a",
        "colab": {
          "base_uri": "https://localhost:8080/",
          "height": 34
        }
      },
      "cell_type": "code",
      "source": [
        "employees = {\"12-333-44\":\"Fred Bloggs\",\n",
        "            \"22-323-89\":\"Beth McGregor\",\n",
        "            \"12-567-43\": \"Ravi Cox\"}\n",
        "\n",
        "employees[\"99-888-77\"] = \"Tom Thomas\"\n",
        "\n",
        "print(employees)"
      ],
      "execution_count": 0,
      "outputs": [
        {
          "output_type": "stream",
          "text": [
            "{'12-333-44': 'Fred Bloggs', '22-323-89': 'Beth McGregor', '12-567-43': 'Ravi Cox', '99-888-77': 'Tom Thomas'}\n"
          ],
          "name": "stdout"
        }
      ]
    },
    {
      "metadata": {
        "id": "YWAVMVNdpgJa",
        "colab_type": "text"
      },
      "cell_type": "markdown",
      "source": [
        "Two dictionaries can be joined:"
      ]
    },
    {
      "metadata": {
        "id": "sJJHXHfUpjWo",
        "colab_type": "code",
        "outputId": "76d5e876-8688-4f13-f3e8-ba224aecdfc1",
        "colab": {
          "base_uri": "https://localhost:8080/",
          "height": 54
        }
      },
      "cell_type": "code",
      "source": [
        "employees = {\"12-333-44\":\"Fred Bloggs\",\n",
        "            \"22-323-89\":\"Beth McGregor\"}\n",
        "\n",
        "new_hires = { \"99-888-77\": \"Tom Thomas\", \"12-567-43\": \"Ravi Cox\"}\n",
        "\n",
        "employees.update(new_hires)\n",
        "\n",
        "print(employees)"
      ],
      "execution_count": 0,
      "outputs": [
        {
          "output_type": "stream",
          "text": [
            "{'12-333-44': 'Fred Bloggs', '22-323-89': 'Beth McGregor', '99-888-77': 'Tom Thomas', '12-567-43': 'Ravi Cox'}\n"
          ],
          "name": "stdout"
        }
      ]
    },
    {
      "metadata": {
        "id": "xZa8HA5OqBSq",
        "colab_type": "text"
      },
      "cell_type": "markdown",
      "source": [
        "Items can be popped from a dictionary"
      ]
    },
    {
      "metadata": {
        "id": "xZg_yIKdqFL6",
        "colab_type": "code",
        "outputId": "f1fa054d-15ac-4cc5-89c6-9c86f3b138a4",
        "colab": {
          "base_uri": "https://localhost:8080/",
          "height": 68
        }
      },
      "cell_type": "code",
      "source": [
        "employees = {\"12-333-44\":\"Fred Bloggs\",\n",
        "            \"22-323-89\":\"Beth McGregor\",\n",
        "            \"12-567-43\": \"Ravi Cox\"}\n",
        "print(employees)\n",
        "print(employees.pop(\"22-323-89\"))\n",
        "print(employees)"
      ],
      "execution_count": 0,
      "outputs": [
        {
          "output_type": "stream",
          "text": [
            "{'12-333-44': 'Fred Bloggs', '22-323-89': 'Beth McGregor', '12-567-43': 'Ravi Cox'}\n",
            "Beth McGregor\n",
            "{'12-333-44': 'Fred Bloggs', '12-567-43': 'Ravi Cox'}\n"
          ],
          "name": "stdout"
        }
      ]
    },
    {
      "metadata": {
        "id": "atbRr-7rqoMJ",
        "colab_type": "text"
      },
      "cell_type": "markdown",
      "source": [
        "## Indexing into a Dictionary?\n",
        "\n",
        "Dictionaries have the following methods which return different parts of the dictionaries as lists or tuples\n",
        "\n",
        "**keys** returns a \"list\" of all of the dictionaries keys\n",
        "\n",
        "**values** returns a \"list\" of all of the dictionaries values\n",
        "\n",
        "**items** returns a tuple of each of the dictionaties items as a key, value tuple\n",
        "\n",
        "(list in this case is actually an iterator that will be covered later)"
      ]
    },
    {
      "metadata": {
        "id": "FgPRdD95rfmQ",
        "colab_type": "code",
        "outputId": "df987af2-80dc-4e63-b699-0cd694dd072e",
        "colab": {
          "base_uri": "https://localhost:8080/",
          "height": 88
        }
      },
      "cell_type": "code",
      "source": [
        "employees = {\"12-333-44\":\"Fred Bloggs\",\n",
        "            \"22-323-89\":\"Beth McGregor\",\n",
        "            \"12-567-43\": \"Ravi Cox\"}\n",
        "print(employees.keys())\n",
        "print(employees.values())\n",
        "print(employees.items())"
      ],
      "execution_count": 0,
      "outputs": [
        {
          "output_type": "stream",
          "text": [
            "dict_keys(['12-333-44', '22-323-89', '12-567-43'])\n",
            "dict_values(['Fred Bloggs', 'Beth McGregor', 'Ravi Cox'])\n",
            "dict_items([('12-333-44', 'Fred Bloggs'), ('22-323-89', 'Beth McGregor'), ('12-567-43', 'Ravi Cox')])\n"
          ],
          "name": "stdout"
        }
      ]
    },
    {
      "metadata": {
        "id": "HZIes0eFsJlK",
        "colab_type": "text"
      },
      "cell_type": "markdown",
      "source": [
        "# Data Sets\n",
        "\n",
        "Data sets are unique unordered collections of data items. They provide a set of set membership operators that can be really useful when comparing and contrasting data sets.\n",
        "\n",
        "A data set can be an invaluable structure to use in data comparison and is often a simple to use alternative to wrting for loops and if statements to achieve the same result.\n",
        "\n",
        "Define a data set using { }\n",
        "\n",
        "Operations include:\n",
        "\n",
        "**Union (or | )**  - Joins datasets and eliminates duplicates \n",
        "\n",
        "**Intersection (or & )**  - Elements common to both sets \n",
        "\n",
        "**Difference (or - )**  - Elements with items common in second set subtracted "
      ]
    },
    {
      "metadata": {
        "id": "Xn4TEZBEs6UO",
        "colab_type": "code",
        "outputId": "9836d9c1-0fd3-4bed-ac49-e0d38d26c66e",
        "colab": {
          "base_uri": "https://localhost:8080/",
          "height": 119
        }
      },
      "cell_type": "code",
      "source": [
        "set1 = {\"Fred\", \"Amy\", \"Bob\"}\n",
        "set2 = {\"Beth\", \"Amy\", \"Tam\"}\n",
        "\n",
        "print(\"Union\", set1.union(set2))\n",
        "print(\"Union\", set1 | set2)\n",
        "\n",
        "print(\"Intersection\", set1.intersection(set2))\n",
        "print(\"Intersection\", set1 & set2)\n",
        "\n",
        "print(\"Difference\", set1.difference(set2))\n",
        "print(\"Difference\", set1 - set2)\n"
      ],
      "execution_count": 0,
      "outputs": [
        {
          "output_type": "stream",
          "text": [
            "Union {'Amy', 'Fred', 'Bob', 'Beth', 'Tam'}\n",
            "Union {'Amy', 'Fred', 'Bob', 'Beth', 'Tam'}\n",
            "Intersection {'Amy'}\n",
            "Intersection {'Amy'}\n",
            "Difference {'Fred', 'Bob'}\n",
            "Difference {'Fred', 'Bob'}\n"
          ],
          "name": "stdout"
        }
      ]
    },
    {
      "metadata": {
        "id": "EdXf65t4vFkV",
        "colab_type": "text"
      },
      "cell_type": "markdown",
      "source": [
        "### Converting between lists and sets\n",
        "\n",
        "You can convert a set to a list and back again using list() and set() passing the item to be converted.\n",
        "\n",
        "set() will eliminate duplicates in the list."
      ]
    },
    {
      "metadata": {
        "id": "c_VaiOYhvgnO",
        "colab_type": "code",
        "outputId": "36150d3d-c671-4971-85fc-e7a3d969009a",
        "colab": {
          "base_uri": "https://localhost:8080/",
          "height": 68
        }
      },
      "cell_type": "code",
      "source": [
        "names = [\"Fred\", \"Amy\", \"Bob\", \"Amy\"]\n",
        "\n",
        "set1 = set(names)\n",
        "\n",
        "print(names)\n",
        "print(set1)\n",
        "\n",
        "names2 = list(set1)\n",
        "print(names2)"
      ],
      "execution_count": 0,
      "outputs": [
        {
          "output_type": "stream",
          "text": [
            "['Fred', 'Amy', 'Bob', 'Amy']\n",
            "{'Amy', 'Fred', 'Bob'}\n",
            "['Amy', 'Fred', 'Bob']\n"
          ],
          "name": "stdout"
        }
      ]
    },
    {
      "metadata": {
        "id": "pJxOXUX1v7Tu",
        "colab_type": "text"
      },
      "cell_type": "markdown",
      "source": [
        "# Regular Expressions\n",
        "\n",
        "A regular expression is a syntax for defining pattern that you can use to describe the stucture of a string\n",
        "\n",
        "You can write a regular expression to define the structure of an email or a zip code or social security number. These kinds of data don't always follow an exact pattern but often have some variance or flexibility in the way they are defined and the data they can contain. \n",
        "\n",
        "A regular expression can define a flexible pattern to match all or part of a string."
      ]
    },
    {
      "metadata": {
        "id": "0k5swlBzSyP_",
        "colab_type": "text"
      },
      "cell_type": "markdown",
      "source": [
        "## Character Multiplicty\n",
        "\n",
        "It makes sense to first look at the basic syntax of regular expressions and then look at how we can apply the syntax in Python.\n",
        "\n",
        "###Simple Pattern Matching\n",
        "\n",
        "\n",
        "To match the string \n",
        "\n",
        "**abc** \n",
        "\n",
        "we can use the regular expression\n",
        "\n",
        "abc\n",
        "\n",
        "This uses exact character matching. however if we wanted to match a more flexible pattern such as the following:\n",
        "\n",
        "**abc**\n",
        "\n",
        "**abbc**\n",
        "\n",
        "The simple regex abc won't work.\n",
        "\n",
        "###Multiplicity Operators\n",
        "\n",
        "Regular expression syntax allows the following multiplivity specifiers to be laced next to characteres to indicate their occurrence pattern\n",
        "\n",
        "> ?  = 0 or 1\n",
        "\n",
        "> \\*  = 0 or more\n",
        "\n",
        "> \\+ = 1 or more \n",
        "\n",
        "\n",
        "To match:\n",
        "\n",
        "**abc**\n",
        "\n",
        "**abbc**\n",
        "\n",
        "we couldwrite the pattern\n",
        "\n",
        "ab+c\n",
        "\n",
        "or\n",
        "\n",
        "ab\\*c\n",
        "\n",
        "### Fixed or Ranged Multiplicity\n",
        "\n",
        "The above gives quite flexible control over character multiplicty. To more precisely control it you can use fixed or ranged multiplicity using { }\n",
        "\n",
        "ab{1, 3}c\n",
        "\n",
        "Is expecing there to be between 1 and three **b** characters\n",
        "\n",
        "{, 5}would indicate upto 5 #, {3, } would indicate at least 3 but then many\n",
        "\n",
        "\n",
        "\n",
        "\n"
      ]
    },
    {
      "metadata": {
        "id": "oXJETpOlXNeb",
        "colab_type": "text"
      },
      "cell_type": "markdown",
      "source": [
        "## Character Flexibility\n",
        "\n",
        "Character flexibility means we can be more flexible about which characters we expect to see in the target string. Previously we fixed the expected characted to a range of one possible value each time\n",
        "\n",
        "Now we will provide a character range using [ ]\n",
        "\n",
        "Below, instead of describing a single character we are describing three possible alternatives a, x or z. Either one can occur in our sequence\n",
        "\n",
        "**[axz]**\n",
        "\n",
        "So the regex:\n",
        "[axz]bc\n",
        "\n",
        "Would match\n",
        "\n",
        "abc\n",
        "xbc\n",
        "zbc\n",
        "\n",
        "If you combine it with the multiplicty specifiers from earlier we could have:\n",
        "\n",
        "[axz]*bc\n",
        "\n",
        "matching \n",
        "\n",
        "zzxxaabc\n",
        "\n",
        "azxbc\n",
        "\n",
        "etc.\n",
        "\n",
        "You could also have\n",
        "\n",
        "[axz]{2,3}bc\n",
        "\n"
      ]
    },
    {
      "metadata": {
        "id": "28Y7gsp3IsTn",
        "colab_type": "text"
      },
      "cell_type": "markdown",
      "source": [
        "## Character Ranges\n",
        "\n",
        "[A-Z] includes all uppercase characters between A and Z\n",
        "\n",
        "[a-z] includes all lowercase characters between a and z\n",
        "\n",
        "[A-z] includes all upper and lower case characters between A and z\n",
        "\n",
        "[0-9] Numbers\n",
        "\n",
        "\n"
      ]
    },
    {
      "metadata": {
        "id": "1QEUQcF1Jidm",
        "colab_type": "text"
      },
      "cell_type": "markdown",
      "source": [
        "## Escape Sequences\n",
        "\n",
        "To avoid having to define ranges there are some shortcuts defined in the form of escape sequences\n",
        "\n",
        "\\d - short for [0-9]\n",
        "\n",
        "\\w - [A-z0-9]\n",
        "\n",
        "\\s - Any whitespace\n",
        "\n",
        "\\b - Word boundary (includes . and , )\n",
        "\n",
        "The uppercase variants of the above \\D \\W \\S \\B indicte not that character class. So \\D means not numbers etc. "
      ]
    },
    {
      "metadata": {
        "id": "MBKDEPZxIAHf",
        "colab_type": "text"
      },
      "cell_type": "markdown",
      "source": [
        "## Optionals\n",
        "\n",
        "Use the pipe charcater | to indicator an or or optional\n",
        "\n",
        "cat | dog\n",
        "\n",
        "which can then be used to match the occurences in the following string. See **findall** later.\n",
        "\n",
        "\"A dog can run faster than a cat in most situations\""
      ]
    },
    {
      "metadata": {
        "id": "Yggz8aIbhUIh",
        "colab_type": "text"
      },
      "cell_type": "markdown",
      "source": [
        "## Regex and Python\n",
        "\n",
        "To use regex in Python use the **re** module\n",
        "\n",
        "You can then use one of a number of functions to perform regex processing\n",
        "\n",
        "match - matches your regex from the start of every sting it is compared against\n",
        "\n",
        "**search** - Matches anywhere in the string\n",
        "\n",
        "**findall** - Returns all matching sequences in string\n",
        "\n",
        "**sub/subn** - Performs a more powerful replace function using regex\n",
        "\n",
        "**split** - Is a more powerful string splitting function using regex\n",
        "\n"
      ]
    },
    {
      "metadata": {
        "id": "VRwnJ554v8NO",
        "colab_type": "code",
        "outputId": "e797c8db-ee83-4abd-fdd2-c9aa715cdc95",
        "colab": {
          "base_uri": "https://localhost:8080/",
          "height": 85
        }
      },
      "cell_type": "code",
      "source": [
        "import re\n",
        "\n",
        "result = re.match(r\"a[bcd]ef\", \"adef\")\n",
        "print(result)\n",
        "print(result.start()) # The start position of the match\n",
        "print(result.end()) # The end position of the match\n",
        "\n",
        "print(result.span()) # Both start and end as a tuple\n"
      ],
      "execution_count": 0,
      "outputs": [
        {
          "output_type": "stream",
          "text": [
            "<_sre.SRE_Match object; span=(0, 4), match='adef'>\n",
            "0\n",
            "4\n",
            "(0, 4)\n"
          ],
          "name": "stdout"
        }
      ]
    },
    {
      "metadata": {
        "id": "JhIEYUJixEZY",
        "colab_type": "text"
      },
      "cell_type": "markdown",
      "source": [
        "It will return None if no matc is found and always matches to the start of the string\n",
        "\n",
        "That's why the following fails:"
      ]
    },
    {
      "metadata": {
        "id": "7JWmLFg9xVgk",
        "colab_type": "code",
        "outputId": "3b8381a2-351d-4af6-de5c-ba4fbf461922",
        "colab": {
          "base_uri": "https://localhost:8080/",
          "height": 34
        }
      },
      "cell_type": "code",
      "source": [
        "import re\n",
        "\n",
        "result = re.match(r\"a[bcd]ef\", \"xyadef\")\n",
        "print(result)\n"
      ],
      "execution_count": 0,
      "outputs": [
        {
          "output_type": "stream",
          "text": [
            "None\n"
          ],
          "name": "stdout"
        }
      ]
    },
    {
      "metadata": {
        "id": "DTDpQ4pqxb3n",
        "colab_type": "text"
      },
      "cell_type": "markdown",
      "source": [
        "For this to work we need to use **search**"
      ]
    },
    {
      "metadata": {
        "id": "HomhAcKbxnZJ",
        "colab_type": "code",
        "outputId": "af090a5e-5d22-4a9b-884f-2c09c73ee635",
        "colab": {
          "base_uri": "https://localhost:8080/",
          "height": 85
        }
      },
      "cell_type": "code",
      "source": [
        "import re\n",
        "\n",
        "result = re.search(r\"a[bcd]ef\", \"xyadef\")\n",
        "print(result)\n",
        "print(result.start())\n",
        "print(result.end())\n",
        "\n",
        "print(result.span())\n"
      ],
      "execution_count": 0,
      "outputs": [
        {
          "output_type": "stream",
          "text": [
            "<_sre.SRE_Match object; span=(2, 6), match='adef'>\n",
            "2\n",
            "6\n",
            "(2, 6)\n"
          ],
          "name": "stdout"
        }
      ]
    },
    {
      "metadata": {
        "id": "xh7kD-XbmkWz",
        "colab_type": "text"
      },
      "cell_type": "markdown",
      "source": [
        "## Regex Groups\n",
        "\n",
        "Assuming we have a string with the following content\n",
        "\n",
        "message = \"The event is on 12 Jan 2019 at 17:00 and all are welcome\"\n",
        "\n",
        "To match the date we could write the regex"
      ]
    },
    {
      "metadata": {
        "id": "FtV9ZfFjou3q",
        "colab_type": "code",
        "outputId": "8eca39ea-46e2-43f5-cab6-3fb7f037cae2",
        "colab": {
          "base_uri": "https://localhost:8080/",
          "height": 34
        }
      },
      "cell_type": "code",
      "source": [
        "import re\n",
        "\n",
        "\n",
        "message = \"The event is on 12 Jan 2019 at 17:00 and all delegates are welcome\"\n",
        "\n",
        "pattern = \"\\d{2} \\w{3} \\d{4}\" # 2 digits 1 space 3 any characters A-z0-9_ 1 space 4 digits\n",
        "\n",
        "result = re.search(pattern, message)\n",
        "\n",
        "print(result)"
      ],
      "execution_count": 0,
      "outputs": [
        {
          "output_type": "stream",
          "text": [
            "<_sre.SRE_Match object; span=(16, 27), match='12 Jan 2019'>\n"
          ],
          "name": "stdout"
        }
      ]
    },
    {
      "metadata": {
        "id": "GgR9v3wFtDiL",
        "colab_type": "text"
      },
      "cell_type": "markdown",
      "source": [
        "Placing brackets around parts of the pattern creates groups\n",
        "\n",
        "pattern = \"(\\d{2}) (\\w{3}) (\\d{4})\"\n",
        "\n",
        "Each group can then be accessed seperately using the **groups()** function which returns a tuple containing the matched content for each group\n",
        "\n"
      ]
    },
    {
      "metadata": {
        "id": "mwUuKmSJuN-b",
        "colab_type": "code",
        "outputId": "0e59946b-383f-46f2-8e6f-89115ff9c92b",
        "colab": {
          "base_uri": "https://localhost:8080/",
          "height": 85
        }
      },
      "cell_type": "code",
      "source": [
        "import re\n",
        "\n",
        "\n",
        "message = \"The event is on 12 Jan 2019 at 17:00 and all delegates are welcome\"\n",
        "\n",
        "pattern = \"(\\d{2}) (\\w{3}) (\\d{4})\" # 2 digits 1 space 3 any characters A-z0-9_ 1 space 4 digits\n",
        "\n",
        "result = re.search(pattern, message)\n",
        "\n",
        "print(\"Groups:\", result.groups())\n",
        "print(\"Day Group:\", result.groups()[0])\n",
        "print(\"Month Group:\", result.groups()[1])\n",
        "print(\"Year Group:\", result.groups()[2])\n",
        "\n"
      ],
      "execution_count": 0,
      "outputs": [
        {
          "output_type": "stream",
          "text": [
            "Groups: ('12', 'Jan', '2019')\n",
            "Day Group: 12\n",
            "Month Group: Jan\n",
            "Year Group: 2019\n"
          ],
          "name": "stdout"
        }
      ]
    },
    {
      "metadata": {
        "id": "m3QrpqMHG9NU",
        "colab_type": "text"
      },
      "cell_type": "markdown",
      "source": [
        "## Multi part search\n",
        "\n",
        "So far we have performed single matches, To find all occurences of a pattern we use, the aptly named **findall** function.\n",
        "\n"
      ]
    },
    {
      "metadata": {
        "id": "SJps_2LoK7gW",
        "colab_type": "code",
        "outputId": "bbf4d966-3a2f-4df7-ca73-dc5f4dc0423f",
        "colab": {
          "base_uri": "https://localhost:8080/",
          "height": 34
        }
      },
      "cell_type": "code",
      "source": [
        "import re\n",
        "\n",
        "message =\"A dog can run faster than a cat in most situations\"\n",
        "pattern = r\"cat | dog | panda | cheetah\"\n",
        "\n",
        "result = re.findall(pattern, message)\n",
        "print(result)"
      ],
      "execution_count": 0,
      "outputs": [
        {
          "output_type": "stream",
          "text": [
            "[' dog ', 'cat ']\n"
          ],
          "name": "stdout"
        }
      ]
    },
    {
      "metadata": {
        "id": "8aiyQH8-Li5T",
        "colab_type": "text"
      },
      "cell_type": "markdown",
      "source": [
        "Notice how the found patterns are returned in a list"
      ]
    },
    {
      "metadata": {
        "id": "CMDytXNEc8gp",
        "colab_type": "text"
      },
      "cell_type": "markdown",
      "source": [
        "## Substitution\n",
        "\n",
        "The equivalent if the string **replace** function in regex is **sub** and **subn**.\n",
        "\n",
        "Withnthese methods you can search for a pattern in a string and replace it with another value. You can limit the number of replacesments and (using **subn**) find out how many replacements were made.\n",
        "\n",
        "\n"
      ]
    },
    {
      "metadata": {
        "id": "6DZ5gsdmeQD6",
        "colab_type": "code",
        "outputId": "42753f74-b52e-4374-cdc3-c922125374b9",
        "colab": {
          "base_uri": "https://localhost:8080/",
          "height": 68
        }
      },
      "cell_type": "code",
      "source": [
        "import re\n",
        "\n",
        "message =\"A dog can run faster than a rabbit assuming the dog is healthy\"\n",
        "pattern = r\"cat|dog|panda\"\n",
        "\n",
        "result = re.sub(pattern, \"cheetah\", message)\n",
        "print(\"sub:\", result)\n",
        "\n",
        "# returns a tuple including replacement string and number of replacements\n",
        "result = re.subn(pattern, \"cheetah\", message) \n",
        "print(\"subn:\", result)\n",
        "\n",
        "# Limit the number of replacements to 1\n",
        "result = re.subn(pattern, \"cheetah\", message, 1) \n",
        "print(\"subn:\", result)\n"
      ],
      "execution_count": 0,
      "outputs": [
        {
          "output_type": "stream",
          "text": [
            "sub: A cheetah can run faster than a rabbit assuming the cheetah is healthy\n",
            "subn: ('A cheetah can run faster than a rabbit assuming the cheetah is healthy', 2)\n",
            "subn: ('A cheetah can run faster than a rabbit assuming the dog is healthy', 1)\n"
          ],
          "name": "stdout"
        }
      ]
    },
    {
      "metadata": {
        "id": "xQy62rtgo4ry",
        "colab_type": "text"
      },
      "cell_type": "markdown",
      "source": [
        "### Reverse Substitution\n",
        "\n",
        "The groups established using a parsing regex can then be referenced using a second expression in the substitution.\n",
        "\n",
        "The second expression can refer to each group by numbers and rearange the order of output in the subsitiution.\n",
        "\n",
        "Below the day, month and year are all identified as groups (groups 1, 2, 3). In the second expression on line 5 - \"\\2 \\1\" we are defining how the dates are to be substiuted by outputting the content of group 2 ( **\\2** or the month) followed by group 1 (**\\1** or the day)\n",
        "\n",
        "\n"
      ]
    },
    {
      "metadata": {
        "id": "14CnPbhBp6Rd",
        "colab_type": "code",
        "outputId": "ff34297b-daa1-47a7-b568-bb703e874756",
        "colab": {
          "base_uri": "https://localhost:8080/",
          "height": 34
        }
      },
      "cell_type": "code",
      "source": [
        "import re\n",
        "message = \"Term starts on 7 Jan 2019 and finishes on 5 Apr 2019 with a one week break commencing 16 Feb 2019\"\n",
        "pattern = r\"(\\d{,2}) (Jan|Feb|Mar|Apr|May|Jun|Jul|Aug|Sep|Oct|Nov|Dec) \\d{4}\"\n",
        "\n",
        "result = re.subn(pattern, r\"\\2 \\1\", message) \n",
        "print(\"subn:\", result)"
      ],
      "execution_count": 0,
      "outputs": [
        {
          "output_type": "stream",
          "text": [
            "subn: ('Term starts on Jan 7 and finishes on Apr 5 with a one week break commencing Feb 16', 3)\n"
          ],
          "name": "stdout"
        }
      ]
    },
    {
      "metadata": {
        "id": "EA4wRFIy7AUK",
        "colab_type": "text"
      },
      "cell_type": "markdown",
      "source": [
        "## Split\n",
        "\n",
        "\n",
        "You can also use a regex to define the pattern to use to split a complex data string.\n",
        "\n",
        "Below is a comman and colon sperated string that we are splitting using a regex pattern.\n",
        "\n",
        "When the string you are processing in delimited using more complex criteria, regex is great."
      ]
    },
    {
      "metadata": {
        "id": "fzHqLMEv7GiZ",
        "colab_type": "code",
        "outputId": "e27be031-9c70-4a05-a04b-2ce09d793d61",
        "colab": {
          "base_uri": "https://localhost:8080/",
          "height": 34
        }
      },
      "cell_type": "code",
      "source": [
        "import re\n",
        "\n",
        "data = \"Star Wars,1977:Steven Spielberg:1h21\"\n",
        "\n",
        "re.split(r\"[:,]\", data)"
      ],
      "execution_count": 0,
      "outputs": [
        {
          "output_type": "execute_result",
          "data": {
            "text/plain": [
              "['Star Wars', '1977', 'Steven Spielberg', '1h21']"
            ]
          },
          "metadata": {
            "tags": []
          },
          "execution_count": 4
        }
      ]
    }
  ]
}