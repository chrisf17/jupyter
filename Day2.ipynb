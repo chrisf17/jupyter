{
  "nbformat": 4,
  "nbformat_minor": 0,
  "metadata": {
    "colab": {
      "name": "Day2.ipynb",
      "version": "0.3.2",
      "provenance": [],
      "toc_visible": true,
      "include_colab_link": true
    },
    "kernelspec": {
      "name": "python3",
      "display_name": "Python 3"
    }
  },
  "cells": [
    {
      "cell_type": "markdown",
      "metadata": {
        "id": "view-in-github",
        "colab_type": "text"
      },
      "source": [
        "<a href=\"https://colab.research.google.com/github/chrisf17/jupyter/blob/master/Day2.ipynb\" target=\"_parent\"><img src=\"https://colab.research.google.com/assets/colab-badge.svg\" alt=\"Open In Colab\"/></a>"
      ]
    },
    {
      "metadata": {
        "id": "YFGnRlU5XIOC",
        "colab_type": "text"
      },
      "cell_type": "markdown",
      "source": [
        "#Strings\n"
      ]
    },
    {
      "metadata": {
        "id": "MW3tvYTIu-De",
        "colab_type": "text"
      },
      "cell_type": "markdown",
      "source": [
        "##Creating\n",
        "Strings in Python 3 are collections of unicode characters\n",
        "\n"
      ]
    },
    {
      "metadata": {
        "id": "FVbYmWLavwyL",
        "colab_type": "text"
      },
      "cell_type": "markdown",
      "source": [
        "###Defining a literal immutable string\n",
        "\n",
        "Strings in Python are immutable which means once defined they dont change\n",
        "\n"
      ]
    },
    {
      "metadata": {
        "id": "dEeW1gU-W7fq",
        "colab_type": "code",
        "colab": {}
      },
      "cell_type": "code",
      "source": [
        "message = \"The quick fox jumbed over the fence\""
      ],
      "execution_count": 0,
      "outputs": []
    },
    {
      "metadata": {
        "id": "aw1ug4x76nQQ",
        "colab_type": "text"
      },
      "cell_type": "markdown",
      "source": [
        "Strings can be joined to each other"
      ]
    },
    {
      "metadata": {
        "id": "R0arOcts6qxc",
        "colab_type": "code",
        "outputId": "0d2e436a-b79f-4501-b54a-67c9b52e1aed",
        "colab": {
          "base_uri": "https://localhost:8080/",
          "height": 34
        }
      },
      "cell_type": "code",
      "source": [
        "name = \"Fred\"\n",
        "greeting = \"Hello\"\n",
        "message = greeting + \" \" + name\n",
        "print(message)"
      ],
      "execution_count": 0,
      "outputs": [
        {
          "output_type": "stream",
          "text": [
            "Hello Fred\n"
          ],
          "name": "stdout"
        }
      ]
    },
    {
      "metadata": {
        "id": "w-E2eOSv65hS",
        "colab_type": "text"
      },
      "cell_type": "markdown",
      "source": [
        "Strings can be repeated - Try this, it gives a surprising result"
      ]
    },
    {
      "metadata": {
        "id": "PpiGDcWW64uA",
        "colab_type": "code",
        "outputId": "41510ac4-37a8-4b30-a1ec-0bfeed95d7a4",
        "colab": {
          "base_uri": "https://localhost:8080/",
          "height": 34
        }
      },
      "cell_type": "code",
      "source": [
        "\"Hello \" * 5"
      ],
      "execution_count": 0,
      "outputs": [
        {
          "output_type": "execute_result",
          "data": {
            "text/plain": [
              "'Hello Hello Hello Hello Hello '"
            ]
          },
          "metadata": {
            "tags": []
          },
          "execution_count": 1
        }
      ]
    },
    {
      "metadata": {
        "id": "gkFNI63gXsNn",
        "colab_type": "text"
      },
      "cell_type": "markdown",
      "source": [
        "It's also possible to refer to individual unicode characters by character code"
      ]
    },
    {
      "metadata": {
        "id": "hqXZ_uIbX1vt",
        "colab_type": "code",
        "outputId": "6e00dd27-9798-47f4-8296-a18ecac3db39",
        "colab": {
          "base_uri": "https://localhost:8080/",
          "height": 51
        }
      },
      "cell_type": "code",
      "source": [
        "euro = \"\\u20ac\"\n",
        "print(euro)\n",
        "euro = \"\\N{euro sign}\"\n",
        "print(euro)"
      ],
      "execution_count": 0,
      "outputs": [
        {
          "output_type": "stream",
          "text": [
            "€\n",
            "€\n"
          ],
          "name": "stdout"
        }
      ]
    },
    {
      "metadata": {
        "id": "_rG-YTFQZYmD",
        "colab_type": "text"
      },
      "cell_type": "markdown",
      "source": [
        "Special character or Escape Sequences can be included in your strings.\n",
        "\n",
        "\\n Newline\n",
        "\n",
        "\\t Tab\n",
        "\n",
        "\\\\ Backslash\n",
        "\n",
        "\\\" Quote\n",
        "\n",
        "etc"
      ]
    },
    {
      "metadata": {
        "id": "AZJn-0MLZYHo",
        "colab_type": "code",
        "outputId": "dd212ca9-4430-4d88-be20-47461f3e452e",
        "colab": {
          "base_uri": "https://localhost:8080/",
          "height": 51
        }
      },
      "cell_type": "code",
      "source": [
        "message = \"Hello \\n world\"\n",
        "print(message)"
      ],
      "execution_count": 0,
      "outputs": [
        {
          "output_type": "stream",
          "text": [
            "Hello \n",
            " world\n"
          ],
          "name": "stdout"
        }
      ]
    },
    {
      "metadata": {
        "id": "MJGZ0ylpZ4J_",
        "colab_type": "text"
      },
      "cell_type": "markdown",
      "source": [
        "###Raw Strings\n",
        "Treat the string as raw by prefixing it with \"r\". Escpe sequences will be treated as literal values and not interpreted"
      ]
    },
    {
      "metadata": {
        "id": "Ple9oHpaaEP4",
        "colab_type": "code",
        "outputId": "7475921b-4869-4972-a89b-2c262b0d5853",
        "colab": {
          "base_uri": "https://localhost:8080/",
          "height": 34
        }
      },
      "cell_type": "code",
      "source": [
        "message = r\"Hello \\n world\"\n",
        "print(message)"
      ],
      "execution_count": 0,
      "outputs": [
        {
          "output_type": "stream",
          "text": [
            "Hello \\n world\n"
          ],
          "name": "stdout"
        }
      ]
    },
    {
      "metadata": {
        "id": "8bTzom8i8U9a",
        "colab_type": "text"
      },
      "cell_type": "markdown",
      "source": [
        "##Strings are objects and object have methods\n",
        "Based on the str class and so have useful functions that we can use to manipulate existing strings to create new ones\n",
        "\n",
        "\n",
        "\n",
        "\n",
        "\n",
        "\n",
        "\n",
        "\n",
        "\n",
        "\n",
        "\n",
        "\n",
        "\n",
        "\n",
        "\n",
        "\n",
        "\n",
        "\n",
        "\n",
        "\n",
        "\n",
        "\n",
        "\n",
        "\n",
        "\n",
        "\n",
        "\n",
        "\n",
        "\n",
        "\n",
        "\n",
        "\n",
        "\n",
        "\n",
        "\n",
        "\n",
        "\n",
        "\n",
        "\n",
        "\n",
        "\n",
        "\n",
        "\n",
        "\n",
        "\n",
        "\n",
        "\n",
        "\n",
        "\n",
        "\n",
        "\n",
        "\n",
        "\n",
        "\n",
        "\n",
        "\n",
        "\n",
        "\n",
        "\n",
        "\n",
        "\n",
        "\n",
        "\n",
        "\n",
        "\n",
        "\n",
        "\n",
        "\n",
        "\n",
        "\n",
        "\n",
        "\n",
        "\n",
        "\n",
        "\n",
        "\n",
        "\n",
        "\n",
        "\n",
        "\n",
        "\n",
        "\n",
        "\n",
        "\n",
        "\n",
        "\n",
        "\n",
        "\n",
        "\n",
        "\n",
        "\n",
        "\n",
        "\n",
        "\n",
        "\n",
        "\n",
        "\n",
        "\n",
        "\n",
        "\n",
        "\n",
        "\n",
        "\n",
        "\n",
        "\n",
        "\n",
        "\n",
        "\n",
        "\n",
        "\n",
        "\n",
        "\n",
        "\n",
        "\n",
        "\n",
        "\n",
        "\n",
        "\n",
        "\n",
        "\n",
        "\n",
        "\n",
        "\n"
      ]
    },
    {
      "metadata": {
        "id": "_t3s9lfdYyBi",
        "colab_type": "code",
        "outputId": "7243098c-bb17-4acc-f0c0-cc045bd5e4ee",
        "colab": {
          "base_uri": "https://localhost:8080/",
          "height": 34
        }
      },
      "cell_type": "code",
      "source": [
        "message = \"No need to shout\"\n",
        "second_message = message.upper()\n",
        "print(second_message)"
      ],
      "execution_count": 0,
      "outputs": [
        {
          "output_type": "stream",
          "text": [
            "NO NEED TO SHOUT\n"
          ],
          "name": "stdout"
        }
      ]
    },
    {
      "metadata": {
        "id": "Wi1CGOHaZQrx",
        "colab_type": "text"
      },
      "cell_type": "markdown",
      "source": [
        "###To find the position of one string in another use find"
      ]
    },
    {
      "metadata": {
        "id": "SWJ6zvrmZYEY",
        "colab_type": "code",
        "outputId": "86ff87b8-183c-4bbf-be2e-54fa94e87616",
        "colab": {
          "base_uri": "https://localhost:8080/",
          "height": 34
        }
      },
      "cell_type": "code",
      "source": [
        "\n",
        "message = \"The clever fox jumped over the fence\"\n",
        "pos = message.find(\"fox\")\n",
        "print(pos)\n"
      ],
      "execution_count": 0,
      "outputs": [
        {
          "output_type": "stream",
          "text": [
            "11\n"
          ],
          "name": "stdout"
        }
      ]
    },
    {
      "metadata": {
        "id": "uOlMfMOibDS5",
        "colab_type": "text"
      },
      "cell_type": "markdown",
      "source": [
        "###Replace one string with another"
      ]
    },
    {
      "metadata": {
        "id": "kXdQzzm3bH0_",
        "colab_type": "code",
        "outputId": "d6767c17-85a4-46f5-fcad-231f54090bdb",
        "colab": {
          "base_uri": "https://localhost:8080/",
          "height": 34
        }
      },
      "cell_type": "code",
      "source": [
        "message = \"The clever fox jumped over the fence\"\n",
        "message.replace(\"fox\", \"cat\")"
      ],
      "execution_count": 0,
      "outputs": [
        {
          "output_type": "execute_result",
          "data": {
            "text/plain": [
              "'The clever cat jumped over the fence'"
            ]
          },
          "metadata": {
            "tags": []
          },
          "execution_count": 3
        }
      ]
    },
    {
      "metadata": {
        "id": "y2u4BQmS7bD_",
        "colab_type": "text"
      },
      "cell_type": "markdown",
      "source": [
        "##Formatting Strings\n",
        "\n",
        "Joining data together to form a string can become complicated and buggy"
      ]
    },
    {
      "metadata": {
        "id": "Dkype8aFE9ps",
        "colab_type": "code",
        "outputId": "597ec6be-645a-4d46-b29b-707835c9f7b7",
        "colab": {
          "base_uri": "https://localhost:8080/",
          "height": 34
        }
      },
      "cell_type": "code",
      "source": [
        "name = \"Mina\"\n",
        "device = \"iPhone\"\n",
        "selling_price = 129.98727\n",
        "\n",
        "# Dubious?\n",
        "name + \" wants to sell her \" + device + \" for \" + str(selling_price)\n"
      ],
      "execution_count": 0,
      "outputs": [
        {
          "output_type": "execute_result",
          "data": {
            "text/plain": [
              "'Mina wants to sell her iPhone for 129.98727'"
            ]
          },
          "metadata": {
            "tags": []
          },
          "execution_count": 4
        }
      ]
    },
    {
      "metadata": {
        "id": "ccgTJExUGhuD",
        "colab_type": "text"
      },
      "cell_type": "markdown",
      "source": [
        "String formatting aims to reduce the comlexity"
      ]
    },
    {
      "metadata": {
        "id": "SJI2jr6AGrV_",
        "colab_type": "code",
        "outputId": "aca2b9db-269d-4994-85f1-1bd62cbcb56f",
        "colab": {
          "base_uri": "https://localhost:8080/",
          "height": 34
        }
      },
      "cell_type": "code",
      "source": [
        "name = \"Mina\"\n",
        "device = \"iPhone\"\n",
        "selling_price = 129.98727\n",
        "\n",
        "\"{0} wants to sell her {1} for {2}\".format(name, device, selling_price)"
      ],
      "execution_count": 0,
      "outputs": [
        {
          "output_type": "execute_result",
          "data": {
            "text/plain": [
              "'Mina wants to sell her iPhone for 129.98727'"
            ]
          },
          "metadata": {
            "tags": []
          },
          "execution_count": 5
        }
      ]
    },
    {
      "metadata": {
        "id": "S3UE7fVAM-Di",
        "colab_type": "text"
      },
      "cell_type": "markdown",
      "source": [
        "where {0}, {1} and {2} are placeholders that will be replaced by the data stored in name, device and selling_price"
      ]
    },
    {
      "metadata": {
        "id": "swGpL_zBNdc_",
        "colab_type": "text"
      },
      "cell_type": "markdown",
      "source": [
        "###Field Formatting\n",
        "Each insertion point can be formatted using the following syntax\n",
        "\n",
        "{ position : fill align sign # 0 width . precision type }\n"
      ]
    },
    {
      "metadata": {
        "id": "QL9yqtdzI8NW",
        "colab_type": "code",
        "outputId": "13779b0f-d9a8-4975-b341-bc4a4fbc8d2b",
        "colab": {
          "base_uri": "https://localhost:8080/",
          "height": 34
        }
      },
      "cell_type": "code",
      "source": [
        "# Within a space of 15 chars center (^) the data, fills he gaps with * chars and \n",
        "# treat the data as a strin (s)\n",
        "\"{0:*^15s}\".format(\"Hello\")"
      ],
      "execution_count": 0,
      "outputs": [
        {
          "output_type": "execute_result",
          "data": {
            "text/plain": [
              "'*****Hello*****'"
            ]
          },
          "metadata": {
            "tags": []
          },
          "execution_count": 2
        }
      ]
    },
    {
      "metadata": {
        "id": "iMWaICA7f7pN",
        "colab_type": "text"
      },
      "cell_type": "markdown",
      "source": [
        "fill - Can be any character above we a re using a *\n",
        "\n",
        "align - < for left align, ^ center align, > right align\n",
        "\n",
        "sign - + forces numbers to be displayed either with a + for positive or - for negative numbers\n",
        "\n",
        "\\# or 0 - pads numbers with spaces or zeroes\n",
        "\n",
        "width - determines the field size to be presented in characters (can align within this space)\n",
        "\n",
        ".precision - how many decimal places\n",
        "\n",
        "type - d for int, s for string, f for float (see documentation for more)\n",
        "\n"
      ]
    },
    {
      "metadata": {
        "id": "9M47NTvJgnFN",
        "colab_type": "code",
        "outputId": "31ff14e1-6e07-4e48-f65f-d9735f6ef5cb",
        "colab": {
          "base_uri": "https://localhost:8080/",
          "height": 52
        }
      },
      "cell_type": "code",
      "source": [
        "print(\"{0:#8d}\".format(23))\n",
        "print(\"{0:08d}\".format(23))\n"
      ],
      "execution_count": 0,
      "outputs": [
        {
          "output_type": "stream",
          "text": [
            "      23\n",
            "00000023\n"
          ],
          "name": "stdout"
        }
      ]
    },
    {
      "metadata": {
        "id": "iJgTjAxhkNUU",
        "colab_type": "text"
      },
      "cell_type": "markdown",
      "source": [
        "Here is a float formatted to two decimal points"
      ]
    },
    {
      "metadata": {
        "id": "H0fBVnG7kaLm",
        "colab_type": "code",
        "outputId": "524f303c-70fa-4d8e-9d39-9c27c0d8727e",
        "colab": {
          "base_uri": "https://localhost:8080/",
          "height": 34
        }
      },
      "cell_type": "code",
      "source": [
        "\"{0:^15.2f}\".format(128.872626)"
      ],
      "execution_count": 0,
      "outputs": [
        {
          "output_type": "execute_result",
          "data": {
            "text/plain": [
              "'    128.87     '"
            ]
          },
          "metadata": {
            "tags": []
          },
          "execution_count": 20
        }
      ]
    },
    {
      "metadata": {
        "id": "xtRPgS7hoei6",
        "colab_type": "text"
      },
      "cell_type": "markdown",
      "source": [
        "###Format Strings (introduced in Python 3.6) make life a little easier again\n",
        "\n",
        "Just prefix your string with an f\n",
        "\n",
        "The variables container with {} will be substituted."
      ]
    },
    {
      "metadata": {
        "id": "UICATAlhotn6",
        "colab_type": "code",
        "outputId": "e9d4e780-dfb7-47a4-c9f4-67e8392330b6",
        "colab": {
          "base_uri": "https://localhost:8080/",
          "height": 34
        }
      },
      "cell_type": "code",
      "source": [
        "name = \"Mina\"\n",
        "device = \"iPhone\"\n",
        "selling_price = 129.98727\n",
        "\n",
        "f\"{name} wants to sell her {device} for {selling_price}\""
      ],
      "execution_count": 0,
      "outputs": [
        {
          "output_type": "execute_result",
          "data": {
            "text/plain": [
              "'Mina wants to sell her iPhone for 129.98727'"
            ]
          },
          "metadata": {
            "tags": []
          },
          "execution_count": 7
        }
      ]
    },
    {
      "metadata": {
        "id": "Cipp1H-Po1qh",
        "colab_type": "text"
      },
      "cell_type": "markdown",
      "source": [
        "\n",
        "##Slicing Strings\n",
        "####Strings are treated by Python a collections or liists of characters. Each character can be accessed by position\n"
      ]
    },
    {
      "metadata": {
        "id": "vELBf4LJpgtP",
        "colab_type": "text"
      },
      "cell_type": "markdown",
      "source": [
        "Positive numbers will access characters from the left side of the string starting with the first character at character position 0\n",
        "\n",
        "\n",
        "The code below will print the first let \"H\" of Hello World\n"
      ]
    },
    {
      "metadata": {
        "id": "fxac0U_TovFk",
        "colab_type": "code",
        "outputId": "c2be8a46-eaea-4920-a28c-57af1c21bdda",
        "colab": {
          "base_uri": "https://localhost:8080/",
          "height": 34
        }
      },
      "cell_type": "code",
      "source": [
        "message = \"Hello World\"\n",
        "print(message[0])"
      ],
      "execution_count": 0,
      "outputs": [
        {
          "output_type": "stream",
          "text": [
            "H\n"
          ],
          "name": "stdout"
        }
      ]
    },
    {
      "metadata": {
        "id": "0oJmNPBkqN_D",
        "colab_type": "text"
      },
      "cell_type": "markdown",
      "source": [
        "Characters can also be retrieved from the right side of a string using negative numbers starting with -1 which refers to the rightmost character. Increasing negative numbers retrieves characters further to the right within the string.\n",
        "\n",
        "\n",
        "The code below prints **d** followed by **l**"
      ]
    },
    {
      "metadata": {
        "id": "NeCdLDl5qosB",
        "colab_type": "code",
        "outputId": "66060014-0d06-4926-d1c9-70b53d8dd4a5",
        "colab": {
          "base_uri": "https://localhost:8080/",
          "height": 34
        }
      },
      "cell_type": "code",
      "source": [
        "message = \"Hello World\"\n",
        "print(message[-1], message[-2])"
      ],
      "execution_count": 0,
      "outputs": [
        {
          "output_type": "stream",
          "text": [
            "d l\n"
          ],
          "name": "stdout"
        }
      ]
    },
    {
      "metadata": {
        "id": "iDtqCPNW1xO0",
        "colab_type": "text"
      },
      "cell_type": "markdown",
      "source": [
        "####Character Ranges\n",
        "As well as accessing individual characters you can also access a range of characters from the target string\n"
      ]
    },
    {
      "metadata": {
        "id": "3Yq6dIyr2xdJ",
        "colab_type": "text"
      },
      "cell_type": "markdown",
      "source": [
        "Below we are accessing characters starting from character zero (or T) upto but not including the character at position 4 (or c)"
      ]
    },
    {
      "metadata": {
        "id": "hlkXEj1N2HU8",
        "colab_type": "code",
        "colab": {}
      },
      "cell_type": "code",
      "source": [
        "message = \"The clever fox jumped over the fence\"\n",
        "sub_str = message[0:4]\n",
        "print(sub_str)"
      ],
      "execution_count": 0,
      "outputs": []
    },
    {
      "metadata": {
        "id": "SXFtQf-WM6Km",
        "colab_type": "text"
      },
      "cell_type": "markdown",
      "source": [
        "#Collections\n",
        "\n",
        "Collections allow more than one piece of data to be stored in a variable at one time\n",
        "\n",
        "##Lists\n",
        "\n",
        "In Python lists store data in sequences that are accessible via unique indexes.\n",
        "\n",
        "Lists are defined using [ ] and can either be empty as [ ] or contain comma seperated values [12, 33, 23, 22 ]\n"
      ]
    },
    {
      "metadata": {
        "id": "t2GQ41ZBxG6L",
        "colab_type": "text"
      },
      "cell_type": "markdown",
      "source": [
        "To simplay define an empty list you would write the following"
      ]
    },
    {
      "metadata": {
        "id": "GYLFByefxGSH",
        "colab_type": "code",
        "outputId": "40fdb05e-61bd-425c-823e-7aab756144ad",
        "colab": {
          "base_uri": "https://localhost:8080/",
          "height": 34
        }
      },
      "cell_type": "code",
      "source": [
        "names = [] # or\n",
        "names = list()\n",
        "names"
      ],
      "execution_count": 0,
      "outputs": [
        {
          "output_type": "execute_result",
          "data": {
            "text/plain": [
              "[]"
            ]
          },
          "metadata": {
            "tags": []
          },
          "execution_count": 12
        }
      ]
    },
    {
      "metadata": {
        "id": "lsUYgRA9xeI-",
        "colab_type": "text"
      },
      "cell_type": "markdown",
      "source": [
        "To initialise a list with data write:"
      ]
    },
    {
      "metadata": {
        "id": "i_a4_CWDb2B5",
        "colab_type": "code",
        "colab": {}
      },
      "cell_type": "code",
      "source": [
        "names = [\"Fred\", \"Mina\", \"Bob\", \"Tam\"]\n",
        "print(names)"
      ],
      "execution_count": 0,
      "outputs": []
    },
    {
      "metadata": {
        "id": "TDdVag6bcxxF",
        "colab_type": "text"
      },
      "cell_type": "markdown",
      "source": [
        "##List Indexing\n",
        "Lists are indexed in an identical way to strings\n",
        "\n",
        "Positive numbers will access items from the left side of the list starting with the first item at position 0"
      ]
    },
    {
      "metadata": {
        "id": "n_kSCJMbce7C",
        "colab_type": "code",
        "outputId": "4bf35de2-dc04-4026-aaf1-66f234be927c",
        "colab": {
          "base_uri": "https://localhost:8080/",
          "height": 34
        }
      },
      "cell_type": "code",
      "source": [
        "names = [\"Fred\", \"Mina\", \"Bob\", \"Tam\"]\n",
        "first = names[0]\n",
        "last =  names [-1]\n",
        "print(first, last)"
      ],
      "execution_count": 0,
      "outputs": [
        {
          "output_type": "stream",
          "text": [
            "Fred Tam\n"
          ],
          "name": "stdout"
        }
      ]
    },
    {
      "metadata": {
        "id": "Lmb0D7qxqyuP",
        "colab_type": "code",
        "colab": {}
      },
      "cell_type": "code",
      "source": [
        "####List Slicing\n",
        "\n",
        "Lists can be sliced in a similar way to strings with [from:upto(not including)] syntax"
      ],
      "execution_count": 0,
      "outputs": []
    },
    {
      "metadata": {
        "id": "tXHN_AeqrSFT",
        "colab_type": "code",
        "outputId": "1fc116ee-cc2e-4873-d2e7-bd448cd76294",
        "colab": {
          "base_uri": "https://localhost:8080/",
          "height": 34
        }
      },
      "cell_type": "code",
      "source": [
        "names = [\"Fred\", \"Mina\", \"Bob\", \"Tam\"]\n",
        "names[0:3] # Starting with item at position 0 upto not including item at position 3"
      ],
      "execution_count": 0,
      "outputs": [
        {
          "output_type": "execute_result",
          "data": {
            "text/plain": [
              "['Fred', 'Mina', 'Bob']"
            ]
          },
          "metadata": {
            "tags": []
          },
          "execution_count": 8
        }
      ]
    },
    {
      "metadata": {
        "id": "_QqwqmLTr9L6",
        "colab_type": "text"
      },
      "cell_type": "markdown",
      "source": [
        "Checking Membership with in"
      ]
    },
    {
      "metadata": {
        "id": "kaCNDnvOr8j8",
        "colab_type": "code",
        "outputId": "b6e8f943-8ecf-4796-996e-6e4e2a8750cf",
        "colab": {
          "base_uri": "https://localhost:8080/",
          "height": 34
        }
      },
      "cell_type": "code",
      "source": [
        "\"Bob\" in [\"Fred\", \"Mina\", \"Bob\", \"Tam\"]"
      ],
      "execution_count": 0,
      "outputs": [
        {
          "output_type": "execute_result",
          "data": {
            "text/plain": [
              "True"
            ]
          },
          "metadata": {
            "tags": []
          },
          "execution_count": 10
        }
      ]
    },
    {
      "metadata": {
        "id": "N6DCym-yuuBb",
        "colab_type": "code",
        "colab": {}
      },
      "cell_type": "code",
      "source": [
        ""
      ],
      "execution_count": 0,
      "outputs": []
    },
    {
      "metadata": {
        "id": "YOF6fIhswzPC",
        "colab_type": "text"
      },
      "cell_type": "markdown",
      "source": [
        "## Modifying Lists\n",
        "\n",
        "Lists are mutable types and so can be changed"
      ]
    }
  ]
}