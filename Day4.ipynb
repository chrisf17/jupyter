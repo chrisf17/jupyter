{
  "nbformat": 4,
  "nbformat_minor": 0,
  "metadata": {
    "colab": {
      "name": "Day4.ipynb",
      "provenance": [],
      "collapsed_sections": [],
      "include_colab_link": true
    },
    "kernelspec": {
      "name": "python3",
      "display_name": "Python 3"
    }
  },
  "cells": [
    {
      "cell_type": "markdown",
      "metadata": {
        "id": "view-in-github",
        "colab_type": "text"
      },
      "source": [
        "<a href=\"https://colab.research.google.com/github/chrisf17/jupyter/blob/master/Day4.ipynb\" target=\"_parent\"><img src=\"https://colab.research.google.com/assets/colab-badge.svg\" alt=\"Open In Colab\"/></a>"
      ]
    },
    {
      "cell_type": "markdown",
      "metadata": {
        "id": "m6VspLLzETAn",
        "colab_type": "text"
      },
      "source": [
        "# Day 4"
      ]
    },
    {
      "cell_type": "markdown",
      "metadata": {
        "id": "Q4XtkLjo18N_",
        "colab_type": "text"
      },
      "source": [
        "# Advanced Collections\n",
        "\n",
        "Python has a filter function that can be used to filter elements out of iterables.\n",
        "\n",
        "It returns an iterable and takes the form\n",
        "\n",
        "filter(\\<function or lambda\\>, \\<iterable tio be filtered\\>)\n"
      ]
    },
    {
      "cell_type": "code",
      "metadata": {
        "id": "PBXoTk0z2pk0",
        "colab_type": "code",
        "outputId": "710da68f-3344-453d-c972-9e54731896ad",
        "colab": {
          "base_uri": "https://localhost:8080/",
          "height": 85
        }
      },
      "source": [
        "names = [\"Fred\", \"Amy\", \"Beth\", \"Bob\"]\n",
        "filtered_names = filter(lambda name: len(name) > 3, names)\n",
        "print(filtered_names) # returns a filter object (iterable)\n",
        "print(list(filtered_names)) # filter object can be converted to a list\n",
        "\n",
        "# Iterate over the filter object\n",
        "for name in filter(lambda name: len(name) > 3, names):\n",
        "  print(name)"
      ],
      "execution_count": 0,
      "outputs": [
        {
          "output_type": "stream",
          "text": [
            "<filter object at 0x7f3a1ff64f60>\n",
            "['Fred', 'Beth']\n",
            "Fred\n",
            "Beth\n"
          ],
          "name": "stdout"
        }
      ]
    },
    {
      "cell_type": "markdown",
      "metadata": {
        "id": "_dIGRQyF2cOO",
        "colab_type": "text"
      },
      "source": [
        "## List Comprehensions\n",
        "\n",
        "Another way to do the same thing is to use a list comprehension of which there are two parts\n",
        "\n",
        "* List Construction\n",
        "* List Filtering\n",
        "\n",
        "### List Construction\n",
        "\n",
        "Place a loop inside either [], () or {} depending on what you are trying to produce (list dictionary, set or tuple).\n",
        "\n",
        "results = [ \\<var\\> for \\<var\\> in \\<data container\\> ]\n",
        "\n",
        "\\<var\\> is a variable retrieved from the loop and used to populate the new structure.\n",
        "\n",
        "\n"
      ]
    },
    {
      "cell_type": "code",
      "metadata": {
        "id": "X1ABllUH5vX1",
        "colab_type": "code",
        "outputId": "50d3a573-7905-45c4-bd9a-77fd980b5268",
        "colab": {
          "base_uri": "https://localhost:8080/",
          "height": 34
        }
      },
      "source": [
        "names = [\"Fred\", \"Amy\", \"Beth\", \"Bob\"]\n",
        "# List construction\n",
        "filtered_names = [name for name in names] # Returns a filter\n",
        "print(list(filtered_names))"
      ],
      "execution_count": 0,
      "outputs": [
        {
          "output_type": "stream",
          "text": [
            "['Fred', 'Amy', 'Beth', 'Bob']\n"
          ],
          "name": "stdout"
        }
      ]
    },
    {
      "cell_type": "markdown",
      "metadata": {
        "id": "H9WOdhhwyc2x",
        "colab_type": "text"
      },
      "source": [
        "### Processing List Data\n",
        "\n",
        "The variable used to populate the list/tuple/dictionary can be preprocessed prior to population.\n",
        "\n",
        "Below each name is coverted to upper case prior to populating the list."
      ]
    },
    {
      "cell_type": "code",
      "metadata": {
        "id": "zF9vpff9y9sq",
        "colab_type": "code",
        "outputId": "b0d24108-f796-4417-d4f8-c9527c1a4066",
        "colab": {
          "base_uri": "https://localhost:8080/",
          "height": 34
        }
      },
      "source": [
        "names = [\"Fred\", \"Amy\", \"Beth\", \"Bob\"]\n",
        "# Put names i upper case\n",
        "filtered_names = [name.upper() for name in names] # Returns a filter\n",
        "print(list(filtered_names))"
      ],
      "execution_count": 0,
      "outputs": [
        {
          "output_type": "stream",
          "text": [
            "['FRED', 'AMY', 'BETH', 'BOB']\n"
          ],
          "name": "stdout"
        }
      ]
    },
    {
      "cell_type": "markdown",
      "metadata": {
        "id": "z7jYd5oNzTJa",
        "colab_type": "text"
      },
      "source": [
        "### Filtereing\n",
        "\n",
        "As well as prperocessing data it's also possible to filter the data populating the result."
      ]
    },
    {
      "cell_type": "code",
      "metadata": {
        "id": "lVh7SE7EzRJH",
        "colab_type": "code",
        "outputId": "5487b678-918d-4c38-88cb-5298b52901af",
        "colab": {
          "base_uri": "https://localhost:8080/",
          "height": 34
        }
      },
      "source": [
        "names = [\"Fred\", \"Amy\", \"Beth\", \"Bob\"]\n",
        "# Put names i upper case\n",
        "filtered_names = [name.upper() for name in names if len(name) > 3] # Returns a filter\n",
        "print(list(filtered_names))"
      ],
      "execution_count": 0,
      "outputs": [
        {
          "output_type": "stream",
          "text": [
            "['FRED', 'BETH']\n"
          ],
          "name": "stdout"
        }
      ]
    },
    {
      "cell_type": "markdown",
      "metadata": {
        "id": "C43-ZQSm0vmB",
        "colab_type": "text"
      },
      "source": [
        "# Copying Collections\n",
        "\n",
        "When you copy a collection using just a variable all you copy is the reference pointing to the collection\n",
        "\n",
        "Below we assign **fruit** to **lunch**, then change the second item in lunch\n",
        "\n",
        "Printing both lists reveals they are both contain the same contents."
      ]
    },
    {
      "cell_type": "code",
      "metadata": {
        "id": "B2XAw0vN1J28",
        "colab_type": "code",
        "outputId": "c82b5ade-5fe4-402b-e15f-71c713495ca6",
        "colab": {
          "base_uri": "https://localhost:8080/",
          "height": 51
        }
      },
      "source": [
        "fruit = [\"Apple\", \"Orange\", \"Pear\", \"Banana\"]\n",
        "lunch = fruit\n",
        "fruit[1] = \"Kiwi\"\n",
        "print(fruit)\n",
        "print(lunch)\n"
      ],
      "execution_count": 0,
      "outputs": [
        {
          "output_type": "stream",
          "text": [
            "['Apple', 'Kiwi', 'Pear', 'Banana']\n",
            "['Apple', 'Kiwi', 'Pear', 'Banana']\n"
          ],
          "name": "stdout"
        }
      ]
    },
    {
      "cell_type": "markdown",
      "metadata": {
        "id": "QOu6FRV1u-Xc",
        "colab_type": "text"
      },
      "source": [
        "### Shallow Copying a List\n",
        "\n",
        "A shallow copy can be made by using list slicing \n",
        "\n",
        "\n",
        "\n",
        "\n",
        "```\n",
        "lunch = fruit[:]\n",
        "```\n",
        "\n"
      ]
    },
    {
      "cell_type": "code",
      "metadata": {
        "id": "wdBRi3e5vVeC",
        "colab_type": "code",
        "outputId": "b3d47ca5-19a3-489f-e84a-6c2a2c5cc732",
        "colab": {
          "base_uri": "https://localhost:8080/",
          "height": 51
        }
      },
      "source": [
        "fruit = [\"Apple\", \"Orange\", \"Pear\", \"Banana\"]\n",
        "lunch = fruit[:]\n",
        "fruit[1] = \"Kiwi\"\n",
        "print(fruit)\n",
        "print(lunch)\n"
      ],
      "execution_count": 0,
      "outputs": [
        {
          "output_type": "stream",
          "text": [
            "['Apple', 'Kiwi', 'Pear', 'Banana']\n",
            "['Apple', 'Orange', 'Pear', 'Banana']\n"
          ],
          "name": "stdout"
        }
      ]
    },
    {
      "cell_type": "markdown",
      "metadata": {
        "id": "zYzFicCvvwn6",
        "colab_type": "text"
      },
      "source": [
        "### Nested Structures\n",
        "\n",
        "When a list contains a list copying using slicing is a problem because it makes only a shallow copy.\n",
        "\n",
        "Code below contains a sub list\n",
        "\n",
        "```\n",
        "fruit = [\"Apple\", \"Orange\", [\"Pear\", \"Kiwi\"] , \"Banana\"]\n",
        "```\n",
        "\n",
        "Copying the list using slicing copies all items in main list but only copies the reference to the sub list.\n",
        "\n",
        "Below copying a nested list and then changing an item in the nested list changes the item for both copies\n",
        "\n"
      ]
    },
    {
      "cell_type": "code",
      "metadata": {
        "id": "aPBJCqKPw03z",
        "colab_type": "code",
        "outputId": "c27759a2-644f-4365-ebb8-a39feab64b47",
        "colab": {
          "base_uri": "https://localhost:8080/",
          "height": 51
        }
      },
      "source": [
        "fruit = [\"Apple\", \"Orange\", [\"Pear\", \"Kiwi\"] , \"Banana\"]\n",
        "lunch = fruit[:]\n",
        "fruit[2][0] = \"Strawberry\"\n",
        "print(fruit)\n",
        "print(lunch)\n",
        "\n"
      ],
      "execution_count": 0,
      "outputs": [
        {
          "output_type": "stream",
          "text": [
            "['Apple', 'Orange', ['Strawberry', 'Kiwi'], 'Banana']\n",
            "['Apple', 'Orange', ['Strawberry', 'Kiwi'], 'Banana']\n"
          ],
          "name": "stdout"
        }
      ]
    },
    {
      "cell_type": "markdown",
      "metadata": {
        "id": "eksYy7oTxLQA",
        "colab_type": "text"
      },
      "source": [
        "Using the copy module and the deepcopy functions allows nested structures to be copied also"
      ]
    },
    {
      "cell_type": "code",
      "metadata": {
        "id": "LgpvGnitxUKw",
        "colab_type": "code",
        "outputId": "6129b7dd-45af-4360-980e-7e9b2fc6b867",
        "colab": {
          "base_uri": "https://localhost:8080/",
          "height": 51
        }
      },
      "source": [
        "import copy\n",
        "\n",
        "fruit = [\"Apple\", \"Orange\", [\"Pear\", \"Kiwi\"] , \"Banana\"]\n",
        "lunch = copy.deepcopy(fruit)\n",
        "fruit[2][0] = \"Strawberry\"\n",
        "print(fruit)\n",
        "print(lunch)\n"
      ],
      "execution_count": 0,
      "outputs": [
        {
          "output_type": "stream",
          "text": [
            "['Apple', 'Orange', ['Strawberry', 'Kiwi'], 'Banana']\n",
            "['Apple', 'Orange', ['Pear', 'Kiwi'], 'Banana']\n"
          ],
          "name": "stdout"
        }
      ]
    },
    {
      "cell_type": "markdown",
      "metadata": {
        "id": "vlvUFP9MEYpi",
        "colab_type": "text"
      },
      "source": [
        "# Error Handling and Exceptions\n",
        "\n",
        "---\n",
        "\n"
      ]
    },
    {
      "cell_type": "markdown",
      "metadata": {
        "id": "nDykPALqxkhO",
        "colab_type": "text"
      },
      "source": [
        "When an error occurs in the Python script and execption object is created that is propagated from the current function/script up through the hierrarchy of function calls until eventually the script crashes.\n",
        "\n",
        "The only way to stop the script crashing when an exception occurs is to catch the exception object and deal with the problem. This allows the normal flow of execution to resume.\n",
        "\n",
        "In Python we use:\n",
        "\n",
        "\n",
        "\n",
        "```\n",
        "try:\n",
        "    # Execute some code that might fail\n",
        "except <Exception Type>:\n",
        "    # Deal with Exception in here when it occurs\n",
        "else:\n",
        "    # Executes If an exception doesn't occur\n",
        "finally:\n",
        "    # Always executes even if there is an exception\n",
        "```\n",
        "\n",
        "### Look at the code below\n",
        "\n",
        "Why does it cause an exception?\n",
        "\n",
        "Notice the \"After call to f1\" isn't printed. That's because an unhandled exception terminates the script.\n"
      ]
    },
    {
      "cell_type": "code",
      "metadata": {
        "id": "3bcOvzMLERWs",
        "colab_type": "code",
        "outputId": "cd70d0f7-d65f-4e89-b198-d2e60b32a7f0",
        "colab": {
          "base_uri": "https://localhost:8080/",
          "height": 375
        }
      },
      "source": [
        "def f2(divisor):\n",
        "    result = 10 / divisor\n",
        "    return result\n",
        "def f1():\n",
        "    f2(0)\n",
        "print(\"Before Call to f1\")\n",
        "f1()\n",
        "print(\"After Call to f1\")"
      ],
      "execution_count": 0,
      "outputs": [
        {
          "output_type": "stream",
          "text": [
            "Before Call to f1\n"
          ],
          "name": "stdout"
        },
        {
          "output_type": "error",
          "ename": "ZeroDivisionError",
          "evalue": "ignored",
          "traceback": [
            "\u001b[0;31m---------------------------------------------------------------------------\u001b[0m",
            "\u001b[0;31mZeroDivisionError\u001b[0m                         Traceback (most recent call last)",
            "\u001b[0;32m<ipython-input-6-c3fcd8fc5c71>\u001b[0m in \u001b[0;36m<module>\u001b[0;34m()\u001b[0m\n\u001b[1;32m      5\u001b[0m     \u001b[0mf2\u001b[0m\u001b[0;34m(\u001b[0m\u001b[0;36m0\u001b[0m\u001b[0;34m)\u001b[0m\u001b[0;34m\u001b[0m\u001b[0;34m\u001b[0m\u001b[0m\n\u001b[1;32m      6\u001b[0m \u001b[0mprint\u001b[0m\u001b[0;34m(\u001b[0m\u001b[0;34m\"Before Call to f1\"\u001b[0m\u001b[0;34m)\u001b[0m\u001b[0;34m\u001b[0m\u001b[0;34m\u001b[0m\u001b[0m\n\u001b[0;32m----> 7\u001b[0;31m \u001b[0mf1\u001b[0m\u001b[0;34m(\u001b[0m\u001b[0;34m)\u001b[0m\u001b[0;34m\u001b[0m\u001b[0;34m\u001b[0m\u001b[0m\n\u001b[0m\u001b[1;32m      8\u001b[0m \u001b[0mprint\u001b[0m\u001b[0;34m(\u001b[0m\u001b[0;34m\"After Call to f1\"\u001b[0m\u001b[0;34m)\u001b[0m\u001b[0;34m\u001b[0m\u001b[0;34m\u001b[0m\u001b[0m\n",
            "\u001b[0;32m<ipython-input-6-c3fcd8fc5c71>\u001b[0m in \u001b[0;36mf1\u001b[0;34m()\u001b[0m\n\u001b[1;32m      3\u001b[0m     \u001b[0;32mreturn\u001b[0m \u001b[0mresult\u001b[0m\u001b[0;34m\u001b[0m\u001b[0;34m\u001b[0m\u001b[0m\n\u001b[1;32m      4\u001b[0m \u001b[0;32mdef\u001b[0m \u001b[0mf1\u001b[0m\u001b[0;34m(\u001b[0m\u001b[0;34m)\u001b[0m\u001b[0;34m:\u001b[0m\u001b[0;34m\u001b[0m\u001b[0;34m\u001b[0m\u001b[0m\n\u001b[0;32m----> 5\u001b[0;31m     \u001b[0mf2\u001b[0m\u001b[0;34m(\u001b[0m\u001b[0;36m0\u001b[0m\u001b[0;34m)\u001b[0m\u001b[0;34m\u001b[0m\u001b[0;34m\u001b[0m\u001b[0m\n\u001b[0m\u001b[1;32m      6\u001b[0m \u001b[0mprint\u001b[0m\u001b[0;34m(\u001b[0m\u001b[0;34m\"Before Call to f1\"\u001b[0m\u001b[0;34m)\u001b[0m\u001b[0;34m\u001b[0m\u001b[0;34m\u001b[0m\u001b[0m\n\u001b[1;32m      7\u001b[0m \u001b[0mf1\u001b[0m\u001b[0;34m(\u001b[0m\u001b[0;34m)\u001b[0m\u001b[0;34m\u001b[0m\u001b[0;34m\u001b[0m\u001b[0m\n",
            "\u001b[0;32m<ipython-input-6-c3fcd8fc5c71>\u001b[0m in \u001b[0;36mf2\u001b[0;34m(divisor)\u001b[0m\n\u001b[1;32m      1\u001b[0m \u001b[0;32mdef\u001b[0m \u001b[0mf2\u001b[0m\u001b[0;34m(\u001b[0m\u001b[0mdivisor\u001b[0m\u001b[0;34m)\u001b[0m\u001b[0;34m:\u001b[0m\u001b[0;34m\u001b[0m\u001b[0;34m\u001b[0m\u001b[0m\n\u001b[0;32m----> 2\u001b[0;31m     \u001b[0mresult\u001b[0m \u001b[0;34m=\u001b[0m \u001b[0;36m10\u001b[0m \u001b[0;34m/\u001b[0m \u001b[0mdivisor\u001b[0m\u001b[0;34m\u001b[0m\u001b[0;34m\u001b[0m\u001b[0m\n\u001b[0m\u001b[1;32m      3\u001b[0m     \u001b[0;32mreturn\u001b[0m \u001b[0mresult\u001b[0m\u001b[0;34m\u001b[0m\u001b[0;34m\u001b[0m\u001b[0m\n\u001b[1;32m      4\u001b[0m \u001b[0;32mdef\u001b[0m \u001b[0mf1\u001b[0m\u001b[0;34m(\u001b[0m\u001b[0;34m)\u001b[0m\u001b[0;34m:\u001b[0m\u001b[0;34m\u001b[0m\u001b[0;34m\u001b[0m\u001b[0m\n\u001b[1;32m      5\u001b[0m     \u001b[0mf2\u001b[0m\u001b[0;34m(\u001b[0m\u001b[0;36m0\u001b[0m\u001b[0;34m)\u001b[0m\u001b[0;34m\u001b[0m\u001b[0;34m\u001b[0m\u001b[0m\n",
            "\u001b[0;31mZeroDivisionError\u001b[0m: division by zero"
          ]
        }
      ]
    },
    {
      "cell_type": "markdown",
      "metadata": {
        "id": "QOLZ2IVR0Lkf",
        "colab_type": "text"
      },
      "source": [
        "### Adding an Exception handler\n",
        "\n",
        "Let's make it safe."
      ]
    },
    {
      "cell_type": "code",
      "metadata": {
        "id": "unHIceDk0r8E",
        "colab_type": "code",
        "outputId": "38d73c3c-a769-491c-db0e-a1927d7e83e4",
        "colab": {
          "base_uri": "https://localhost:8080/",
          "height": 68
        }
      },
      "source": [
        "def f2(divisor):\n",
        "    result = 10 / divisor\n",
        "    return result\n",
        "def f1():\n",
        "  \n",
        "    try:\n",
        "        f2(0)\n",
        "    except Exception as err:\n",
        "        print(\"An error occurred - \" + err.args[0])\n",
        "      \n",
        "    \n",
        "print(\"Before Call to f1\")\n",
        "f1()\n",
        "print(\"After Call to f1\")"
      ],
      "execution_count": 0,
      "outputs": [
        {
          "output_type": "stream",
          "text": [
            "Before Call to f1\n",
            "An error occurred - division by zero\n",
            "After Call to f1\n"
          ],
          "name": "stdout"
        }
      ]
    },
    {
      "cell_type": "markdown",
      "metadata": {
        "id": "LSbawvwS2A4J",
        "colab_type": "text"
      },
      "source": [
        "If you look at the error message above you will see its a ZeroDivisionError. We can catch that specific specific type of exception as well as the generic Exception that can deal with everything else. \n",
        "\n",
        "Most exceptions in Python inherit from the common Exception class"
      ]
    },
    {
      "cell_type": "code",
      "metadata": {
        "id": "U-bY6Wml2Y7m",
        "colab_type": "code",
        "outputId": "721fc16e-d530-43b7-8cf7-d8231150a73e",
        "colab": {
          "base_uri": "https://localhost:8080/",
          "height": 68
        }
      },
      "source": [
        "def f2(divisor):\n",
        "    result = 10 / divisor\n",
        "    return result\n",
        "def f1():\n",
        "  \n",
        "    try:\n",
        "        f2(0)\n",
        "    \n",
        "    except ZeroDivisionError as err:\n",
        "        print(\"A Divide by zero error occurred - \" + err.args[0])\n",
        "       \n",
        "    except Exception as err:\n",
        "        print(\"An error occurred - \" + err.args[0])\n",
        "      \n",
        "    \n",
        "print(\"Before Call to f1\")\n",
        "f1()\n",
        "print(\"After Call to f1\")"
      ],
      "execution_count": 0,
      "outputs": [
        {
          "output_type": "stream",
          "text": [
            "Before Call to f1\n",
            "An Divide by zero error occurred - division by zero\n",
            "After Call to f1\n"
          ],
          "name": "stdout"
        }
      ]
    },
    {
      "cell_type": "markdown",
      "metadata": {
        "id": "HRDBlbTL3HUr",
        "colab_type": "text"
      },
      "source": [
        "The same code could be rewiteen handling the exception at a higher level and using the else and the finally.\n",
        "\n",
        "The **else** only runs if no exception occurs. The **finally** runs almost always\n",
        "\n",
        "**How would you change the code to make the else run?**"
      ]
    },
    {
      "cell_type": "code",
      "metadata": {
        "id": "BDAUsaEI3cJL",
        "colab_type": "code",
        "outputId": "74fbc92a-4136-4d15-ce2f-d43b44d874e5",
        "colab": {
          "base_uri": "https://localhost:8080/",
          "height": 68
        }
      },
      "source": [
        "def f2(divisor):\n",
        "    result = 10 / divisor\n",
        "    return result\n",
        "def f1():\n",
        "  \n",
        "    f2(0)\n",
        "    \n",
        "    \n",
        "print(\"Before Call to f1\")\n",
        "\n",
        "try:\n",
        "    f1()\n",
        "except Exception as err:\n",
        "    print(\"An error occurred - \" + err.args[0])\n",
        "else:\n",
        "    print(\"After Call to f1\")\n",
        "finally:\n",
        "    print(\"I always run\")\n"
      ],
      "execution_count": 0,
      "outputs": [
        {
          "output_type": "stream",
          "text": [
            "Before Call to f1\n",
            "An error occurred - division by zero\n",
            "I always run\n"
          ],
          "name": "stdout"
        }
      ]
    },
    {
      "cell_type": "markdown",
      "metadata": {
        "id": "S3MEdsvL4bpa",
        "colab_type": "text"
      },
      "source": [
        "### Raising Exception\n",
        "\n",
        "You can raise your own exception by calling **raise**. You can also create your own exception classes.\n",
        "\n"
      ]
    },
    {
      "cell_type": "code",
      "metadata": {
        "id": "5kk5E6Wq4vn8",
        "colab_type": "code",
        "outputId": "d50ac5ea-a2b5-412f-9df7-51a077fc0d33",
        "colab": {
          "base_uri": "https://localhost:8080/",
          "height": 68
        }
      },
      "source": [
        "# Raising an exception from a function\n",
        "def f2(divisor):\n",
        "    if divisor == 0:\n",
        "        raise ValueError(\"divisor parameter cannot be zero\")\n",
        "    result = 10 / divisor\n",
        "    return result\n",
        "  \n",
        "def f1():\n",
        "  \n",
        "    f2(0)\n",
        "    \n",
        "    \n",
        "print(\"Before Call to f1\")\n",
        "\n",
        "try:\n",
        "    f1()\n",
        "except Exception as err:\n",
        "    print(\"An error occurred - \" + err.args[0])\n",
        "else:\n",
        "    print(\"After Call to f1\")\n",
        "finally:\n",
        "    print(\"I always run\")\n"
      ],
      "execution_count": 0,
      "outputs": [
        {
          "output_type": "stream",
          "text": [
            "Before Call to f1\n",
            "An error occurred - divisor parameter cannot be zero\n",
            "I always run\n"
          ],
          "name": "stdout"
        }
      ]
    },
    {
      "cell_type": "code",
      "metadata": {
        "id": "Hlihnvlq5UCr",
        "colab_type": "code",
        "outputId": "1a5f3299-7691-46a4-85a0-0ce3ff173447",
        "colab": {
          "base_uri": "https://localhost:8080/",
          "height": 68
        }
      },
      "source": [
        "# Writing and using a custom exception\n",
        "\n",
        "class InvalidParameterException(Exception):\n",
        "    pass\n",
        "  \n",
        "\n",
        "def f2(divisor):\n",
        "    if divisor == 0:\n",
        "        raise InvalidParameterException(\"divisor parameter cannot be zero\")\n",
        "    result = 10 / divisor\n",
        "    return result\n",
        "  \n",
        "def f1():\n",
        "  \n",
        "    f2(0)\n",
        "    \n",
        "    \n",
        "print(\"Before Call to f1\")\n",
        "\n",
        "try:\n",
        "    f1()\n",
        "except InvalidParameterException as err:\n",
        "    print(\"An parameter error occurred - \" + err.args[0])\n",
        "else:\n",
        "    print(\"After Call to f1\")\n",
        "finally:\n",
        "    print(\"I always run\")\n"
      ],
      "execution_count": 0,
      "outputs": [
        {
          "output_type": "stream",
          "text": [
            "Before Call to f1\n",
            "An parameter error occurred - divisor parameter cannot be zero\n",
            "I always run\n"
          ],
          "name": "stdout"
        }
      ]
    },
    {
      "cell_type": "markdown",
      "metadata": {
        "id": "0G2IWcTt1aHP",
        "colab_type": "text"
      },
      "source": [
        "# Threading and Multi Processing"
      ]
    },
    {
      "cell_type": "code",
      "metadata": {
        "id": "OHhLUV4c1gUy",
        "colab_type": "code",
        "colab": {}
      },
      "source": [
        ""
      ],
      "execution_count": 0,
      "outputs": []
    },
    {
      "cell_type": "markdown",
      "metadata": {
        "id": "oIDy2HmU1gwC",
        "colab_type": "text"
      },
      "source": [
        ""
      ]
    }
  ]
}