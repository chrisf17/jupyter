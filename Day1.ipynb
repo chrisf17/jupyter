{
  "nbformat": 4,
  "nbformat_minor": 0,
  "metadata": {
    "colab": {
      "name": "Day1.ipynb",
      "version": "0.3.2",
      "provenance": [],
      "collapsed_sections": [],
      "toc_visible": true,
      "include_colab_link": true
    },
    "kernelspec": {
      "name": "python3",
      "display_name": "Python 3"
    }
  },
  "cells": [
    {
      "cell_type": "markdown",
      "metadata": {
        "id": "view-in-github",
        "colab_type": "text"
      },
      "source": [
        "<a href=\"https://colab.research.google.com/github/chrisf17/jupyter/blob/master/Day1.ipynb\" target=\"_parent\"><img src=\"https://colab.research.google.com/assets/colab-badge.svg\" alt=\"Open In Colab\"/></a>"
      ]
    },
    {
      "metadata": {
        "id": "AdVmMDHUMR45",
        "colab_type": "text"
      },
      "cell_type": "markdown",
      "source": [
        "# Introduction"
      ]
    },
    {
      "metadata": {
        "id": "eSpVxkm-lNkK",
        "colab_type": "text"
      },
      "cell_type": "markdown",
      "source": [
        "## Talking Directly to the Interpreter\n",
        "#### You can talk to Python directly from the Python Console and directly execute commands. They could be as simple as basic math operations"
      ]
    },
    {
      "metadata": {
        "id": "8uv5Y_F8lKM_",
        "colab_type": "code",
        "colab": {}
      },
      "cell_type": "code",
      "source": [
        "2 + 3"
      ],
      "execution_count": 0,
      "outputs": []
    },
    {
      "metadata": {
        "id": "ephNtWL8k9Up",
        "colab_type": "text"
      },
      "cell_type": "markdown",
      "source": [
        "## Built in Python Commands\n",
        "#### You can also execute functions from the builtin library that is available on loading the interpreter"
      ]
    },
    {
      "metadata": {
        "id": "C2BejPUpkyRe",
        "colab_type": "code",
        "colab": {}
      },
      "cell_type": "code",
      "source": [
        "print(\"Hello World\")"
      ],
      "execution_count": 0,
      "outputs": []
    },
    {
      "metadata": {
        "id": "aHrHGm5mlXTg",
        "colab_type": "text"
      },
      "cell_type": "markdown",
      "source": [
        "\n",
        "## Getting input from the user\n",
        "\n"
      ]
    },
    {
      "metadata": {
        "id": "zQ6ab1UoleY3",
        "colab_type": "code",
        "outputId": "e042a3a1-25f2-4032-d38f-e07c1c2fe23f",
        "colab": {
          "base_uri": "https://localhost:8080/",
          "height": 51
        }
      },
      "cell_type": "code",
      "source": [
        "input(\"Enter your name:\")"
      ],
      "execution_count": 0,
      "outputs": [
        {
          "output_type": "stream",
          "text": [
            "Enter your name:Tam\n"
          ],
          "name": "stdout"
        },
        {
          "output_type": "execute_result",
          "data": {
            "text/plain": [
              "'Tam'"
            ]
          },
          "metadata": {
            "tags": []
          },
          "execution_count": 20
        }
      ]
    },
    {
      "metadata": {
        "id": "H6OGqJOgyoCK",
        "colab_type": "text"
      },
      "cell_type": "markdown",
      "source": [
        "## Creating variables"
      ]
    },
    {
      "metadata": {
        "id": "vMApQzykyxOQ",
        "colab_type": "code",
        "colab": {}
      },
      "cell_type": "code",
      "source": [
        "first_name = \"Amy\"\n",
        "age = 20"
      ],
      "execution_count": 0,
      "outputs": []
    },
    {
      "metadata": {
        "id": "xDrco8rYy5At",
        "colab_type": "text"
      },
      "cell_type": "markdown",
      "source": [
        "## Combining Variables and Commands\n"
      ]
    },
    {
      "metadata": {
        "id": "BR5QfFBvzFVP",
        "colab_type": "code",
        "colab": {}
      },
      "cell_type": "code",
      "source": [
        "first_name = input(\"Enter your name:\")\n",
        "print (\"Hi\", first_name)"
      ],
      "execution_count": 0,
      "outputs": []
    },
    {
      "metadata": {
        "id": "YAo228w7Mtue",
        "colab_type": "text"
      },
      "cell_type": "markdown",
      "source": [
        "## Using other Modules"
      ]
    },
    {
      "metadata": {
        "id": "SdkIt8KkNF7T",
        "colab_type": "text"
      },
      "cell_type": "markdown",
      "source": [
        "Python has access to the functions in the builtin library. If you need anything else you need to import it from reusable modules that are part of the standard library or written by other team members.\n",
        "\n",
        "**Here** we are importing the random module to generate a random number. Keep running it!"
      ]
    },
    {
      "metadata": {
        "id": "Br38Vf2SMwgJ",
        "colab_type": "code",
        "colab": {}
      },
      "cell_type": "code",
      "source": [
        "import random\n",
        "my_num = random.randint(1, 50)\n",
        "print(my_num)"
      ],
      "execution_count": 0,
      "outputs": []
    },
    {
      "metadata": {
        "id": "dDUUnHGizdbV",
        "colab_type": "text"
      },
      "cell_type": "markdown",
      "source": [
        "# *Data* Type\n",
        "### Python infers data type based on what you assign to your variable"
      ]
    },
    {
      "metadata": {
        "id": "-aIz-95uzbFZ",
        "colab_type": "code",
        "colab": {}
      },
      "cell_type": "code",
      "source": [
        "name = \"Beth\"\n",
        "type(name)\n",
        "\n"
      ],
      "execution_count": 0,
      "outputs": []
    },
    {
      "metadata": {
        "id": "ootVa-WM9ZYY",
        "colab_type": "code",
        "colab": {}
      },
      "cell_type": "code",
      "source": [
        "age = 21\n",
        "type(age)"
      ],
      "execution_count": 0,
      "outputs": []
    },
    {
      "metadata": {
        "id": "qeOSPLD69n3Y",
        "colab_type": "code",
        "colab": {}
      },
      "cell_type": "code",
      "source": [
        "price = 9.99\n",
        "type(price)"
      ],
      "execution_count": 0,
      "outputs": []
    },
    {
      "metadata": {
        "id": "6b5oF0NE_-bi",
        "colab_type": "text"
      },
      "cell_type": "markdown",
      "source": [
        "#### Integers are whole numbers floats are numbers that store the fractional part of the number"
      ]
    },
    {
      "metadata": {
        "id": "p2y0kJ88ATSi",
        "colab_type": "text"
      },
      "cell_type": "markdown",
      "source": [
        "## Number Operations"
      ]
    },
    {
      "metadata": {
        "id": "BHW3MuT4AjK6",
        "colab_type": "code",
        "colab": {}
      },
      "cell_type": "code",
      "source": [
        "count = 1\n",
        "count = count + 1\n",
        "print(count)"
      ],
      "execution_count": 0,
      "outputs": []
    },
    {
      "metadata": {
        "id": "wbe8b-wQAtpm",
        "colab_type": "text"
      },
      "cell_type": "markdown",
      "source": [
        "Compound operations allow for simple math operations using a more concise syntax. Code below is the equivalent of above"
      ]
    },
    {
      "metadata": {
        "id": "kOEbvlaBA5aO",
        "colab_type": "code",
        "colab": {}
      },
      "cell_type": "code",
      "source": [
        "count = 1\n",
        "count += 1\n",
        "print(count)"
      ],
      "execution_count": 0,
      "outputs": []
    },
    {
      "metadata": {
        "id": "wX74mtyWBAEA",
        "colab_type": "text"
      },
      "cell_type": "markdown",
      "source": [
        "### Other Math operators include:\n",
        "- \\* for multiply\n",
        "- \\- for subtract\n",
        "- / for divide\n",
        "- // for integer divide\n",
        "- % for remainder (modulo) division\n",
        "\n",
        "Each operator has a compound equivalent\n"
      ]
    },
    {
      "metadata": {
        "id": "Sd7bAOgsLpae",
        "colab_type": "text"
      },
      "cell_type": "markdown",
      "source": [
        "### What will be the result of the following operation?"
      ]
    },
    {
      "metadata": {
        "id": "1TxXw4UzLhnS",
        "colab_type": "code",
        "colab": {}
      },
      "cell_type": "code",
      "source": [
        "count = 2\n",
        "count *= 3\n",
        "print(count)"
      ],
      "execution_count": 0,
      "outputs": []
    },
    {
      "metadata": {
        "id": "B1vo0k3u_6ej",
        "colab_type": "text"
      },
      "cell_type": "markdown",
      "source": [
        "## Operating on Types"
      ]
    },
    {
      "metadata": {
        "id": "zkEBWeIU-LPQ",
        "colab_type": "text"
      },
      "cell_type": "markdown",
      "source": [
        "### Combining Types"
      ]
    },
    {
      "metadata": {
        "id": "OsecymIz-atq",
        "colab_type": "text"
      },
      "cell_type": "markdown",
      "source": [
        "### Types can be combined/joined using the + operator"
      ]
    },
    {
      "metadata": {
        "id": "JmNAbfEI-YfX",
        "colab_type": "code",
        "colab": {}
      },
      "cell_type": "code",
      "source": [
        "first_name = \"Amy\"\n",
        "last_name = \"Anderson\"\n",
        "full_name = first_name + \" \" + last_name\n",
        "print(full_name)"
      ],
      "execution_count": 0,
      "outputs": []
    },
    {
      "metadata": {
        "id": "cKvP3e94-9Uu",
        "colab_type": "text"
      },
      "cell_type": "markdown",
      "source": [
        "### But only if the types are compatible"
      ]
    },
    {
      "metadata": {
        "id": "GgJsRTMF_EBH",
        "colab_type": "code",
        "colab": {}
      },
      "cell_type": "code",
      "source": [
        "age = 21\n",
        "message = first_name + \" is \" + age"
      ],
      "execution_count": 0,
      "outputs": []
    },
    {
      "metadata": {
        "id": "FxXQDzNhK0ts",
        "colab_type": "text"
      },
      "cell_type": "markdown",
      "source": [
        "### int and str don't mix!"
      ]
    },
    {
      "metadata": {
        "id": "a9EWBcZm_dD7",
        "colab_type": "text"
      },
      "cell_type": "markdown",
      "source": [
        "### Instead convert the age from an integer to as string using the str function"
      ]
    },
    {
      "metadata": {
        "id": "v3eCwd1B_RT3",
        "colab_type": "code",
        "colab": {}
      },
      "cell_type": "code",
      "source": [
        "message = first_name + \" is \" + str(age)\n",
        "print(message)"
      ],
      "execution_count": 0,
      "outputs": []
    },
    {
      "metadata": {
        "id": "1_LGNpNo41VJ",
        "colab_type": "text"
      },
      "cell_type": "markdown",
      "source": [
        "## Lists and Tuples"
      ]
    },
    {
      "metadata": {
        "id": "Qr5v1uyF44gE",
        "colab_type": "code",
        "outputId": "5d9864ad-a42a-40bf-b82b-b7c1e7a354cd",
        "colab": {
          "base_uri": "https://localhost:8080/",
          "height": 34
        }
      },
      "cell_type": "code",
      "source": [
        "names = [\"Fred\", \"Amy\", \"Raj\", \"Bob\"]\n",
        "print(names[1])\n"
      ],
      "execution_count": 0,
      "outputs": [
        {
          "output_type": "stream",
          "text": [
            "Amy\n"
          ],
          "name": "stdout"
        }
      ]
    },
    {
      "metadata": {
        "id": "eG6uScvF5ke3",
        "colab_type": "text"
      },
      "cell_type": "markdown",
      "source": [
        "### List can be updated"
      ]
    },
    {
      "metadata": {
        "id": "2IqFEcty5c8Q",
        "colab_type": "code",
        "outputId": "cea46af2-6328-416e-bf84-4cac4ce26d04",
        "colab": {
          "base_uri": "https://localhost:8080/",
          "height": 51
        }
      },
      "cell_type": "code",
      "source": [
        "names = [\"Fred\", \"Amy\", \"Raj\", \"Bob\"]\n",
        "print(names[1])\n",
        "names[1] = \"Mina\"\n",
        "print(names)"
      ],
      "execution_count": 0,
      "outputs": [
        {
          "output_type": "stream",
          "text": [
            "Amy\n",
            "['Fred', 'Mina', 'Raj', 'Bob']\n"
          ],
          "name": "stdout"
        }
      ]
    },
    {
      "metadata": {
        "id": "6Ww-FexB52s_",
        "colab_type": "text"
      },
      "cell_type": "markdown",
      "source": [
        "### Tuples can't be changed"
      ]
    },
    {
      "metadata": {
        "id": "x55ZF2GH58Pm",
        "colab_type": "code",
        "outputId": "2d926f27-70a6-424c-920a-bb9fbccc2af6",
        "colab": {
          "base_uri": "https://localhost:8080/",
          "height": 231
        }
      },
      "cell_type": "code",
      "source": [
        "names = \"Fred\", \"Amy\", \"Raj\", \"Bob\"\n",
        "print(names[1])\n",
        "names[1] = \"Mina\"\n",
        "print(names)"
      ],
      "execution_count": 0,
      "outputs": [
        {
          "output_type": "stream",
          "text": [
            "Amy\n"
          ],
          "name": "stdout"
        },
        {
          "output_type": "error",
          "ename": "TypeError",
          "evalue": "ignored",
          "traceback": [
            "\u001b[0;31m---------------------------------------------------------------------------\u001b[0m",
            "\u001b[0;31mTypeError\u001b[0m                                 Traceback (most recent call last)",
            "\u001b[0;32m<ipython-input-19-a734947f5bca>\u001b[0m in \u001b[0;36m<module>\u001b[0;34m()\u001b[0m\n\u001b[1;32m      1\u001b[0m \u001b[0mnames\u001b[0m \u001b[0;34m=\u001b[0m \u001b[0;34m\"Fred\"\u001b[0m\u001b[0;34m,\u001b[0m \u001b[0;34m\"Amy\"\u001b[0m\u001b[0;34m,\u001b[0m \u001b[0;34m\"Raj\"\u001b[0m\u001b[0;34m,\u001b[0m \u001b[0;34m\"Bob\"\u001b[0m\u001b[0;34m\u001b[0m\u001b[0;34m\u001b[0m\u001b[0m\n\u001b[1;32m      2\u001b[0m \u001b[0mprint\u001b[0m\u001b[0;34m(\u001b[0m\u001b[0mnames\u001b[0m\u001b[0;34m[\u001b[0m\u001b[0;36m1\u001b[0m\u001b[0;34m]\u001b[0m\u001b[0;34m)\u001b[0m\u001b[0;34m\u001b[0m\u001b[0;34m\u001b[0m\u001b[0m\n\u001b[0;32m----> 3\u001b[0;31m \u001b[0mnames\u001b[0m\u001b[0;34m[\u001b[0m\u001b[0;36m1\u001b[0m\u001b[0;34m]\u001b[0m \u001b[0;34m=\u001b[0m \u001b[0;34m\"Mina\"\u001b[0m\u001b[0;34m\u001b[0m\u001b[0;34m\u001b[0m\u001b[0m\n\u001b[0m\u001b[1;32m      4\u001b[0m \u001b[0mprint\u001b[0m\u001b[0;34m(\u001b[0m\u001b[0mnames\u001b[0m\u001b[0;34m)\u001b[0m\u001b[0;34m\u001b[0m\u001b[0;34m\u001b[0m\u001b[0m\n",
            "\u001b[0;31mTypeError\u001b[0m: 'tuple' object does not support item assignment"
          ]
        }
      ]
    },
    {
      "metadata": {
        "id": "zOSNxs6O_98j",
        "colab_type": "text"
      },
      "cell_type": "markdown",
      "source": [
        "# Controlling Execution Flow"
      ]
    },
    {
      "metadata": {
        "id": "7gCMx-GCAH-D",
        "colab_type": "text"
      },
      "cell_type": "markdown",
      "source": [
        "## While Loops\n",
        "### Keep executing code while a state is true"
      ]
    },
    {
      "metadata": {
        "id": "2npFkCwmAVPT",
        "colab_type": "code",
        "colab": {}
      },
      "cell_type": "code",
      "source": [
        "count = 0\n",
        "while count < 20:\n",
        "  print(count)\n",
        "  count += 1"
      ],
      "execution_count": 0,
      "outputs": []
    },
    {
      "metadata": {
        "id": "D5d1DTDMso8U",
        "colab_type": "text"
      },
      "cell_type": "markdown",
      "source": [
        "Keep asking for the pin number inside the while loop until either a valid pin number is entered or the attempts variables reaches a value of 3\n"
      ]
    },
    {
      "metadata": {
        "id": "K9KCGabztTOt",
        "colab_type": "text"
      },
      "cell_type": "markdown",
      "source": [
        "else runs when the while clause evaluates to false"
      ]
    },
    {
      "metadata": {
        "id": "UvitNioDrvyY",
        "colab_type": "code",
        "outputId": "e7b2c933-b41b-4772-ef8f-e7e7864d0705",
        "colab": {
          "base_uri": "https://localhost:8080/",
          "height": 136
        }
      },
      "cell_type": "code",
      "source": [
        "master_pin = \"1234\"\n",
        "pin = None\n",
        "attempts = 0 \n",
        "\n",
        "while pin != master_pin and attempts < 3:\n",
        "  pin = input(\"Enter your PIN:\")\n",
        "  if pin == master_pin:\n",
        "    print(\"Access Granted\")\n",
        "  else:\n",
        "    print(\"Access Denied\")\n",
        "    attempts += 1\n",
        "else:\n",
        "\n",
        "  if attempts == 3:\n",
        "    print(\"Account Locked\")\n",
        "  "
      ],
      "execution_count": 0,
      "outputs": [
        {
          "output_type": "stream",
          "text": [
            "Enter your PIN:2\n",
            "Access Denied\n",
            "Enter your PIN:3\n",
            "Access Denied\n",
            "Enter your PIN:4\n",
            "Access Denied\n",
            "Account Locked\n"
          ],
          "name": "stdout"
        }
      ]
    },
    {
      "metadata": {
        "id": "lvtkwzmttlq5",
        "colab_type": "text"
      },
      "cell_type": "markdown",
      "source": [
        "### For loops will execute either a set number of times "
      ]
    },
    {
      "metadata": {
        "id": "q5LWJVpdtfwk",
        "colab_type": "code",
        "outputId": "e616b054-d498-4707-b1d5-09e198c50755",
        "colab": {
          "base_uri": "https://localhost:8080/",
          "height": 357
        }
      },
      "cell_type": "code",
      "source": [
        "for num in range(20):\n",
        "  print(\"Hello for the\", num+1, \"time\")"
      ],
      "execution_count": 0,
      "outputs": [
        {
          "output_type": "stream",
          "text": [
            "Hello for the 1 time\n",
            "Hello for the 2 time\n",
            "Hello for the 3 time\n",
            "Hello for the 4 time\n",
            "Hello for the 5 time\n",
            "Hello for the 6 time\n",
            "Hello for the 7 time\n",
            "Hello for the 8 time\n",
            "Hello for the 9 time\n",
            "Hello for the 10 time\n",
            "Hello for the 11 time\n",
            "Hello for the 12 time\n",
            "Hello for the 13 time\n",
            "Hello for the 14 time\n",
            "Hello for the 15 time\n",
            "Hello for the 16 time\n",
            "Hello for the 17 time\n",
            "Hello for the 18 time\n",
            "Hello for the 19 time\n",
            "Hello for the 20 time\n"
          ],
          "name": "stdout"
        }
      ]
    },
    {
      "metadata": {
        "id": "9h-9VexG2fB3",
        "colab_type": "text"
      },
      "cell_type": "markdown",
      "source": [
        "### Exiting Loops early\n",
        "#### Use break to exit from a for or whil loop"
      ]
    },
    {
      "metadata": {
        "id": "XtWy8SwH2tEh",
        "colab_type": "code",
        "outputId": "5559f874-e353-4153-d6e2-04221a8d0827",
        "colab": {
          "base_uri": "https://localhost:8080/",
          "height": 187
        }
      },
      "cell_type": "code",
      "source": [
        "for num in range(20):\n",
        "  if num == 10: break\n",
        "  print(\"Hello for the\", num+1, \"time\")"
      ],
      "execution_count": 0,
      "outputs": [
        {
          "output_type": "stream",
          "text": [
            "Hello for the 1 time\n",
            "Hello for the 2 time\n",
            "Hello for the 3 time\n",
            "Hello for the 4 time\n",
            "Hello for the 5 time\n",
            "Hello for the 6 time\n",
            "Hello for the 7 time\n",
            "Hello for the 8 time\n",
            "Hello for the 9 time\n",
            "Hello for the 10 time\n"
          ],
          "name": "stdout"
        }
      ]
    },
    {
      "metadata": {
        "id": "d9y3qe-l23Hz",
        "colab_type": "text"
      },
      "cell_type": "markdown",
      "source": [
        "#### Use continue  to skip to the next iteration"
      ]
    },
    {
      "metadata": {
        "id": "Mmxxa1iM27gv",
        "colab_type": "code",
        "outputId": "19ed3ec4-39f0-4511-aa75-195676ea29f8",
        "colab": {
          "base_uri": "https://localhost:8080/",
          "height": 340
        }
      },
      "cell_type": "code",
      "source": [
        "for num in range(20):\n",
        "  if num == 10: continue\n",
        "  print(\"Hello for the\", num+1, \"time\")"
      ],
      "execution_count": 0,
      "outputs": [
        {
          "output_type": "stream",
          "text": [
            "Hello for the 1 time\n",
            "Hello for the 2 time\n",
            "Hello for the 3 time\n",
            "Hello for the 4 time\n",
            "Hello for the 5 time\n",
            "Hello for the 6 time\n",
            "Hello for the 7 time\n",
            "Hello for the 8 time\n",
            "Hello for the 9 time\n",
            "Hello for the 10 time\n",
            "Hello for the 12 time\n",
            "Hello for the 13 time\n",
            "Hello for the 14 time\n",
            "Hello for the 15 time\n",
            "Hello for the 16 time\n",
            "Hello for the 17 time\n",
            "Hello for the 18 time\n",
            "Hello for the 19 time\n",
            "Hello for the 20 time\n"
          ],
          "name": "stdout"
        }
      ]
    },
    {
      "metadata": {
        "id": "Izok7J1b3ElP",
        "colab_type": "text"
      },
      "cell_type": "markdown",
      "source": [
        "### Use a for loop to process a collection of data"
      ]
    },
    {
      "metadata": {
        "id": "twhOVf8m3Psr",
        "colab_type": "code",
        "outputId": "e97375f0-f5df-4ed9-f757-6cadbad4ea9c",
        "colab": {
          "base_uri": "https://localhost:8080/",
          "height": 68
        }
      },
      "cell_type": "code",
      "source": [
        "movies = [\"Star Wars\", \"Jaws\", \"Mr Bean The Movie\"]\n",
        "for movie in movies:\n",
        "  print(movie)"
      ],
      "execution_count": 0,
      "outputs": [
        {
          "output_type": "stream",
          "text": [
            "Star Wars\n",
            "Jaws\n",
            "Mr Bean The Movie\n"
          ],
          "name": "stdout"
        }
      ]
    }
  ]
}