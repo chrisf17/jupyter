{
  "nbformat": 4,
  "nbformat_minor": 0,
  "metadata": {
    "colab": {
      "name": "Day1.ipynb",
      "provenance": [],
      "collapsed_sections": [],
      "toc_visible": true,
      "include_colab_link": true
    },
    "kernelspec": {
      "name": "python3",
      "display_name": "Python 3"
    }
  },
  "cells": [
    {
      "cell_type": "markdown",
      "metadata": {
        "id": "view-in-github",
        "colab_type": "text"
      },
      "source": [
        "<a href=\"https://colab.research.google.com/github/chrisf17/jupyter/blob/master/Day1.ipynb\" target=\"_parent\"><img src=\"https://colab.research.google.com/assets/colab-badge.svg\" alt=\"Open In Colab\"/></a>"
      ]
    },
    {
      "cell_type": "markdown",
      "metadata": {
        "id": "AdVmMDHUMR45",
        "colab_type": "text"
      },
      "source": [
        "# Introduction"
      ]
    },
    {
      "cell_type": "markdown",
      "metadata": {
        "id": "eSpVxkm-lNkK",
        "colab_type": "text"
      },
      "source": [
        "## Talking Directly to the Interpreter\n",
        "#### You can talk to Python directly from the Python Console and directly execute commands. They could be as simple as basic math operations"
      ]
    },
    {
      "cell_type": "code",
      "metadata": {
        "id": "8uv5Y_F8lKM_",
        "colab_type": "code",
        "outputId": "397e5c74-3fe1-48b1-aec8-6588b18d114f",
        "colab": {
          "base_uri": "https://localhost:8080/",
          "height": 34
        }
      },
      "source": [
        "2 + 6"
      ],
      "execution_count": 2,
      "outputs": [
        {
          "output_type": "execute_result",
          "data": {
            "text/plain": [
              "8"
            ]
          },
          "metadata": {
            "tags": []
          },
          "execution_count": 2
        }
      ]
    },
    {
      "cell_type": "markdown",
      "metadata": {
        "id": "ephNtWL8k9Up",
        "colab_type": "text"
      },
      "source": [
        "## Built in Python Commands\n",
        "#### You can also execute functions from the builtin library that is available on loading the interpreter"
      ]
    },
    {
      "cell_type": "code",
      "metadata": {
        "id": "C2BejPUpkyRe",
        "colab_type": "code",
        "outputId": "10c9554a-db35-43ff-fb6e-6cabe91ca8b0",
        "colab": {
          "base_uri": "https://localhost:8080/",
          "height": 34
        }
      },
      "source": [
        "print(\"Hello World\")"
      ],
      "execution_count": 4,
      "outputs": [
        {
          "output_type": "stream",
          "text": [
            "Hello Dan\n"
          ],
          "name": "stdout"
        }
      ]
    },
    {
      "cell_type": "markdown",
      "metadata": {
        "id": "aHrHGm5mlXTg",
        "colab_type": "text"
      },
      "source": [
        "\n",
        "## Getting input from the user\n",
        "\n"
      ]
    },
    {
      "cell_type": "code",
      "metadata": {
        "id": "zQ6ab1UoleY3",
        "colab_type": "code",
        "outputId": "7ee21a61-d558-44b2-ec33-dedc5042d8f9",
        "colab": {
          "base_uri": "https://localhost:8080/",
          "height": 51
        }
      },
      "source": [
        "input(\"Enter your name:\")"
      ],
      "execution_count": 5,
      "outputs": [
        {
          "output_type": "stream",
          "text": [
            "Enter your name:Fred\n"
          ],
          "name": "stdout"
        },
        {
          "output_type": "execute_result",
          "data": {
            "text/plain": [
              "'Fred'"
            ]
          },
          "metadata": {
            "tags": []
          },
          "execution_count": 5
        }
      ]
    },
    {
      "cell_type": "markdown",
      "metadata": {
        "id": "H6OGqJOgyoCK",
        "colab_type": "text"
      },
      "source": [
        "## Creating variables"
      ]
    },
    {
      "cell_type": "code",
      "metadata": {
        "id": "vMApQzykyxOQ",
        "colab_type": "code",
        "colab": {}
      },
      "source": [
        "first_name = \"Amy\"\n",
        "age = 20"
      ],
      "execution_count": 0,
      "outputs": []
    },
    {
      "cell_type": "markdown",
      "metadata": {
        "id": "xDrco8rYy5At",
        "colab_type": "text"
      },
      "source": [
        "## Combining Variables and Commands\n"
      ]
    },
    {
      "cell_type": "code",
      "metadata": {
        "id": "BR5QfFBvzFVP",
        "colab_type": "code",
        "outputId": "2ef8d901-62fa-49d2-a554-c3c09f76daa3",
        "colab": {
          "base_uri": "https://localhost:8080/",
          "height": 54
        }
      },
      "source": [
        "first_name = input(\"Enter your name:\")\n",
        "print (\"Hi\", first_name)"
      ],
      "execution_count": 0,
      "outputs": [
        {
          "output_type": "stream",
          "text": [
            "Enter your name:Beth\n",
            "Hi Beth\n"
          ],
          "name": "stdout"
        }
      ]
    },
    {
      "cell_type": "markdown",
      "metadata": {
        "id": "YAo228w7Mtue",
        "colab_type": "text"
      },
      "source": [
        "## Using other Modules"
      ]
    },
    {
      "cell_type": "markdown",
      "metadata": {
        "id": "SdkIt8KkNF7T",
        "colab_type": "text"
      },
      "source": [
        "Python has access to the functions in the builtin library. If you need anything else you need to import it from reusable modules that are part of the standard library or written by other team members.\n",
        "\n",
        "**Here** we are importing the random module to generate a random number. Keep running it!"
      ]
    },
    {
      "cell_type": "code",
      "metadata": {
        "id": "Br38Vf2SMwgJ",
        "colab_type": "code",
        "colab": {}
      },
      "source": [
        "import random\n",
        "my_num = random.randint(1, 50)\n",
        "print(my_num)"
      ],
      "execution_count": 0,
      "outputs": []
    },
    {
      "cell_type": "markdown",
      "metadata": {
        "id": "dDUUnHGizdbV",
        "colab_type": "text"
      },
      "source": [
        "# *Data* Type\n",
        "### Python infers data type based on what you assign to your variable"
      ]
    },
    {
      "cell_type": "code",
      "metadata": {
        "id": "-aIz-95uzbFZ",
        "colab_type": "code",
        "outputId": "04c6b86b-3106-484c-8e5b-a7410c549f70",
        "colab": {
          "base_uri": "https://localhost:8080/",
          "height": 35
        }
      },
      "source": [
        "name = \"Beth\"\n",
        "type(name)\n",
        "\n"
      ],
      "execution_count": 0,
      "outputs": [
        {
          "output_type": "execute_result",
          "data": {
            "text/plain": [
              "str"
            ]
          },
          "metadata": {
            "tags": []
          },
          "execution_count": 8
        }
      ]
    },
    {
      "cell_type": "code",
      "metadata": {
        "id": "ootVa-WM9ZYY",
        "colab_type": "code",
        "colab": {}
      },
      "source": [
        "age = 21\n",
        "type(age)"
      ],
      "execution_count": 0,
      "outputs": []
    },
    {
      "cell_type": "code",
      "metadata": {
        "id": "qeOSPLD69n3Y",
        "colab_type": "code",
        "outputId": "91427c85-3067-42e5-bfce-c94f97406885",
        "colab": {
          "base_uri": "https://localhost:8080/",
          "height": 34
        }
      },
      "source": [
        "price = 9.99\n",
        "type(price)"
      ],
      "execution_count": 0,
      "outputs": [
        {
          "output_type": "execute_result",
          "data": {
            "text/plain": [
              "float"
            ]
          },
          "metadata": {
            "tags": []
          },
          "execution_count": 1
        }
      ]
    },
    {
      "cell_type": "markdown",
      "metadata": {
        "id": "6b5oF0NE_-bi",
        "colab_type": "text"
      },
      "source": [
        "#### Integers are whole numbers floats are numbers that store the fractional part of the number"
      ]
    },
    {
      "cell_type": "markdown",
      "metadata": {
        "id": "p2y0kJ88ATSi",
        "colab_type": "text"
      },
      "source": [
        "## Number Operations"
      ]
    },
    {
      "cell_type": "code",
      "metadata": {
        "id": "BHW3MuT4AjK6",
        "colab_type": "code",
        "colab": {}
      },
      "source": [
        "count = 1\n",
        "count = count + 1\n",
        "print(count)"
      ],
      "execution_count": 0,
      "outputs": []
    },
    {
      "cell_type": "markdown",
      "metadata": {
        "id": "wbe8b-wQAtpm",
        "colab_type": "text"
      },
      "source": [
        "Compound operations allow for simple math operations using a more concise syntax. Code below is the equivalent of above"
      ]
    },
    {
      "cell_type": "code",
      "metadata": {
        "id": "kOEbvlaBA5aO",
        "colab_type": "code",
        "colab": {}
      },
      "source": [
        "count = 1\n",
        "count += 1\n",
        "print(count)"
      ],
      "execution_count": 0,
      "outputs": []
    },
    {
      "cell_type": "markdown",
      "metadata": {
        "id": "wX74mtyWBAEA",
        "colab_type": "text"
      },
      "source": [
        "### Other Math operators include:\n",
        "- \\* for multiply\n",
        "- \\- for subtract\n",
        "- / for divide\n",
        "- // for integer divide\n",
        "- % for remainder (modulo) division\n",
        "\n",
        "Each operator has a compound equivalent\n"
      ]
    },
    {
      "cell_type": "markdown",
      "metadata": {
        "id": "Sd7bAOgsLpae",
        "colab_type": "text"
      },
      "source": [
        "### What will be the result of the following operation?"
      ]
    },
    {
      "cell_type": "code",
      "metadata": {
        "id": "1TxXw4UzLhnS",
        "colab_type": "code",
        "colab": {}
      },
      "source": [
        "count = 2\n",
        "count *= 3\n",
        "print(count)"
      ],
      "execution_count": 0,
      "outputs": []
    },
    {
      "cell_type": "markdown",
      "metadata": {
        "id": "B1vo0k3u_6ej",
        "colab_type": "text"
      },
      "source": [
        "## Operating on Types"
      ]
    },
    {
      "cell_type": "markdown",
      "metadata": {
        "id": "zkEBWeIU-LPQ",
        "colab_type": "text"
      },
      "source": [
        "### Combining Types"
      ]
    },
    {
      "cell_type": "markdown",
      "metadata": {
        "id": "OsecymIz-atq",
        "colab_type": "text"
      },
      "source": [
        "### Types can be combined/joined using the + operator"
      ]
    },
    {
      "cell_type": "code",
      "metadata": {
        "id": "JmNAbfEI-YfX",
        "colab_type": "code",
        "colab": {}
      },
      "source": [
        "first_name = \"Amy\"\n",
        "last_name = \"Anderson\"\n",
        "full_name = first_name + \" \" + last_name\n",
        "print(full_name)"
      ],
      "execution_count": 0,
      "outputs": []
    },
    {
      "cell_type": "markdown",
      "metadata": {
        "id": "cKvP3e94-9Uu",
        "colab_type": "text"
      },
      "source": [
        "### But only if the types are compatible"
      ]
    },
    {
      "cell_type": "code",
      "metadata": {
        "id": "GgJsRTMF_EBH",
        "colab_type": "code",
        "colab": {}
      },
      "source": [
        "age = 21\n",
        "message = first_name + \" is \" + age"
      ],
      "execution_count": 0,
      "outputs": []
    },
    {
      "cell_type": "markdown",
      "metadata": {
        "id": "FxXQDzNhK0ts",
        "colab_type": "text"
      },
      "source": [
        "### int and str don't mix!"
      ]
    },
    {
      "cell_type": "markdown",
      "metadata": {
        "id": "a9EWBcZm_dD7",
        "colab_type": "text"
      },
      "source": [
        "### Instead convert the age from an integer to as string using the str function"
      ]
    },
    {
      "cell_type": "code",
      "metadata": {
        "id": "v3eCwd1B_RT3",
        "colab_type": "code",
        "colab": {}
      },
      "source": [
        "message = first_name + \" is \" + str(age)\n",
        "print(message)"
      ],
      "execution_count": 0,
      "outputs": []
    },
    {
      "cell_type": "markdown",
      "metadata": {
        "id": "1_LGNpNo41VJ",
        "colab_type": "text"
      },
      "source": [
        "## Lists and Tuples"
      ]
    },
    {
      "cell_type": "code",
      "metadata": {
        "id": "Qr5v1uyF44gE",
        "colab_type": "code",
        "colab": {}
      },
      "source": [
        "names = [\"Fred\", \"Amy\", \"Raj\", \"Bob\"]\n",
        "print(names[1])\n"
      ],
      "execution_count": 0,
      "outputs": []
    },
    {
      "cell_type": "markdown",
      "metadata": {
        "id": "eG6uScvF5ke3",
        "colab_type": "text"
      },
      "source": [
        "### List can be updated"
      ]
    },
    {
      "cell_type": "code",
      "metadata": {
        "id": "2IqFEcty5c8Q",
        "colab_type": "code",
        "colab": {}
      },
      "source": [
        "names = [\"Fred\", \"Amy\", \"Raj\", \"Bob\"]\n",
        "print(names[1])\n",
        "names[1] = \"Mina\"\n",
        "print(names)"
      ],
      "execution_count": 0,
      "outputs": []
    },
    {
      "cell_type": "markdown",
      "metadata": {
        "id": "6Ww-FexB52s_",
        "colab_type": "text"
      },
      "source": [
        "### Tuples can't be changed"
      ]
    },
    {
      "cell_type": "code",
      "metadata": {
        "id": "x55ZF2GH58Pm",
        "colab_type": "code",
        "colab": {}
      },
      "source": [
        "names = \"Fred\", \"Amy\", \"Raj\", \"Bob\"\n",
        "print(names[1])\n",
        "names[1] = \"Mina\"\n",
        "print(names)"
      ],
      "execution_count": 0,
      "outputs": []
    },
    {
      "cell_type": "markdown",
      "metadata": {
        "id": "zOSNxs6O_98j",
        "colab_type": "text"
      },
      "source": [
        "# Controlling Execution Flow"
      ]
    },
    {
      "cell_type": "markdown",
      "metadata": {
        "id": "7gCMx-GCAH-D",
        "colab_type": "text"
      },
      "source": [
        "## While Loops\n",
        "### Keep executing code while a state is true"
      ]
    },
    {
      "cell_type": "code",
      "metadata": {
        "id": "2npFkCwmAVPT",
        "colab_type": "code",
        "colab": {}
      },
      "source": [
        "count = 0\n",
        "while count < 20:\n",
        "  print(count)\n",
        "  count += 1"
      ],
      "execution_count": 0,
      "outputs": []
    },
    {
      "cell_type": "markdown",
      "metadata": {
        "id": "D5d1DTDMso8U",
        "colab_type": "text"
      },
      "source": [
        "Keep asking for the pin number inside the while loop until either a valid pin number is entered or the attempts variables reaches a value of 3\n"
      ]
    },
    {
      "cell_type": "markdown",
      "metadata": {
        "id": "K9KCGabztTOt",
        "colab_type": "text"
      },
      "source": [
        "else runs when the while clause evaluates to false"
      ]
    },
    {
      "cell_type": "code",
      "metadata": {
        "id": "UvitNioDrvyY",
        "colab_type": "code",
        "outputId": "40c920ab-720f-4525-dbe3-3dc2004b0731",
        "colab": {
          "base_uri": "https://localhost:8080/",
          "height": 90
        }
      },
      "source": [
        "master_pin = \"1234\"\n",
        "pin = None\n",
        "attempts = 0 \n",
        "\n",
        "while pin != master_pin and attempts < 3:\n",
        "  pin = input(\"Enter your PIN:\")\n",
        "  if pin == master_pin:\n",
        "    print(\"Access Granted\")\n",
        "  else:\n",
        "    print(\"Access Denied\")\n",
        "    attempts += 1\n",
        "else:\n",
        "\n",
        "  if attempts == 3:\n",
        "    print(\"Account Locked\")\n",
        "  "
      ],
      "execution_count": 0,
      "outputs": [
        {
          "output_type": "stream",
          "text": [
            "Enter your PIN:26262\n",
            "Access Denied\n",
            "Enter your PIN:1234\n",
            "Access Granted\n"
          ],
          "name": "stdout"
        }
      ]
    },
    {
      "cell_type": "markdown",
      "metadata": {
        "id": "lvtkwzmttlq5",
        "colab_type": "text"
      },
      "source": [
        "### For loops will execute either a set number of times "
      ]
    },
    {
      "cell_type": "code",
      "metadata": {
        "id": "q5LWJVpdtfwk",
        "colab_type": "code",
        "colab": {}
      },
      "source": [
        "for num in range(20):\n",
        "  print(\"Hello for the\", num+1, \"time\")"
      ],
      "execution_count": 0,
      "outputs": []
    },
    {
      "cell_type": "markdown",
      "metadata": {
        "id": "9h-9VexG2fB3",
        "colab_type": "text"
      },
      "source": [
        "### Exiting Loops early\n",
        "#### Use break to exit from a for or whil loop"
      ]
    },
    {
      "cell_type": "code",
      "metadata": {
        "id": "XtWy8SwH2tEh",
        "colab_type": "code",
        "colab": {}
      },
      "source": [
        "for num in range(20):\n",
        "  if num == 10: break\n",
        "  print(\"Hello for the\", num+1, \"time\")"
      ],
      "execution_count": 0,
      "outputs": []
    },
    {
      "cell_type": "markdown",
      "metadata": {
        "id": "d9y3qe-l23Hz",
        "colab_type": "text"
      },
      "source": [
        "#### Use continue  to skip to the next iteration"
      ]
    },
    {
      "cell_type": "code",
      "metadata": {
        "id": "Mmxxa1iM27gv",
        "colab_type": "code",
        "colab": {}
      },
      "source": [
        "for num in range(20):\n",
        "  if num == 10: continue\n",
        "  print(\"Hello for the\", num+1, \"time\")"
      ],
      "execution_count": 0,
      "outputs": []
    },
    {
      "cell_type": "markdown",
      "metadata": {
        "id": "Izok7J1b3ElP",
        "colab_type": "text"
      },
      "source": [
        "### Use a for loop to process a collection of data"
      ]
    },
    {
      "cell_type": "code",
      "metadata": {
        "id": "twhOVf8m3Psr",
        "colab_type": "code",
        "colab": {}
      },
      "source": [
        "movies = [\"Star Wars\", \"Jaws\", \"Mr Bean The Movie\"]\n",
        "for movie in movies:\n",
        "  print(movie)"
      ],
      "execution_count": 0,
      "outputs": []
    },
    {
      "cell_type": "markdown",
      "metadata": {
        "id": "-Jd1VwpY2XJD",
        "colab_type": "text"
      },
      "source": [
        "[Day2](https://colab.research.google.com/drive/1M6hL_bUqTK-E-wjyLz8YuJvG3fGMbbbx)"
      ]
    }
  ]
}