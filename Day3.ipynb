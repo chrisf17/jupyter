{
  "nbformat": 4,
  "nbformat_minor": 0,
  "metadata": {
    "colab": {
      "name": "Day3.ipynb",
      "version": "0.3.2",
      "provenance": [],
      "collapsed_sections": [],
      "toc_visible": true,
      "include_colab_link": true
    },
    "kernelspec": {
      "name": "python3",
      "display_name": "Python 3"
    }
  },
  "cells": [
    {
      "cell_type": "markdown",
      "metadata": {
        "id": "view-in-github",
        "colab_type": "text"
      },
      "source": [
        "<a href=\"https://colab.research.google.com/github/chrisf17/jupyter/blob/master/Day3.ipynb\" target=\"_parent\"><img src=\"https://colab.research.google.com/assets/colab-badge.svg\" alt=\"Open In Colab\"/></a>"
      ]
    },
    {
      "metadata": {
        "id": "eZG6FoWvPAax",
        "colab_type": "text"
      },
      "cell_type": "markdown",
      "source": [
        "# Functions\n",
        "\n",
        "Python is a scripting language but that doesn't mean you have to write everything in one long monolithic script.\n",
        "\n",
        "Just like an author doesn't write an entire book in one chapter we don't write our code in one module. Instead we break the code down into reusable chunks called functions.\n",
        "\n",
        "Each function is written as a discrete, self contained, resuable block of code, ideally responsible for doing one thing.\n",
        "\n",
        "## Defining a Function\n",
        "\n",
        "Use the **def** keyword, give the function a name, add some round brackets followed by **:**\n",
        " and then ...\n",
        " \n",
        " Indent the code that belongs to the function by four spaces.\n",
        " \n",
        " \n",
        "**def do_something():**\n",
        "\n",
        "    print(\"I am doing something\")\n",
        "    \n",
        "\n",
        "##Calling a Function\n",
        "\n",
        "Just use the name of the function followed by round brackets to effect the invocation.\n",
        "\n",
        "**do_something()**\n",
        "\n",
        "\n",
        "\n"
      ]
    },
    {
      "metadata": {
        "id": "4GiSIxbINClX",
        "colab_type": "code",
        "outputId": "a1be6422-5282-4595-b377-f88e17a05850",
        "colab": {
          "base_uri": "https://localhost:8080/",
          "height": 34
        }
      },
      "cell_type": "code",
      "source": [
        "def say_hello():\n",
        "    print(\"Hello World\")\n",
        "\n",
        "\n",
        "say_hello()\n",
        "  "
      ],
      "execution_count": 0,
      "outputs": [
        {
          "output_type": "stream",
          "text": [
            "Hello World\n"
          ],
          "name": "stdout"
        }
      ]
    },
    {
      "metadata": {
        "id": "E_g-l5O1LJYF",
        "colab_type": "text"
      },
      "cell_type": "markdown",
      "source": [
        "## Parameters\n",
        "\n",
        "To change the behaviour of a function you need to pass data into it in the form of parameters. "
      ]
    },
    {
      "metadata": {
        "id": "2R9Qp-cVLKMw",
        "colab_type": "code",
        "outputId": "be1d25a5-bf55-41df-dcee-b500338f918a",
        "colab": {
          "base_uri": "https://localhost:8080/",
          "height": 34
        }
      },
      "cell_type": "code",
      "source": [
        "def say_hello(first_name):\n",
        "    print(f\"Hello {first_name}\")\n",
        "\n",
        "\n",
        "say_hello(\"Beth\")"
      ],
      "execution_count": 0,
      "outputs": [
        {
          "output_type": "stream",
          "text": [
            "Hello Beth\n"
          ],
          "name": "stdout"
        }
      ]
    },
    {
      "metadata": {
        "id": "UA-rODFcTzdP",
        "colab_type": "text"
      },
      "cell_type": "markdown",
      "source": [
        "If you don't pass expected parameters look what happens!"
      ]
    },
    {
      "metadata": {
        "id": "1pWbysgkT5Zd",
        "colab_type": "code",
        "outputId": "854b1f04-848b-4b84-c606-9f25a88f9348",
        "colab": {
          "base_uri": "https://localhost:8080/",
          "height": 198
        }
      },
      "cell_type": "code",
      "source": [
        "def say_hello(first_name):\n",
        "    print(f\"Hello {first_name}\")\n",
        "\n",
        "\n",
        "say_hello()"
      ],
      "execution_count": 0,
      "outputs": [
        {
          "output_type": "error",
          "ename": "TypeError",
          "evalue": "ignored",
          "traceback": [
            "\u001b[0;31m---------------------------------------------------------------------------\u001b[0m",
            "\u001b[0;31mTypeError\u001b[0m                                 Traceback (most recent call last)",
            "\u001b[0;32m<ipython-input-3-c5b1ffe07d6d>\u001b[0m in \u001b[0;36m<module>\u001b[0;34m()\u001b[0m\n\u001b[1;32m      3\u001b[0m \u001b[0;34m\u001b[0m\u001b[0m\n\u001b[1;32m      4\u001b[0m \u001b[0;34m\u001b[0m\u001b[0m\n\u001b[0;32m----> 5\u001b[0;31m \u001b[0msay_hello\u001b[0m\u001b[0;34m(\u001b[0m\u001b[0;34m)\u001b[0m\u001b[0;34m\u001b[0m\u001b[0;34m\u001b[0m\u001b[0m\n\u001b[0m",
            "\u001b[0;31mTypeError\u001b[0m: say_hello() missing 1 required positional argument: 'first_name'"
          ]
        }
      ]
    },
    {
      "metadata": {
        "id": "LF7Yw88OUCt6",
        "colab_type": "text"
      },
      "cell_type": "markdown",
      "source": [
        "Parameters can be made optional by providing a default value.\n",
        "\n",
        "Here we are allowing first_name to default to **World** if it's not supplied as a parameters. That means no error"
      ]
    },
    {
      "metadata": {
        "id": "yqmil5RBUFv1",
        "colab_type": "code",
        "outputId": "a707f17d-a61c-4a47-fae4-fcb324245b6e",
        "colab": {
          "base_uri": "https://localhost:8080/",
          "height": 34
        }
      },
      "cell_type": "code",
      "source": [
        "def say_hello(first_name=\"World\"):\n",
        "    print(f\"Hello {first_name}\")\n",
        "\n",
        "\n",
        "say_hello()"
      ],
      "execution_count": 0,
      "outputs": [
        {
          "output_type": "stream",
          "text": [
            "Hello World\n"
          ],
          "name": "stdout"
        }
      ]
    },
    {
      "metadata": {
        "id": "K8Eyrnwj84Wa",
        "colab_type": "text"
      },
      "cell_type": "markdown",
      "source": [
        "## Multiple Parameters\n",
        "\n",
        "Functions can have more than one parameter and can be passed data in the order they appear in the parameter list"
      ]
    },
    {
      "metadata": {
        "id": "g_utXvkT9Llo",
        "colab_type": "code",
        "outputId": "761a1e2d-2361-4e54-a74c-88eae2ff8c87",
        "colab": {
          "base_uri": "https://localhost:8080/",
          "height": 34
        }
      },
      "cell_type": "code",
      "source": [
        "def say_hello(first_name, last_name):\n",
        "    print(f\"Hello {first_name} {last_name}\")\n",
        "\n",
        "\n",
        "say_hello(\"Beth\", \"McGregor\")"
      ],
      "execution_count": 0,
      "outputs": [
        {
          "output_type": "stream",
          "text": [
            "Hello Beth McGregor\n"
          ],
          "name": "stdout"
        }
      ]
    },
    {
      "metadata": {
        "id": "14ynqEzE-Ne4",
        "colab_type": "text"
      },
      "cell_type": "markdown",
      "source": [
        "## Named Parameters\n",
        "\n",
        "To pass parameters out of order/sequence you need to name your parameters"
      ]
    },
    {
      "metadata": {
        "id": "tW6g77wu-2Ul",
        "colab_type": "code",
        "outputId": "b750461b-f4a2-4560-aef0-3772506ac44f",
        "colab": {
          "base_uri": "https://localhost:8080/",
          "height": 34
        }
      },
      "cell_type": "code",
      "source": [
        "def say_hello(first_name, last_name):\n",
        "    print(f\"Hello {first_name} {last_name}\")\n",
        "\n",
        "\n",
        "say_hello(last_name = \"McGregor\", first_name = \"Beth\")"
      ],
      "execution_count": 0,
      "outputs": [
        {
          "output_type": "stream",
          "text": [
            "Hello Beth McGregor\n"
          ],
          "name": "stdout"
        }
      ]
    },
    {
      "metadata": {
        "id": "RtIsXiZhJobL",
        "colab_type": "text"
      },
      "cell_type": "markdown",
      "source": [
        "## Enforcing Named Parameters\n",
        "\n",
        "To ensure functions are always called with named parameters use an asterisk as a first parameter then if a function is called with named parameters an error will be thrown"
      ]
    },
    {
      "metadata": {
        "id": "XjJIEPTIKiMe",
        "colab_type": "code",
        "outputId": "efe8021f-36fa-4659-c217-f0260dc4d85a",
        "colab": {
          "base_uri": "https://localhost:8080/",
          "height": 215
        }
      },
      "cell_type": "code",
      "source": [
        "def say_hello(*, first_name, last_name):\n",
        "    print(f\"Hello {first_name} {last_name}\")\n",
        "\n",
        "\n",
        "say_hello(last_name = \"McGregor\", first_name = \"Beth\")\n",
        "\n",
        "say_hello(\"Fred\", \"Bloggs\")\n"
      ],
      "execution_count": 0,
      "outputs": [
        {
          "output_type": "stream",
          "text": [
            "Hello Beth McGregor\n"
          ],
          "name": "stdout"
        },
        {
          "output_type": "error",
          "ename": "TypeError",
          "evalue": "ignored",
          "traceback": [
            "\u001b[0;31m---------------------------------------------------------------------------\u001b[0m",
            "\u001b[0;31mTypeError\u001b[0m                                 Traceback (most recent call last)",
            "\u001b[0;32m<ipython-input-1-4e39983b7482>\u001b[0m in \u001b[0;36m<module>\u001b[0;34m()\u001b[0m\n\u001b[1;32m      5\u001b[0m \u001b[0msay_hello\u001b[0m\u001b[0;34m(\u001b[0m\u001b[0mlast_name\u001b[0m \u001b[0;34m=\u001b[0m \u001b[0;34m\"McGregor\"\u001b[0m\u001b[0;34m,\u001b[0m \u001b[0mfirst_name\u001b[0m \u001b[0;34m=\u001b[0m \u001b[0;34m\"Beth\"\u001b[0m\u001b[0;34m)\u001b[0m\u001b[0;34m\u001b[0m\u001b[0;34m\u001b[0m\u001b[0m\n\u001b[1;32m      6\u001b[0m \u001b[0;34m\u001b[0m\u001b[0m\n\u001b[0;32m----> 7\u001b[0;31m \u001b[0msay_hello\u001b[0m\u001b[0;34m(\u001b[0m\u001b[0;34m\"Fred\"\u001b[0m\u001b[0;34m,\u001b[0m \u001b[0;34m\"Bloggs\"\u001b[0m\u001b[0;34m)\u001b[0m\u001b[0;34m\u001b[0m\u001b[0;34m\u001b[0m\u001b[0m\n\u001b[0m",
            "\u001b[0;31mTypeError\u001b[0m: say_hello() takes 0 positional arguments but 2 were given"
          ]
        }
      ]
    },
    {
      "metadata": {
        "id": "VFhPbExYhi2U",
        "colab_type": "text"
      },
      "cell_type": "markdown",
      "source": [
        "## Scope: What happens inside a function stays inside a function!\n",
        "\n",
        "You can declare variables inside your functions."
      ]
    },
    {
      "metadata": {
        "id": "3Y0K30L3vklv",
        "colab_type": "code",
        "outputId": "513a5554-4d36-4bee-d84c-e4fef204a7fb",
        "colab": {
          "base_uri": "https://localhost:8080/",
          "height": 215
        }
      },
      "cell_type": "code",
      "source": [
        "def say_hello(first_name):\n",
        "\n",
        "    message = f\"Hello {first_name}\"\n",
        "    print(message)\n",
        "\n",
        "say_hello(\"Beth\")\n",
        "\n",
        "print(message)"
      ],
      "execution_count": 0,
      "outputs": [
        {
          "output_type": "stream",
          "text": [
            "Hello Beth\n"
          ],
          "name": "stdout"
        },
        {
          "output_type": "error",
          "ename": "NameError",
          "evalue": "ignored",
          "traceback": [
            "\u001b[0;31m---------------------------------------------------------------------------\u001b[0m",
            "\u001b[0;31mNameError\u001b[0m                                 Traceback (most recent call last)",
            "\u001b[0;32m<ipython-input-1-dc4d5a239a41>\u001b[0m in \u001b[0;36m<module>\u001b[0;34m()\u001b[0m\n\u001b[1;32m      6\u001b[0m \u001b[0msay_hello\u001b[0m\u001b[0;34m(\u001b[0m\u001b[0;34m\"Beth\"\u001b[0m\u001b[0;34m)\u001b[0m\u001b[0;34m\u001b[0m\u001b[0;34m\u001b[0m\u001b[0m\n\u001b[1;32m      7\u001b[0m \u001b[0;34m\u001b[0m\u001b[0m\n\u001b[0;32m----> 8\u001b[0;31m \u001b[0mprint\u001b[0m\u001b[0;34m(\u001b[0m\u001b[0mmessage\u001b[0m\u001b[0;34m)\u001b[0m\u001b[0;34m\u001b[0m\u001b[0;34m\u001b[0m\u001b[0m\n\u001b[0m",
            "\u001b[0;31mNameError\u001b[0m: name 'message' is not defined"
          ]
        }
      ]
    },
    {
      "metadata": {
        "id": "hu0N1gi9vzst",
        "colab_type": "text"
      },
      "cell_type": "markdown",
      "source": [
        "Notice how the **message** variable inside the **say_hello** function can be printed inside the function but we get an error when we try to print it on the outside.\n",
        "\n",
        "That's because the data you define within a function is local just to that function and lives in memory only as long as the function is exctuting\n",
        "\n",
        "If you want to give the outside world access to data inside a function you have to return it"
      ]
    },
    {
      "metadata": {
        "id": "kKjmUK6JvbCI",
        "colab_type": "text"
      },
      "cell_type": "markdown",
      "source": [
        "## Returning Data from Functions\n",
        "\n",
        "A function can return any kind of object. That means although data is private inside a function it can be copied to the outside."
      ]
    },
    {
      "metadata": {
        "id": "331MvgiWEOW0",
        "colab_type": "code",
        "outputId": "9fbbf01b-fb79-4c80-fb80-56dce2bcef1c",
        "colab": {
          "base_uri": "https://localhost:8080/",
          "height": 34
        }
      },
      "cell_type": "code",
      "source": [
        "def add(first, second):\n",
        "  \n",
        "    \n",
        "    # local variable\n",
        "    result = first + second \n",
        "    \n",
        "    return result # instead of print out result we return it\n",
        "\n",
        "# Returned data is caught in a catching cariable in this case called added_data\n",
        "added_data = add(5, 3)\n",
        "print(added_data)\n"
      ],
      "execution_count": 0,
      "outputs": [
        {
          "output_type": "stream",
          "text": [
            "8\n"
          ],
          "name": "stdout"
        }
      ]
    },
    {
      "metadata": {
        "id": "d9f43cIqVjEO",
        "colab_type": "text"
      },
      "cell_type": "markdown",
      "source": [
        "## Variadic Parameters\n",
        "\n",
        "A variadic parameter allows more than one value to be passed to it when its function is invoked"
      ]
    },
    {
      "metadata": {
        "id": "Tow3eBOdWV_g",
        "colab_type": "code",
        "outputId": "b3b1be53-0263-4f90-dbcc-116820097dc0",
        "colab": {
          "base_uri": "https://localhost:8080/",
          "height": 102
        }
      },
      "cell_type": "code",
      "source": [
        "def make_smoothie(name, *fruits):\n",
        "    print(f\"Smoothie {name} contains:\")\n",
        "    print(fruits)\n",
        "    for fruit in fruits:\n",
        "      print(fruit)\n",
        "      \n",
        "make_smoothie(\"Strawberry Burst\", \"Strawberries\", \"Banana\", \"Mango\") \n"
      ],
      "execution_count": 0,
      "outputs": [
        {
          "output_type": "stream",
          "text": [
            "Smoothie Strawberry Burst contains:\n",
            "('Strawberries', 'Banana', 'Mango')\n",
            "Strawberries\n",
            "Banana\n",
            "Mango\n"
          ],
          "name": "stdout"
        }
      ]
    },
    {
      "metadata": {
        "id": "lmHgkgGCX1PP",
        "colab_type": "text"
      },
      "cell_type": "markdown",
      "source": [
        "Notice above we have a function with two parameters but we passed it four. The \\*fruits indicates a variadic parameter which appear as the last parameter and can be passed multiple values.\n",
        "\n",
        "The data is received as a tuple\n",
        "\n",
        "## Python Keyword Parameters\n",
        "\n",
        "Keyword parameters allow dynamically defined parameters to be passed to a function and recieved as a dictionary\n",
        "\n",
        "Declare a parameter using **param_name"
      ]
    },
    {
      "metadata": {
        "id": "GmrtxY-J7rro",
        "colab_type": "code",
        "outputId": "76e2b1fc-9446-45fd-8e60-2da8078668e0",
        "colab": {
          "base_uri": "https://localhost:8080/",
          "height": 68
        }
      },
      "cell_type": "code",
      "source": [
        "def display_movie(title, **details):\n",
        "    print(f\"Movie Title:{title}\")\n",
        "    print(details)\n",
        "    print(details[\"director\"])\n",
        "\n",
        "display_movie(\"Star Wars\", year=1977, duration=\"1h22m\", director=\"Steven Spielberg\")\n",
        "  "
      ],
      "execution_count": 0,
      "outputs": [
        {
          "output_type": "stream",
          "text": [
            "Movie Title:Star Wars\n",
            "{'year': 1977, 'duration': '1h22m', 'director': 'Steven Spielberg'}\n",
            "Steven Spielberg\n"
          ],
          "name": "stdout"
        }
      ]
    },
    {
      "metadata": {
        "id": "KbQq4ThGLJM4",
        "colab_type": "text"
      },
      "cell_type": "markdown",
      "source": [
        "## Variable Scope\n",
        "\n",
        "When you declare a variable in your module it can be accessed by any module level code written below it but not above it\n",
        "\n",
        "That's why the code below errors because we try to print y before it is declared\n",
        "\n",
        "\n"
      ]
    },
    {
      "metadata": {
        "id": "okcrOC4YMEzd",
        "colab_type": "code",
        "outputId": "95db50b7-69a6-4e6a-caeb-4e93e1bf60c0",
        "colab": {
          "base_uri": "https://localhost:8080/",
          "height": 249
        }
      },
      "cell_type": "code",
      "source": [
        "x = 10\n",
        "print(x)\n",
        "print(y) \n",
        "y = 20\n",
        "print(y)"
      ],
      "execution_count": 0,
      "outputs": [
        {
          "output_type": "stream",
          "text": [
            "10\n"
          ],
          "name": "stdout"
        },
        {
          "output_type": "error",
          "ename": "NameError",
          "evalue": "ignored",
          "traceback": [
            "\u001b[0;31m---------------------------------------------------------------------------\u001b[0m",
            "\u001b[0;31mNameError\u001b[0m                                 Traceback (most recent call last)",
            "\u001b[0;32m<ipython-input-1-a3cb15b7df1c>\u001b[0m in \u001b[0;36m<module>\u001b[0;34m()\u001b[0m\n\u001b[1;32m      1\u001b[0m \u001b[0mx\u001b[0m \u001b[0;34m=\u001b[0m \u001b[0;36m10\u001b[0m\u001b[0;34m\u001b[0m\u001b[0;34m\u001b[0m\u001b[0m\n\u001b[1;32m      2\u001b[0m \u001b[0mprint\u001b[0m\u001b[0;34m(\u001b[0m\u001b[0mx\u001b[0m\u001b[0;34m)\u001b[0m\u001b[0;34m\u001b[0m\u001b[0;34m\u001b[0m\u001b[0m\n\u001b[0;32m----> 3\u001b[0;31m \u001b[0mprint\u001b[0m\u001b[0;34m(\u001b[0m\u001b[0my\u001b[0m\u001b[0;34m)\u001b[0m\u001b[0;34m\u001b[0m\u001b[0;34m\u001b[0m\u001b[0m\n\u001b[0m\u001b[1;32m      4\u001b[0m \u001b[0my\u001b[0m \u001b[0;34m=\u001b[0m \u001b[0;36m20\u001b[0m\u001b[0;34m\u001b[0m\u001b[0;34m\u001b[0m\u001b[0m\n\u001b[1;32m      5\u001b[0m \u001b[0mprint\u001b[0m\u001b[0;34m(\u001b[0m\u001b[0my\u001b[0m\u001b[0;34m)\u001b[0m\u001b[0;34m\u001b[0m\u001b[0;34m\u001b[0m\u001b[0m\n",
            "\u001b[0;31mNameError\u001b[0m: name 'y' is not defined"
          ]
        }
      ]
    },
    {
      "metadata": {
        "id": "TMA_8QDgJTT_",
        "colab_type": "text"
      },
      "cell_type": "markdown",
      "source": [
        "### Functions can see data declared in their module\n",
        "\n",
        "Functions have access to:\n",
        "\n",
        "- Any variables declared in their containing module \n",
        "\n",
        "- Any functions declared in their containing module \n",
        "\n",
        "- Any the publicly accessible content of any other imported modules\n"
      ]
    },
    {
      "metadata": {
        "id": "Yet5KT0aKSC5",
        "colab_type": "code",
        "outputId": "77f8c575-e527-4bea-bacc-d0a4f03f61ae",
        "colab": {
          "base_uri": "https://localhost:8080/",
          "height": 51
        }
      },
      "cell_type": "code",
      "source": [
        "x = 10 # global variable accessible to all code of module and any module that imports it\n",
        "\n",
        "def print_vars():\n",
        "  \n",
        "    y = 20 # Local variable only accessible inside print_vars\n",
        "  \n",
        "    print(f\"print_vars() -> x:{x}, y:{y}\")\n",
        "\n",
        "print_vars()\n",
        "print(f\"module -> x:{x}\")\n",
        "#print(f\"module -> y:{y}\")"
      ],
      "execution_count": 0,
      "outputs": [
        {
          "output_type": "stream",
          "text": [
            "print_vars() -> x:10, y:20\n",
            "module -> x:10\n"
          ],
          "name": "stdout"
        }
      ]
    },
    {
      "metadata": {
        "id": "URaCMFPSKRMS",
        "colab_type": "text"
      },
      "cell_type": "markdown",
      "source": [
        "Try uncommenting the code line 11 and run it again. You should get an error because y isn't accessible from outside the function\n",
        "\n"
      ]
    },
    {
      "metadata": {
        "id": "9QwTTqdoMEel",
        "colab_type": "text"
      },
      "cell_type": "markdown",
      "source": [
        "### Local Scope\n",
        "\n"
      ]
    },
    {
      "metadata": {
        "id": "20257SpPMRuv",
        "colab_type": "text"
      },
      "cell_type": "markdown",
      "source": [
        "When you declare a variableit joins the local variables collection for that functions. You can actually see this happen by printing the locals() function. locals() returns a dictionary containing all variables in the local scope of the current contect (function or module)"
      ]
    },
    {
      "metadata": {
        "id": "P9X9H3DfMsX4",
        "colab_type": "code",
        "outputId": "2dc4de03-d9eb-4b5c-c7fb-ea2029645771",
        "colab": {
          "base_uri": "https://localhost:8080/",
          "height": 34
        }
      },
      "cell_type": "code",
      "source": [
        "x = 10\n",
        "def print_vars():\n",
        "  \n",
        "    y = 20 # Local variable only accessible inside print_vars\n",
        "  \n",
        "    print(locals())\n",
        "\n",
        "print_vars()\n"
      ],
      "execution_count": 0,
      "outputs": [
        {
          "output_type": "stream",
          "text": [
            "{'y': 20}\n"
          ],
          "name": "stdout"
        }
      ]
    },
    {
      "metadata": {
        "id": "8aDuv3AZM8hJ",
        "colab_type": "text"
      },
      "cell_type": "markdown",
      "source": [
        "You could also print the globally defined variables which are the ones defined outside of the local scope"
      ]
    },
    {
      "metadata": {
        "id": "cN10N3N3NGMU",
        "colab_type": "code",
        "outputId": "e886f831-05fb-4d79-bb8d-2d67c7155853",
        "colab": {
          "base_uri": "https://localhost:8080/",
          "height": 71
        }
      },
      "cell_type": "code",
      "source": [
        "x = 10\n",
        "def print_vars():\n",
        "  \n",
        "    y = 20 # Local variable only accessible inside print_vars\n",
        "  \n",
        "    print(locals())\n",
        "    print(globals())\n",
        "    \n",
        "\n",
        "print_vars()\n"
      ],
      "execution_count": 0,
      "outputs": [
        {
          "output_type": "stream",
          "text": [
            "{'y': 20}\n",
            "{'__name__': '__main__', '__doc__': 'Automatically created module for IPython interactive environment', '__package__': None, '__loader__': None, '__spec__': None, '__builtin__': <module 'builtins' (built-in)>, '__builtins__': <module 'builtins' (built-in)>, '_ih': ['', 'x = 10\\nprint(x)\\nprint(y) \\ny = 20\\nprint(y)', 'x = 10\\n\\ndef print_vars():\\n  \\n    y = 20\\n  \\n    print(f\"x:{x}, y:{y}\")\\n\\nprint_vars()', 'x = 10 # global variable accessible to all code of module and any module that imports it\\n\\ndef print_vars():\\n  \\n    y = 20 # Local variable only accessible inside print_vars\\n  \\n    print(f\"print_vars -> x:{x}, y:{y}\")\\n\\nprint_vars()\\nprint(\"\")', 'x = 10 # global variable accessible to all code of module and any module that imports it\\n\\ndef print_vars():\\n  \\n    y = 20 # Local variable only accessible inside print_vars\\n  \\n    print(f\"print_vars() -> x:{x}, y:{y}\")\\n\\nprint_vars()\\nprint(f\"module -> x:{x}\")\\n#print(f\"module -> y:{y}\")', 'x = 10\\ndef print_vars():\\n  \\n    y = 20 # Local variable only accessible inside print_vars\\n  \\n    print(locals())\\n\\nprint_vars()', 'x = 10\\ndef print_vars():\\n  \\n    y = 20 # Local variable only accessible inside print_vars\\n  \\n    print(locals())\\n    print(globals())\\n    \\n\\nprint_vars()', 'x = 10\\ndef print_vars():\\n  \\n    y = 20 # Local variable only accessible inside print_vars\\n  \\n    print(locals())\\n    print(globals()[\"x\"])\\n    \\n\\nprint_vars()', 'x = 10\\ndef print_vars():\\n  \\n    y = 20 # Local variable only accessible inside print_vars\\n  \\n    print(locals())\\n    print(globals())\\n    \\n\\nprint_vars()', 'x = 10\\ndef print_vars():\\n  \\n    y = 20 # Local variable only accessible inside print_vars\\n  \\n    print(locals())\\n    print(globals())\\n    \\n\\nprint_vars()'], '_oh': {}, '_dh': ['/content'], '_sh': <module 'IPython.core.shadowns' from '/usr/local/lib/python3.6/dist-packages/IPython/core/shadowns.py'>, 'In': ['', 'x = 10\\nprint(x)\\nprint(y) \\ny = 20\\nprint(y)', 'x = 10\\n\\ndef print_vars():\\n  \\n    y = 20\\n  \\n    print(f\"x:{x}, y:{y}\")\\n\\nprint_vars()', 'x = 10 # global variable accessible to all code of module and any module that imports it\\n\\ndef print_vars():\\n  \\n    y = 20 # Local variable only accessible inside print_vars\\n  \\n    print(f\"print_vars -> x:{x}, y:{y}\")\\n\\nprint_vars()\\nprint(\"\")', 'x = 10 # global variable accessible to all code of module and any module that imports it\\n\\ndef print_vars():\\n  \\n    y = 20 # Local variable only accessible inside print_vars\\n  \\n    print(f\"print_vars() -> x:{x}, y:{y}\")\\n\\nprint_vars()\\nprint(f\"module -> x:{x}\")\\n#print(f\"module -> y:{y}\")', 'x = 10\\ndef print_vars():\\n  \\n    y = 20 # Local variable only accessible inside print_vars\\n  \\n    print(locals())\\n\\nprint_vars()', 'x = 10\\ndef print_vars():\\n  \\n    y = 20 # Local variable only accessible inside print_vars\\n  \\n    print(locals())\\n    print(globals())\\n    \\n\\nprint_vars()', 'x = 10\\ndef print_vars():\\n  \\n    y = 20 # Local variable only accessible inside print_vars\\n  \\n    print(locals())\\n    print(globals()[\"x\"])\\n    \\n\\nprint_vars()', 'x = 10\\ndef print_vars():\\n  \\n    y = 20 # Local variable only accessible inside print_vars\\n  \\n    print(locals())\\n    print(globals())\\n    \\n\\nprint_vars()', 'x = 10\\ndef print_vars():\\n  \\n    y = 20 # Local variable only accessible inside print_vars\\n  \\n    print(locals())\\n    print(globals())\\n    \\n\\nprint_vars()'], 'Out': {}, 'get_ipython': <bound method InteractiveShell.get_ipython of <google.colab._shell.Shell object at 0x7f29ab57f240>>, 'exit': <IPython.core.autocall.ZMQExitAutocall object at 0x7f29ab3416d8>, 'quit': <IPython.core.autocall.ZMQExitAutocall object at 0x7f29ab3416d8>, '_': '', '__': '', '___': '', '_i': 'x = 10\\ndef print_vars():\\n  \\n    y = 20 # Local variable only accessible inside print_vars\\n  \\n    print(locals())\\n    print(globals())\\n    \\n\\nprint_vars()', '_ii': 'x = 10\\ndef print_vars():\\n  \\n    y = 20 # Local variable only accessible inside print_vars\\n  \\n    print(locals())\\n    print(globals()[\"x\"])\\n    \\n\\nprint_vars()', '_iii': 'x = 10\\ndef print_vars():\\n  \\n    y = 20 # Local variable only accessible inside print_vars\\n  \\n    print(locals())\\n    print(globals())\\n    \\n\\nprint_vars()', '_i1': 'x = 10\\nprint(x)\\nprint(y) \\ny = 20\\nprint(y)', 'x': 10, '_i2': 'x = 10\\n\\ndef print_vars():\\n  \\n    y = 20\\n  \\n    print(f\"x:{x}, y:{y}\")\\n\\nprint_vars()', 'print_vars': <function print_vars at 0x7f2995cc61e0>, '_i3': 'x = 10 # global variable accessible to all code of module and any module that imports it\\n\\ndef print_vars():\\n  \\n    y = 20 # Local variable only accessible inside print_vars\\n  \\n    print(f\"print_vars -> x:{x}, y:{y}\")\\n\\nprint_vars()\\nprint(\"\")', '_i4': 'x = 10 # global variable accessible to all code of module and any module that imports it\\n\\ndef print_vars():\\n  \\n    y = 20 # Local variable only accessible inside print_vars\\n  \\n    print(f\"print_vars() -> x:{x}, y:{y}\")\\n\\nprint_vars()\\nprint(f\"module -> x:{x}\")\\n#print(f\"module -> y:{y}\")', '_i5': 'x = 10\\ndef print_vars():\\n  \\n    y = 20 # Local variable only accessible inside print_vars\\n  \\n    print(locals())\\n\\nprint_vars()', '_i6': 'x = 10\\ndef print_vars():\\n  \\n    y = 20 # Local variable only accessible inside print_vars\\n  \\n    print(locals())\\n    print(globals())\\n    \\n\\nprint_vars()', '_i7': 'x = 10\\ndef print_vars():\\n  \\n    y = 20 # Local variable only accessible inside print_vars\\n  \\n    print(locals())\\n    print(globals()[\"x\"])\\n    \\n\\nprint_vars()', '_i8': 'x = 10\\ndef print_vars():\\n  \\n    y = 20 # Local variable only accessible inside print_vars\\n  \\n    print(locals())\\n    print(globals())\\n    \\n\\nprint_vars()', '_i9': 'x = 10\\ndef print_vars():\\n  \\n    y = 20 # Local variable only accessible inside print_vars\\n  \\n    print(locals())\\n    print(globals())\\n    \\n\\nprint_vars()'}\n"
          ],
          "name": "stdout"
        }
      ]
    },
    {
      "metadata": {
        "id": "SSmT9V6kOZde",
        "colab_type": "text"
      },
      "cell_type": "markdown",
      "source": [
        "If you look hard enough you will see x is a dictionary item defined inside the globals() dictionary.\n",
        "\n",
        "If you declare a variable at the module level it joins globals() \n",
        "\n",
        "Declare a variables within a function and it joins the locals() for that function and is only acessible inside the function."
      ]
    },
    {
      "metadata": {
        "id": "gfn4En8zPUQV",
        "colab_type": "text"
      },
      "cell_type": "markdown",
      "source": [
        "### We always create local function variables, unless ...\n",
        "\n",
        "Variables assigned to inside functions are always created as new local variables \n"
      ]
    },
    {
      "metadata": {
        "id": "vhgrR_TE4vxX",
        "colab_type": "code",
        "outputId": "fa74d9c2-055d-4319-8623-56cec69bdf60",
        "colab": {
          "base_uri": "https://localhost:8080/",
          "height": 51
        }
      },
      "cell_type": "code",
      "source": [
        "x = 10\n",
        "def print_vars():\n",
        "  \n",
        "    x = 99 # Creates a new local x variable as wel as the global x variable \n",
        "    y = 20 # Local variable only accessible inside print_vars\n",
        "  \n",
        "    print(locals())\n",
        "    \n",
        "\n",
        "print_vars()\n",
        "print(f\"Global x is {x}\")\n"
      ],
      "execution_count": 0,
      "outputs": [
        {
          "output_type": "stream",
          "text": [
            "{'y': 20, 'x': 99}\n",
            "Global x is 10\n"
          ],
          "name": "stdout"
        }
      ]
    },
    {
      "metadata": {
        "id": "w2LFZbPu8whX",
        "colab_type": "text"
      },
      "cell_type": "markdown",
      "source": [
        "To allow a function to update a global variable you must declare the variable **global** inside the function"
      ]
    },
    {
      "metadata": {
        "id": "w05xnid78_JX",
        "colab_type": "code",
        "outputId": "c7eea197-35d5-4fca-83a9-2a72d2b862e8",
        "colab": {
          "base_uri": "https://localhost:8080/",
          "height": 51
        }
      },
      "cell_type": "code",
      "source": [
        "x = 10\n",
        "def print_vars():\n",
        "    global x\n",
        "    x = 99 # Creates a new local x variable as wel as the global x variable \n",
        "    y = 20 # Local variable only accessible inside print_vars\n",
        "  \n",
        "    print(locals())\n",
        "    \n",
        "\n",
        "print_vars()\n",
        "print(f\"Global x is {x}\")\n"
      ],
      "execution_count": 0,
      "outputs": [
        {
          "output_type": "stream",
          "text": [
            "{'y': 20}\n",
            "Global x is 99\n"
          ],
          "name": "stdout"
        }
      ]
    },
    {
      "metadata": {
        "id": "mZlUeuqMNB6i",
        "colab_type": "text"
      },
      "cell_type": "markdown",
      "source": [
        "## Functions and Variables\n",
        "\n",
        "If you print a function's usin just its name (withoy parantheses) it will display the name of the function and its address.\n",
        "\n"
      ]
    },
    {
      "metadata": {
        "id": "34uCkZ0TcLYg",
        "colab_type": "code",
        "outputId": "194003f0-430c-4293-8b55-b30932e2a429",
        "colab": {
          "base_uri": "https://localhost:8080/",
          "height": 51
        }
      },
      "cell_type": "code",
      "source": [
        "def say_hello():\n",
        "  print(\"Hello World\")\n",
        "\n",
        "say_hello()\n",
        "print(say_hello)"
      ],
      "execution_count": 0,
      "outputs": [
        {
          "output_type": "stream",
          "text": [
            "Hello World\n",
            "<function say_hello at 0x7f260be9ca60>\n"
          ],
          "name": "stdout"
        }
      ]
    },
    {
      "metadata": {
        "id": "U4woHl4Vc4FE",
        "colab_type": "text"
      },
      "cell_type": "markdown",
      "source": [
        "A function's name is essentially just a refernce to the function code and parameter list.\n",
        "\n",
        "Assigning a function name to another variable creates an alias for that function"
      ]
    },
    {
      "metadata": {
        "id": "IzqWgl58dHN9",
        "colab_type": "code",
        "outputId": "58611ec4-3352-4330-faab-0bad7d75bb3c",
        "colab": {
          "base_uri": "https://localhost:8080/",
          "height": 34
        }
      },
      "cell_type": "code",
      "source": [
        "def say_hello():\n",
        "  print(\"Hello World\")\n",
        "\n",
        "zzz = say_hello\n",
        "zzz() # You can invoke the function via its aliased reference"
      ],
      "execution_count": 0,
      "outputs": [
        {
          "output_type": "stream",
          "text": [
            "Hello World\n"
          ],
          "name": "stdout"
        }
      ]
    },
    {
      "metadata": {
        "id": "Auu7a_nndh1z",
        "colab_type": "text"
      },
      "cell_type": "markdown",
      "source": [
        "Because you can access a function via a reference variable you can pass function to ther functions.\n",
        "\n",
        "Below a list of data and the **add** function is passed into the **do_math** function. **do_math** then performs the math operation **add** on the list without actually knowing what kind of operatiion it is .\n",
        "\n",
        "Try changing the code to make **do_math** use the **multiply** instead of the **add**\n"
      ]
    },
    {
      "metadata": {
        "id": "4VKo6DHJdt8Z",
        "colab_type": "code",
        "outputId": "24b6e00d-2bef-4820-8524-62268534292e",
        "colab": {
          "base_uri": "https://localhost:8080/",
          "height": 68
        }
      },
      "cell_type": "code",
      "source": [
        "def do_math(data, operation):\n",
        "  for value in data:\n",
        "    result = operation(value, 2)\n",
        "    print(result)\n",
        "\n",
        "def add(p1, p2):\n",
        "  return p1 + p2\n",
        "\n",
        "def multiply(p1, p2):\n",
        "  return p1 * p2\n",
        "\n",
        "do_math([10, 20, 30], add)"
      ],
      "execution_count": 0,
      "outputs": [
        {
          "output_type": "stream",
          "text": [
            "12\n",
            "22\n",
            "32\n"
          ],
          "name": "stdout"
        }
      ]
    },
    {
      "metadata": {
        "id": "h8cXzxFK4vG8",
        "colab_type": "text"
      },
      "cell_type": "markdown",
      "source": [
        "## Lambda Expressions\n",
        "\n",
        "Lambda expressions are essentially very concise functions. The **add** function could be rewritten as a lambda using the following syntax\n",
        "\n",
        "\n",
        "\n"
      ]
    },
    {
      "metadata": {
        "id": "ePoUBeBHua0e",
        "colab_type": "code",
        "outputId": "512ed6d2-1bea-4567-a15b-423c3f0ab4d4",
        "colab": {
          "base_uri": "https://localhost:8080/",
          "height": 34
        }
      },
      "cell_type": "code",
      "source": [
        "add = lambda p1, p2: p1 + p2\n",
        "add(10, 2)\n"
      ],
      "execution_count": 0,
      "outputs": [
        {
          "output_type": "execute_result",
          "data": {
            "text/plain": [
              "12"
            ]
          },
          "metadata": {
            "tags": []
          },
          "execution_count": 3
        }
      ]
    },
    {
      "metadata": {
        "id": "YqIPJs75uoOC",
        "colab_type": "text"
      },
      "cell_type": "markdown",
      "source": [
        "The \n",
        "\n",
        "```\n",
        "lambda p1, p2: p1 + p2 \n",
        "```\n",
        "could be passed directly to **do_math**. Notice how the lambda doesn't require a **return** statement which is implicit\n",
        "\n",
        "The code block above could be rewritten using a lambda as:"
      ]
    },
    {
      "metadata": {
        "id": "zZ_vfvu_5M7_",
        "colab_type": "code",
        "outputId": "e0404e76-c833-4920-e779-91aeda14d452",
        "colab": {
          "base_uri": "https://localhost:8080/",
          "height": 68
        }
      },
      "cell_type": "code",
      "source": [
        "def do_math(data, operation):\n",
        "  for value in data:\n",
        "    result = operation(value, 2)\n",
        "    print(result)\n",
        "\n",
        "do_math([10, 20, 30], lambda p1, p2: p1+p2)"
      ],
      "execution_count": 0,
      "outputs": [
        {
          "output_type": "stream",
          "text": [
            "12\n",
            "22\n",
            "32\n"
          ],
          "name": "stdout"
        }
      ]
    },
    {
      "metadata": {
        "id": "TJ9om9c_59f_",
        "colab_type": "text"
      },
      "cell_type": "markdown",
      "source": [
        "## Nested Functions\n",
        "\n",
        "Functions can be nested inside of each other alowing a much reduced data scope to be produced.\n",
        "\n"
      ]
    },
    {
      "metadata": {
        "id": "HQk28D3l6QYf",
        "colab_type": "code",
        "outputId": "b8e14f20-e846-45d9-9d58-a5979ba2a1d3",
        "colab": {
          "base_uri": "https://localhost:8080/",
          "height": 34
        }
      },
      "cell_type": "code",
      "source": [
        "def outer_func():\n",
        "  \n",
        "  count = 1\n",
        "  \n",
        "  def inner_func():\n",
        "    print(count)\n",
        "  \n",
        "  inner_func()\n",
        "\n",
        "outer_func()"
      ],
      "execution_count": 0,
      "outputs": [
        {
          "output_type": "stream",
          "text": [
            "1\n"
          ],
          "name": "stdout"
        }
      ]
    },
    {
      "metadata": {
        "id": "9PvBpZ9E6txT",
        "colab_type": "text"
      },
      "cell_type": "markdown",
      "source": [
        "The count variable in the outer function can be accessed by the inner function. Functions can always see into their parent scope\n",
        "\n",
        "Variables declared in inner_func are only accessible there."
      ]
    },
    {
      "metadata": {
        "id": "4eW41wlLYNVG",
        "colab_type": "text"
      },
      "cell_type": "markdown",
      "source": [
        "### Non Local Nested Function Variables\n",
        "\n",
        "To update variables defined in an outer function from an inner function you must declare them as nonlocal rather thann global"
      ]
    },
    {
      "metadata": {
        "id": "AIEcXUOBYfvh",
        "colab_type": "code",
        "outputId": "23420883-4935-4977-bac7-1a978ee53d29",
        "colab": {
          "base_uri": "https://localhost:8080/",
          "height": 34
        }
      },
      "cell_type": "code",
      "source": [
        "def outer_func():\n",
        "  \n",
        "  count = 1\n",
        "  \n",
        "  def inner_func():\n",
        "    nonlocal count\n",
        "    count += 1\n",
        "    print(count)\n",
        "  \n",
        "  inner_func()\n",
        "\n",
        "outer_func()"
      ],
      "execution_count": 0,
      "outputs": [
        {
          "output_type": "stream",
          "text": [
            "2\n"
          ],
          "name": "stdout"
        }
      ]
    },
    {
      "metadata": {
        "id": "IYGB086gY5JQ",
        "colab_type": "text"
      },
      "cell_type": "markdown",
      "source": [
        "### Closures\n",
        "\n",
        "The scope created by a nested function can be retained by passing an internal refernce held within the function outside of the function\n"
      ]
    },
    {
      "metadata": {
        "id": "Jq5oxE0EZK7F",
        "colab_type": "code",
        "outputId": "0387d55b-1a3e-4e53-b79b-f118e0394359",
        "colab": {
          "base_uri": "https://localhost:8080/",
          "height": 68
        }
      },
      "cell_type": "code",
      "source": [
        "def outer_func():\n",
        "  \n",
        "  count = 1\n",
        "  \n",
        "  def inner_func():\n",
        "    nonlocal count\n",
        "    count += 1\n",
        "    print(count)\n",
        "  \n",
        "  return inner_func\n",
        "\n",
        "counter = outer_func()\n",
        "counter()\n",
        "counter()\n",
        "counter()\n"
      ],
      "execution_count": 0,
      "outputs": [
        {
          "output_type": "stream",
          "text": [
            "2\n",
            "3\n",
            "4\n"
          ],
          "name": "stdout"
        }
      ]
    },
    {
      "metadata": {
        "id": "QLuB9WHXZi7N",
        "colab_type": "text"
      },
      "cell_type": "markdown",
      "source": [
        "Above a reference to the inner function is passed outside and assigned to the the **counter** variable. That makes the **counter** variable a reference variable pointing to the **inner_func** function. The counter variable can therefore be used to invoke the inner function by just running **counter()**. The variable state of outer_func is kept alive between calls to **inner_func**"
      ]
    },
    {
      "metadata": {
        "id": "x8C6E3WtPK0N",
        "colab_type": "text"
      },
      "cell_type": "markdown",
      "source": [
        "# Classes and OOP\n",
        "\n",
        "When you bake a cake you probably use a recipe. The recipe describes the ingredients and the actions you need to take. Using the same recipe you can create multiple cakes all of which might occupy a different space on your kitchen table. A recipe is a blueprint or a template for ceaing multiple instances of cakes.\n",
        "\n",
        "Classes in Python allow us to define the blueprint for creating specific types of objects. We define the type, whetheritas a Car, a Customer or a Rocket.\n",
        "\n",
        "We also define the attributes for our classes. A car might have spee, registration, make and model attributes for example.\n",
        "\n",
        "A class in Python can be defined as simpley as below. (pass means do nothing)"
      ]
    },
    {
      "metadata": {
        "id": "Bi8ZbbJSwYDm",
        "colab_type": "code",
        "colab": {}
      },
      "cell_type": "code",
      "source": [
        "class Car:\n",
        "    \n",
        "    pass\n",
        "    \n",
        "   \n",
        "\n"
      ],
      "execution_count": 0,
      "outputs": []
    },
    {
      "metadata": {
        "id": "Xvol-PoNxWyB",
        "colab_type": "text"
      },
      "cell_type": "markdown",
      "source": [
        "To create an instance of Car (or bake a cake!). This create a new instance of a Car object in memory"
      ]
    },
    {
      "metadata": {
        "id": "OpcO_sO-xaY3",
        "colab_type": "code",
        "colab": {}
      },
      "cell_type": "code",
      "source": [
        "my_car = Car()\n"
      ],
      "execution_count": 0,
      "outputs": []
    },
    {
      "metadata": {
        "id": "L_t9kC2YxeKW",
        "colab_type": "text"
      },
      "cell_type": "markdown",
      "source": [
        "Fill in the cars details by attaching attributes:"
      ]
    },
    {
      "metadata": {
        "id": "4LAKOOjcxgq2",
        "colab_type": "code",
        "colab": {}
      },
      "cell_type": "code",
      "source": [
        "my_car.speed = 0\n",
        "my_car.registration = \"ABC123\"\n"
      ],
      "execution_count": 0,
      "outputs": []
    },
    {
      "metadata": {
        "id": "Oodq7TKUxjAf",
        "colab_type": "text"
      },
      "cell_type": "markdown",
      "source": [
        "Convert the car object into a string by printing it"
      ]
    },
    {
      "metadata": {
        "id": "wHxf9vldxsi9",
        "colab_type": "code",
        "outputId": "35c62c45-7e6a-4010-e686-66e46d6cb8ad",
        "colab": {
          "base_uri": "https://localhost:8080/",
          "height": 34
        }
      },
      "cell_type": "code",
      "source": [
        "print(my_car)"
      ],
      "execution_count": 0,
      "outputs": [
        {
          "output_type": "stream",
          "text": [
            "<__main__.Car object at 0x7f73af3a00b8>\n"
          ],
          "name": "stdout"
        }
      ]
    },
    {
      "metadata": {
        "id": "JTH8pptaxpsp",
        "colab_type": "text"
      },
      "cell_type": "markdown",
      "source": [
        "Car attributes are stored in a dictionary called \\__dict__"
      ]
    },
    {
      "metadata": {
        "id": "qrneZW2IE2Zn",
        "colab_type": "code",
        "outputId": "25002344-fd2b-4a04-c735-941402f1ed17",
        "colab": {
          "base_uri": "https://localhost:8080/",
          "height": 34
        }
      },
      "cell_type": "code",
      "source": [
        "my_car.__dict__"
      ],
      "execution_count": 0,
      "outputs": [
        {
          "output_type": "execute_result",
          "data": {
            "text/plain": [
              "{'registration': 'ABC123', 'speed': 0}"
            ]
          },
          "metadata": {
            "tags": []
          },
          "execution_count": 19
        }
      ]
    },
    {
      "metadata": {
        "id": "217z5sf9FUGW",
        "colab_type": "text"
      },
      "cell_type": "markdown",
      "source": [
        "## Initialization \n",
        "\n",
        "Defining a class's attributes first via a class initializer gives a consistent mechanism for creating an object and allows the class to act as a template for those objects \n",
        "\n",
        "By adding a \\__init__ method you can control how objects are initialised and allow them to have a consitent form\n",
        "\n",
        "The **self** parameter ini the __init__ method is a reference to the current object being processed and is passed in automatically by Python. All Python class instance methods will have a self parameter. You can use it to refer to the instance attributes of the object"
      ]
    },
    {
      "metadata": {
        "id": "KTjnD362FwrK",
        "colab_type": "code",
        "colab": {}
      },
      "cell_type": "code",
      "source": [
        "class Car:\n",
        "    \n",
        "    def __init__(self):\n",
        "        self.speed = 0 \n",
        "        self.registration = None\n",
        "     "
      ],
      "execution_count": 0,
      "outputs": []
    },
    {
      "metadata": {
        "id": "9ovNvvjIHn1x",
        "colab_type": "text"
      },
      "cell_type": "markdown",
      "source": [
        "## Converting objects to strings\n",
        "\n",
        "How do you convert a Car to a string. Python doesn't do a great job of it.\n",
        "\n",
        "We can override the **\\__str__** method to take control of the conversion"
      ]
    },
    {
      "metadata": {
        "id": "psYC8ZMLIAPl",
        "colab_type": "code",
        "outputId": "e979f422-6787-4658-8121-11d840987506",
        "colab": {
          "base_uri": "https://localhost:8080/",
          "height": 34
        }
      },
      "cell_type": "code",
      "source": [
        "class Car:\n",
        "    \n",
        "    def __init__(self):\n",
        "        self.speed = 0 \n",
        "        self.registration = None\n",
        "        \n",
        "    def __str__(self):\n",
        "      \n",
        "      return f\"Car with reg {self.registration} is travelling at {self.speed}mph\"\n",
        "\n",
        "\n",
        "my_car = Car()\n",
        "my_car.registration = \"ABC123\"\n",
        "my_car.speed = 25\n",
        "print(my_car)"
      ],
      "execution_count": 0,
      "outputs": [
        {
          "output_type": "stream",
          "text": [
            "Car with reg ABC123 is travelling at 25mph\n"
          ],
          "name": "stdout"
        }
      ]
    },
    {
      "metadata": {
        "id": "v3KBlexTqUTu",
        "colab_type": "text"
      },
      "cell_type": "markdown",
      "source": [
        "## Encapsulation\n",
        "\n",
        "Allowing direct access to an object's data from outside of the object isn't ideal. The user of the object could assign invalid data values to object's attributes.\n",
        "\n",
        "\n",
        "\n",
        "```\n",
        "my_car.speed = 10000\n",
        "```\n",
        "\n",
        "That's way faster than my actual car can travel!\n",
        "\n",
        "Encapsulation involves hiding data inside an object so that its only accessible to code within the object.\n",
        "\n",
        "To do that you have to initialise the object data with __ prefixing it\n",
        "\n",
        "```\n",
        "def __init__(self):\n",
        "    self.__speed = 0 \n",
        "    \n",
        "\n",
        "```\n",
        "\n",
        "When you do this you make the \\__speed hidden from external access.\n",
        "\n",
        "Your code will error if you try to access hidden attributes.\n",
        "\n",
        "\n",
        "\n",
        "\n"
      ]
    },
    {
      "metadata": {
        "id": "UizJYEOItvZ2",
        "colab_type": "code",
        "outputId": "e66b147c-ea25-4ef3-cbd3-e73532cd130a",
        "colab": {
          "base_uri": "https://localhost:8080/",
          "height": 197
        }
      },
      "cell_type": "code",
      "source": [
        "class Car:\n",
        "    \n",
        "    def __init__(self):\n",
        "        self.__speed = 0 \n",
        "        self.registration = None\n",
        "        \n",
        "    def __str__(self):\n",
        "      \n",
        "      return f\"Car with reg {self.registration} is travelling at {self.__speed}mph\"\n",
        "\n",
        "\n",
        "my_car = Car()\n",
        "print(my_car.__speed)"
      ],
      "execution_count": 0,
      "outputs": [
        {
          "output_type": "error",
          "ename": "AttributeError",
          "evalue": "ignored",
          "traceback": [
            "\u001b[0;31m---------------------------------------------------------------------------\u001b[0m",
            "\u001b[0;31mAttributeError\u001b[0m                            Traceback (most recent call last)",
            "\u001b[0;32m<ipython-input-7-c4b7de6f6066>\u001b[0m in \u001b[0;36m<module>\u001b[0;34m()\u001b[0m\n\u001b[1;32m     11\u001b[0m \u001b[0;34m\u001b[0m\u001b[0m\n\u001b[1;32m     12\u001b[0m \u001b[0mmy_car\u001b[0m \u001b[0;34m=\u001b[0m \u001b[0mCar\u001b[0m\u001b[0;34m(\u001b[0m\u001b[0;34m)\u001b[0m\u001b[0;34m\u001b[0m\u001b[0;34m\u001b[0m\u001b[0m\n\u001b[0;32m---> 13\u001b[0;31m \u001b[0mprint\u001b[0m\u001b[0;34m(\u001b[0m\u001b[0mmy_car\u001b[0m\u001b[0;34m.\u001b[0m\u001b[0m__speed\u001b[0m\u001b[0;34m)\u001b[0m\u001b[0;34m\u001b[0m\u001b[0;34m\u001b[0m\u001b[0m\n\u001b[0m",
            "\u001b[0;31mAttributeError\u001b[0m: 'Car' object has no attribute '__speed'"
          ]
        }
      ]
    },
    {
      "metadata": {
        "id": "MBo3COwJx1iF",
        "colab_type": "text"
      },
      "cell_type": "markdown",
      "source": [
        "### When hidden is not really hidden\n",
        "\n",
        "Hidden isn't really hidden in Python\n",
        "\n",
        "You can still access the \\__speed attribute using the \\__dict__ attribute of the object.\n",
        "\n",
        "To access it from \\__dict__ you have to prefix with the name of the class it belongs to\n",
        "\n",
        "\n",
        "\n",
        "```\n",
        "speed = my_car.__dict__[\"_Car__speed\"]\n",
        "```\n",
        "\n"
      ]
    },
    {
      "metadata": {
        "id": "9J11TuaVyUY4",
        "colab_type": "code",
        "outputId": "c5f66f2e-a4d4-4373-e1e0-8b43c53884b2",
        "colab": {
          "base_uri": "https://localhost:8080/",
          "height": 34
        }
      },
      "cell_type": "code",
      "source": [
        "class Car:\n",
        "    \n",
        "    def __init__(self):\n",
        "        self.__speed = 0 \n",
        "        self.registration = None\n",
        "        \n",
        "    def __str__(self):\n",
        "      \n",
        "      return f\"Car with reg {self.registration} is travelling at {self.__speed}mph\"\n",
        "\n",
        "\n",
        "my_car = Car()\n",
        "my_car.__dict__[\"_Car__speed\"] = 100000\n",
        "print(my_car)"
      ],
      "execution_count": 0,
      "outputs": [
        {
          "output_type": "stream",
          "text": [
            "Car with reg None is travelling at 100000mph\n"
          ],
          "name": "stdout"
        }
      ]
    },
    {
      "metadata": {
        "id": "qaNTkL2tuSmi",
        "colab_type": "text"
      },
      "cell_type": "markdown",
      "source": [
        "## Adding Functions to Classes\n",
        "\n",
        "Classes can contain functions( or methods). \n",
        "\n",
        "Here we are adding an **accelerate** method to the Car class"
      ]
    },
    {
      "metadata": {
        "id": "o2QYSvhtvguv",
        "colab_type": "code",
        "outputId": "b71b56a4-aa2a-47d5-baf4-5ea6de670623",
        "colab": {
          "base_uri": "https://localhost:8080/",
          "height": 34
        }
      },
      "cell_type": "code",
      "source": [
        "class Car:\n",
        "    \n",
        "    def __init__(self):\n",
        "        self.__speed = 0 \n",
        "        self.registration = None\n",
        "    \n",
        "    def accelerate(self, amount):\n",
        "      \n",
        "      self.__speed += amount\n",
        "      \n",
        "      \n",
        "    def __str__(self):\n",
        "      \n",
        "      return f\"Car with reg {self.registration} is travelling at {self.__speed}mph\"\n",
        "\n",
        "\n",
        "my_car = Car()\n",
        "my_car.accelerate(5)\n",
        "print(my_car)"
      ],
      "execution_count": 0,
      "outputs": [
        {
          "output_type": "stream",
          "text": [
            "Car with reg None is travelling at 5mph\n"
          ],
          "name": "stdout"
        }
      ]
    },
    {
      "metadata": {
        "id": "78OM9nzs15AU",
        "colab_type": "text"
      },
      "cell_type": "markdown",
      "source": [
        "## Properties\n",
        "\n",
        "To allow controlled access to an object's hidden attributes you can use functions that have been wrapped into specific data accessor called a property\n",
        "\n",
        "\n",
        "\n",
        "```\n",
        "speed = property()\n",
        "speed = speed.getter(get_speed)\n",
        "speed = speed.setter(set_speed)\n",
        "\n",
        "```\n",
        "\n",
        "\n"
      ]
    },
    {
      "metadata": {
        "id": "TBcLNJG9BfHe",
        "colab_type": "code",
        "colab": {
          "base_uri": "https://localhost:8080/",
          "height": 34
        },
        "outputId": "3613fc29-0243-4057-86d5-fd0c41cf23d0"
      },
      "cell_type": "code",
      "source": [
        "class Car:\n",
        "    \n",
        "    \n",
        "    \n",
        "    def get_speed(self):\n",
        "      return self.__speed\n",
        "    \n",
        "    def set_speed(self, speed):\n",
        "      self.__speed = speed\n",
        "    \n",
        "    \n",
        "    speed = property()\n",
        "    speed = speed.getter(get_speed)\n",
        "    speed = speed.setter(set_speed)\n",
        "    \n",
        "    def __init__(self):\n",
        "        self.__speed = 0 \n",
        "        self.registration = None\n",
        "    \n",
        "    def accelerate(self, amount):\n",
        "      \n",
        "      self.__speed += amount\n",
        "      \n",
        "      \n",
        "    def __str__(self):\n",
        "      \n",
        "      return f\"Car with reg {self.registration} is travelling at {self.__speed}mph\"\n",
        "\n",
        "\n",
        "my_car = Car()\n",
        "my_car.speed = 25\n",
        "my_car.accelerate(5)\n",
        "print(my_car.speed)"
      ],
      "execution_count": 6,
      "outputs": [
        {
          "output_type": "stream",
          "text": [
            "30\n"
          ],
          "name": "stdout"
        }
      ]
    },
    {
      "metadata": {
        "id": "rb2pCTlGanX0",
        "colab_type": "text"
      },
      "cell_type": "markdown",
      "source": [
        "### Using Decorators to create Properties\n",
        "\n",
        "You can achieve the same result using Python's decorator syntax. It makes the generation of properties a lot simpler than the above code\n",
        "\n",
        "\n",
        "\n",
        "```\n",
        "@property\n",
        "def speed(self):\n",
        "    return self.__speed\n",
        "```\n",
        "\n",
        "Produces a property called speed with a getter automatically defined\n",
        "\n",
        "The setter is defined using:\n",
        "\n",
        "```\n",
        "@speed.setter\n",
        "def speed(self):\n",
        "    return self.__speed\n",
        "```\n"
      ]
    },
    {
      "metadata": {
        "id": "s5VGGjIebmO7",
        "colab_type": "code",
        "colab": {
          "base_uri": "https://localhost:8080/",
          "height": 34
        },
        "outputId": "485469ec-98f1-4d2c-9e85-238d8c108831"
      },
      "cell_type": "code",
      "source": [
        "class Car:\n",
        "    \n",
        "    def __init__(self):\n",
        "        self.__speed = 0 \n",
        "        self.registration = None\n",
        "    \n",
        "    def accelerate(self, amount):\n",
        "      \n",
        "      self.__speed += amount\n",
        "      \n",
        "    @property\n",
        "    def speed(self):\n",
        "      return self.__speed\n",
        "    \n",
        "    @speed.setter\n",
        "    def speed(self, speed):\n",
        "      self.__speed = speed\n",
        "\n",
        "      \n",
        "    def __str__(self):\n",
        "      \n",
        "      return f\"Car with reg {self.registration} is travelling at {self.__speed}mph\"\n",
        "\n",
        "\n",
        "my_car = Car()\n",
        "my_car.speed = 25\n",
        "my_car.accelerate(5)\n",
        "print(my_car.speed)"
      ],
      "execution_count": 7,
      "outputs": [
        {
          "output_type": "stream",
          "text": [
            "30\n"
          ],
          "name": "stdout"
        }
      ]
    },
    {
      "metadata": {
        "id": "Y9qmalIyb8A8",
        "colab_type": "text"
      },
      "cell_type": "markdown",
      "source": [
        "### Why bother? -> Encapsulation\n",
        "\n",
        "If you use properties you can control access to data via code. That means you can retain control of how the data inside an object is manipulated from the inside and prevent (as much as is possible) direct manipulation from outside of the object\n",
        "\n",
        "Below we are using the setter to prevent an invalid speed being assigned to the internal speed variable\n",
        "\n",
        "```\n",
        "@speed.setter\n",
        "def speed(self, speed):\n",
        "    if speed <= 120:\n",
        "        self.__speed = speed\n",
        "```\n"
      ]
    },
    {
      "metadata": {
        "id": "FfVsFeaXPQR-",
        "colab_type": "text"
      },
      "cell_type": "markdown",
      "source": [
        "# Modules and Packages"
      ]
    },
    {
      "metadata": {
        "id": "X64tnNNePBgI",
        "colab_type": "text"
      },
      "cell_type": "markdown",
      "source": [
        "# Data Storage and File Handling"
      ]
    }
  ]
}